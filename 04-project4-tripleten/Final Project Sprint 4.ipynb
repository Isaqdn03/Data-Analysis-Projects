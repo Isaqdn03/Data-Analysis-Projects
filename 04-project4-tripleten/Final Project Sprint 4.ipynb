{
 "cells": [
  {
   "cell_type": "markdown",
   "metadata": {
    "id": "eAkbw7Ueuj8X"
   },
   "source": [
    "# Qual é o melhor plano?\n",
    "\n",
    "Você trabalha como analista para a empresa de telecomunicações Megaline. A empresa oferece aos clientes dois planos pré-pagos: Surf e Ultimate. O departamento comercial quer saber qual dos planos gera mais receita para ajustar o orçamento de publicidade.\n",
    "\n",
    "Você vai realizar uma análise preliminar dos planos com base em uma pequena seleção de clientes. Você terá dados de 500 clientes da Megaline: que clientes são, de onde eles são, qual plano usam e o número de chamadas e mensagens realizadas em 2018. Seu trabalho é analisar o comportamento dos clientes e determinar qual plano pré-pago gera mais receita."
   ]
  },
  {
   "cell_type": "markdown",
   "metadata": {
    "id": "Z_iOKMX_uj8a"
   },
   "source": [
    "[Fornecemos alguns comentários para guiar sua linha de raciocínio enquanto você trabalha neste projeto. Entretanto, certifique-se de remover todos os comentários entre colchetes antes de enviar o projeto.]\n",
    "\n",
    "[Antes de começar a análise dos dados, explique com suas próprias palavras o propósito do projeto e as ações que planeja realizar.]\n",
    "\n",
    "[Tenha em mente que estudar, modificar e analisar dados é um processo iterativo. É normal retornar a etapas anteriores e corrigir/expandir algo para permitir as próximas etapas.]"
   ]
  },
  {
   "cell_type": "markdown",
   "metadata": {},
   "source": [
    "O objetivo deste projeto é analisar dados de clientes e planos pré-pagos de uma operadora de telecomunicações, visando compreender os comportamentos de consumo e identificar o plano que gera mais receita para a empresa"
   ]
  },
  {
   "cell_type": "markdown",
   "metadata": {
    "id": "lnomf-3Xuj8b"
   },
   "source": [
    "## Inicialização"
   ]
  },
  {
   "cell_type": "code",
   "execution_count": 3,
   "metadata": {
    "id": "JdJusn5ouj8c"
   },
   "outputs": [],
   "source": [
    "# Carregando todas as bibliotecas\n",
    "\n",
    "import pandas as pd\n",
    "import numpy as np\n",
    "from matplotlib import pyplot as plt\n",
    "import seaborn as sns\n",
    "from scipy import stats as st"
   ]
  },
  {
   "cell_type": "markdown",
   "metadata": {
    "id": "rzqsCrgquj8d"
   },
   "source": [
    "## Carregue os dados"
   ]
  },
  {
   "cell_type": "code",
   "execution_count": 4,
   "metadata": {
    "id": "HmzmQRXIuj8e"
   },
   "outputs": [],
   "source": [
    "# Carregue os arquivos de dados em diferentes DataFrames\n",
    "\n",
    "df_calls = pd.read_csv('Datasets/megaline_calls.csv')\n",
    "df_internet = pd.read_csv('Datasets/megaline_internet.csv')\n",
    "df_messages = pd.read_csv('Datasets/megaline_messages.csv')\n",
    "df_plans = pd.read_csv('Datasets/megaline_plans.csv')\n",
    "df_users = pd.read_csv('Datasets/megaline_users.csv')"
   ]
  },
  {
   "cell_type": "markdown",
   "metadata": {
    "id": "XQh-EeiIuj8e"
   },
   "source": [
    "## Prepare os dados"
   ]
  },
  {
   "cell_type": "markdown",
   "metadata": {
    "id": "TlZUw_Cyuj8f"
   },
   "source": [
    "## Planos"
   ]
  },
  {
   "cell_type": "code",
   "execution_count": 5,
   "metadata": {
    "id": "x9qB5mAOuj8f"
   },
   "outputs": [
    {
     "name": "stdout",
     "output_type": "stream",
     "text": [
      "<class 'pandas.core.frame.DataFrame'>\n",
      "RangeIndex: 2 entries, 0 to 1\n",
      "Data columns (total 8 columns):\n",
      " #   Column                 Non-Null Count  Dtype  \n",
      "---  ------                 --------------  -----  \n",
      " 0   messages_included      2 non-null      int64  \n",
      " 1   mb_per_month_included  2 non-null      int64  \n",
      " 2   minutes_included       2 non-null      int64  \n",
      " 3   usd_monthly_pay        2 non-null      int64  \n",
      " 4   usd_per_gb             2 non-null      int64  \n",
      " 5   usd_per_message        2 non-null      float64\n",
      " 6   usd_per_minute         2 non-null      float64\n",
      " 7   plan_name              2 non-null      object \n",
      "dtypes: float64(2), int64(5), object(1)\n",
      "memory usage: 260.0+ bytes\n",
      "None\n",
      "--------------------------------------------------\n",
      "       messages_included  mb_per_month_included  minutes_included  \\\n",
      "count           2.000000               2.000000          2.000000   \n",
      "mean          525.000000           23040.000000       1750.000000   \n",
      "std           671.751442           10861.160159       1767.766953   \n",
      "min            50.000000           15360.000000        500.000000   \n",
      "25%           287.500000           19200.000000       1125.000000   \n",
      "50%           525.000000           23040.000000       1750.000000   \n",
      "75%           762.500000           26880.000000       2375.000000   \n",
      "max          1000.000000           30720.000000       3000.000000   \n",
      "\n",
      "       usd_monthly_pay  usd_per_gb  usd_per_message  usd_per_minute  \n",
      "count         2.000000     2.00000         2.000000        2.000000  \n",
      "mean         45.000000     8.50000         0.020000        0.020000  \n",
      "std          35.355339     2.12132         0.014142        0.014142  \n",
      "min          20.000000     7.00000         0.010000        0.010000  \n",
      "25%          32.500000     7.75000         0.015000        0.015000  \n",
      "50%          45.000000     8.50000         0.020000        0.020000  \n",
      "75%          57.500000     9.25000         0.025000        0.025000  \n",
      "max          70.000000    10.00000         0.030000        0.030000  \n"
     ]
    }
   ],
   "source": [
    "# Imprima informações gerais/resumo sobre o DataFrame dos planos\n",
    "print(df_plans.info())\n",
    "print('-' * 50)\n",
    "print(df_plans.describe())"
   ]
  },
  {
   "cell_type": "code",
   "execution_count": 6,
   "metadata": {
    "id": "9MRo7tyVuj8f"
   },
   "outputs": [
    {
     "data": {
      "text/html": [
       "<div>\n",
       "<style scoped>\n",
       "    .dataframe tbody tr th:only-of-type {\n",
       "        vertical-align: middle;\n",
       "    }\n",
       "\n",
       "    .dataframe tbody tr th {\n",
       "        vertical-align: top;\n",
       "    }\n",
       "\n",
       "    .dataframe thead th {\n",
       "        text-align: right;\n",
       "    }\n",
       "</style>\n",
       "<table border=\"1\" class=\"dataframe\">\n",
       "  <thead>\n",
       "    <tr style=\"text-align: right;\">\n",
       "      <th></th>\n",
       "      <th>messages_included</th>\n",
       "      <th>mb_per_month_included</th>\n",
       "      <th>minutes_included</th>\n",
       "      <th>usd_monthly_pay</th>\n",
       "      <th>usd_per_gb</th>\n",
       "      <th>usd_per_message</th>\n",
       "      <th>usd_per_minute</th>\n",
       "      <th>plan_name</th>\n",
       "    </tr>\n",
       "  </thead>\n",
       "  <tbody>\n",
       "    <tr>\n",
       "      <th>0</th>\n",
       "      <td>50</td>\n",
       "      <td>15360</td>\n",
       "      <td>500</td>\n",
       "      <td>20</td>\n",
       "      <td>10</td>\n",
       "      <td>0.03</td>\n",
       "      <td>0.03</td>\n",
       "      <td>surf</td>\n",
       "    </tr>\n",
       "    <tr>\n",
       "      <th>1</th>\n",
       "      <td>1000</td>\n",
       "      <td>30720</td>\n",
       "      <td>3000</td>\n",
       "      <td>70</td>\n",
       "      <td>7</td>\n",
       "      <td>0.01</td>\n",
       "      <td>0.01</td>\n",
       "      <td>ultimate</td>\n",
       "    </tr>\n",
       "  </tbody>\n",
       "</table>\n",
       "</div>"
      ],
      "text/plain": [
       "   messages_included  mb_per_month_included  minutes_included  \\\n",
       "0                 50                  15360               500   \n",
       "1               1000                  30720              3000   \n",
       "\n",
       "   usd_monthly_pay  usd_per_gb  usd_per_message  usd_per_minute plan_name  \n",
       "0               20          10             0.03            0.03      surf  \n",
       "1               70           7             0.01            0.01  ultimate  "
      ]
     },
     "execution_count": 6,
     "metadata": {},
     "output_type": "execute_result"
    }
   ],
   "source": [
    "# Imprima uma amostra de dados dos planos\n",
    "\n",
    "df_plans.head()"
   ]
  },
  {
   "cell_type": "markdown",
   "metadata": {
    "id": "P8hzr-lquj8f"
   },
   "source": [
    "Analisando os dados do DataFrame de planos:\n",
    "\n",
    "- O DataFrame possui 2 linhas e 8 colunas, representando os dois planos disponíveis (Surf e Ultimate)\n",
    "- Não há valores nulos em nenhuma coluna\n",
    "- Os tipos de dados parecem adequados:\n",
    "  - 'plan_name': object (string) - adequado para nomes\n",
    "  - Demais colunas: int64 - adequado para valores numéricos de minutos, mensagens e GB"
   ]
  },
  {
   "cell_type": "markdown",
   "metadata": {
    "id": "KXtaxmKsuj8f"
   },
   "source": [
    "## Corrija os dados"
   ]
  },
  {
   "cell_type": "code",
   "execution_count": 7,
   "metadata": {},
   "outputs": [
    {
     "name": "stdout",
     "output_type": "stream",
     "text": [
      "Valores nulos no DataFrame de planos:\n",
      "messages_included        0\n",
      "mb_per_month_included    0\n",
      "minutes_included         0\n",
      "usd_monthly_pay          0\n",
      "usd_per_gb               0\n",
      "usd_per_message          0\n",
      "usd_per_minute           0\n",
      "plan_name                0\n",
      "dtype: int64\n",
      "\n",
      "Valores duplicados:\n",
      "0\n",
      "\n",
      "Tipos de dados dos planos:\n",
      "messages_included          int64\n",
      "mb_per_month_included      int64\n",
      "minutes_included           int64\n",
      "usd_monthly_pay            int64\n",
      "usd_per_gb                 int64\n",
      "usd_per_message          float64\n",
      "usd_per_minute           float64\n",
      "plan_name                 object\n",
      "dtype: object\n",
      "\n",
      "O DataFrame de planos não necessita correções.\n"
     ]
    }
   ],
   "source": [
    "# Verificar valores nulos no DataFrame de planos\n",
    "print(\"Valores nulos no DataFrame de planos:\")\n",
    "print(df_plans.isnull().sum())\n",
    "\n",
    "print(\"\\nValores duplicados:\")\n",
    "print(df_plans.duplicated().sum())\n",
    "\n",
    "# Verificar tipos de dados dos planos\n",
    "print(\"\\nTipos de dados dos planos:\")\n",
    "print(df_plans.dtypes)\n",
    "\n",
    "# Como observado anteriormente, não há necessidade de correções no df_plans\n",
    "# pois não existem valores nulos e os tipos de dados estão adequados\n",
    "print(\"\\nO DataFrame de planos não necessita correções.\")\n"
   ]
  },
  {
   "cell_type": "markdown",
   "metadata": {
    "id": "kLcdKu6Duj8g"
   },
   "source": [
    "## Enriqueça os dados"
   ]
  },
  {
   "cell_type": "code",
   "execution_count": null,
   "metadata": {
    "id": "6j4XA9_ruj8g"
   },
   "outputs": [],
   "source": []
  },
  {
   "cell_type": "markdown",
   "metadata": {
    "id": "YJg2O9qjuj8g"
   },
   "source": [
    "## Usuários"
   ]
  },
  {
   "cell_type": "code",
   "execution_count": 8,
   "metadata": {
    "id": "7JzxwD2juj8g"
   },
   "outputs": [
    {
     "name": "stdout",
     "output_type": "stream",
     "text": [
      "<class 'pandas.core.frame.DataFrame'>\n",
      "RangeIndex: 500 entries, 0 to 499\n",
      "Data columns (total 8 columns):\n",
      " #   Column      Non-Null Count  Dtype \n",
      "---  ------      --------------  ----- \n",
      " 0   user_id     500 non-null    int64 \n",
      " 1   first_name  500 non-null    object\n",
      " 2   last_name   500 non-null    object\n",
      " 3   age         500 non-null    int64 \n",
      " 4   city        500 non-null    object\n",
      " 5   reg_date    500 non-null    object\n",
      " 6   plan        500 non-null    object\n",
      " 7   churn_date  34 non-null     object\n",
      "dtypes: int64(2), object(6)\n",
      "memory usage: 31.4+ KB\n",
      "None\n",
      "--------------------------------------------------\n",
      "           user_id         age\n",
      "count   500.000000  500.000000\n",
      "mean   1249.500000   45.486000\n",
      "std     144.481833   16.972269\n",
      "min    1000.000000   18.000000\n",
      "25%    1124.750000   30.000000\n",
      "50%    1249.500000   46.000000\n",
      "75%    1374.250000   61.000000\n",
      "max    1499.000000   75.000000\n"
     ]
    }
   ],
   "source": [
    "# Imprima informações gerais/resumo sobre o DataFrame dos usuários\n",
    "print(df_users.info())\n",
    "print('-' * 50)\n",
    "print(df_users.describe())"
   ]
  },
  {
   "cell_type": "code",
   "execution_count": 9,
   "metadata": {
    "id": "5KZ8XmD8uj8g"
   },
   "outputs": [
    {
     "data": {
      "text/html": [
       "<div>\n",
       "<style scoped>\n",
       "    .dataframe tbody tr th:only-of-type {\n",
       "        vertical-align: middle;\n",
       "    }\n",
       "\n",
       "    .dataframe tbody tr th {\n",
       "        vertical-align: top;\n",
       "    }\n",
       "\n",
       "    .dataframe thead th {\n",
       "        text-align: right;\n",
       "    }\n",
       "</style>\n",
       "<table border=\"1\" class=\"dataframe\">\n",
       "  <thead>\n",
       "    <tr style=\"text-align: right;\">\n",
       "      <th></th>\n",
       "      <th>user_id</th>\n",
       "      <th>first_name</th>\n",
       "      <th>last_name</th>\n",
       "      <th>age</th>\n",
       "      <th>city</th>\n",
       "      <th>reg_date</th>\n",
       "      <th>plan</th>\n",
       "      <th>churn_date</th>\n",
       "    </tr>\n",
       "  </thead>\n",
       "  <tbody>\n",
       "    <tr>\n",
       "      <th>409</th>\n",
       "      <td>1409</td>\n",
       "      <td>Elvis</td>\n",
       "      <td>Vargas</td>\n",
       "      <td>38</td>\n",
       "      <td>Charlotte-Concord-Gastonia, NC-SC MSA</td>\n",
       "      <td>2018-10-04</td>\n",
       "      <td>ultimate</td>\n",
       "      <td>NaN</td>\n",
       "    </tr>\n",
       "    <tr>\n",
       "      <th>332</th>\n",
       "      <td>1332</td>\n",
       "      <td>Lucas</td>\n",
       "      <td>Saunders</td>\n",
       "      <td>37</td>\n",
       "      <td>Atlanta-Sandy Springs-Roswell, GA MSA</td>\n",
       "      <td>2018-03-12</td>\n",
       "      <td>surf</td>\n",
       "      <td>NaN</td>\n",
       "    </tr>\n",
       "    <tr>\n",
       "      <th>226</th>\n",
       "      <td>1226</td>\n",
       "      <td>Denver</td>\n",
       "      <td>Harrell</td>\n",
       "      <td>64</td>\n",
       "      <td>Riverside-San Bernardino-Ontario, CA MSA</td>\n",
       "      <td>2018-03-15</td>\n",
       "      <td>ultimate</td>\n",
       "      <td>NaN</td>\n",
       "    </tr>\n",
       "    <tr>\n",
       "      <th>401</th>\n",
       "      <td>1401</td>\n",
       "      <td>Charmain</td>\n",
       "      <td>Bryant</td>\n",
       "      <td>67</td>\n",
       "      <td>Richmond, VA MSA</td>\n",
       "      <td>2018-08-24</td>\n",
       "      <td>ultimate</td>\n",
       "      <td>NaN</td>\n",
       "    </tr>\n",
       "    <tr>\n",
       "      <th>148</th>\n",
       "      <td>1148</td>\n",
       "      <td>Dwana</td>\n",
       "      <td>Moore</td>\n",
       "      <td>67</td>\n",
       "      <td>Columbia, SC MSA</td>\n",
       "      <td>2018-11-04</td>\n",
       "      <td>surf</td>\n",
       "      <td>NaN</td>\n",
       "    </tr>\n",
       "    <tr>\n",
       "      <th>37</th>\n",
       "      <td>1037</td>\n",
       "      <td>Reena</td>\n",
       "      <td>Velazquez</td>\n",
       "      <td>20</td>\n",
       "      <td>Seattle-Tacoma-Bellevue, WA MSA</td>\n",
       "      <td>2018-08-11</td>\n",
       "      <td>ultimate</td>\n",
       "      <td>NaN</td>\n",
       "    </tr>\n",
       "    <tr>\n",
       "      <th>269</th>\n",
       "      <td>1269</td>\n",
       "      <td>Irving</td>\n",
       "      <td>Thompson</td>\n",
       "      <td>39</td>\n",
       "      <td>Dallas-Fort Worth-Arlington, TX MSA</td>\n",
       "      <td>2018-09-13</td>\n",
       "      <td>ultimate</td>\n",
       "      <td>2018-12-15</td>\n",
       "    </tr>\n",
       "    <tr>\n",
       "      <th>16</th>\n",
       "      <td>1016</td>\n",
       "      <td>Jann</td>\n",
       "      <td>Salinas</td>\n",
       "      <td>30</td>\n",
       "      <td>Fresno, CA MSA</td>\n",
       "      <td>2018-10-25</td>\n",
       "      <td>surf</td>\n",
       "      <td>NaN</td>\n",
       "    </tr>\n",
       "    <tr>\n",
       "      <th>471</th>\n",
       "      <td>1471</td>\n",
       "      <td>Britni</td>\n",
       "      <td>Mitchell</td>\n",
       "      <td>59</td>\n",
       "      <td>Richmond, VA MSA</td>\n",
       "      <td>2018-10-13</td>\n",
       "      <td>surf</td>\n",
       "      <td>NaN</td>\n",
       "    </tr>\n",
       "    <tr>\n",
       "      <th>177</th>\n",
       "      <td>1177</td>\n",
       "      <td>Seymour</td>\n",
       "      <td>Anderson</td>\n",
       "      <td>33</td>\n",
       "      <td>Seattle-Tacoma-Bellevue, WA MSA</td>\n",
       "      <td>2018-11-09</td>\n",
       "      <td>surf</td>\n",
       "      <td>NaN</td>\n",
       "    </tr>\n",
       "  </tbody>\n",
       "</table>\n",
       "</div>"
      ],
      "text/plain": [
       "     user_id first_name  last_name  age  \\\n",
       "409     1409      Elvis     Vargas   38   \n",
       "332     1332      Lucas   Saunders   37   \n",
       "226     1226     Denver    Harrell   64   \n",
       "401     1401   Charmain     Bryant   67   \n",
       "148     1148      Dwana      Moore   67   \n",
       "37      1037      Reena  Velazquez   20   \n",
       "269     1269     Irving   Thompson   39   \n",
       "16      1016       Jann    Salinas   30   \n",
       "471     1471     Britni   Mitchell   59   \n",
       "177     1177    Seymour   Anderson   33   \n",
       "\n",
       "                                         city    reg_date      plan  \\\n",
       "409     Charlotte-Concord-Gastonia, NC-SC MSA  2018-10-04  ultimate   \n",
       "332     Atlanta-Sandy Springs-Roswell, GA MSA  2018-03-12      surf   \n",
       "226  Riverside-San Bernardino-Ontario, CA MSA  2018-03-15  ultimate   \n",
       "401                          Richmond, VA MSA  2018-08-24  ultimate   \n",
       "148                          Columbia, SC MSA  2018-11-04      surf   \n",
       "37            Seattle-Tacoma-Bellevue, WA MSA  2018-08-11  ultimate   \n",
       "269       Dallas-Fort Worth-Arlington, TX MSA  2018-09-13  ultimate   \n",
       "16                             Fresno, CA MSA  2018-10-25      surf   \n",
       "471                          Richmond, VA MSA  2018-10-13      surf   \n",
       "177           Seattle-Tacoma-Bellevue, WA MSA  2018-11-09      surf   \n",
       "\n",
       "     churn_date  \n",
       "409         NaN  \n",
       "332         NaN  \n",
       "226         NaN  \n",
       "401         NaN  \n",
       "148         NaN  \n",
       "37          NaN  \n",
       "269  2018-12-15  \n",
       "16          NaN  \n",
       "471         NaN  \n",
       "177         NaN  "
      ]
     },
     "execution_count": 9,
     "metadata": {},
     "output_type": "execute_result"
    }
   ],
   "source": [
    "# Imprima uma amostra de dados dos usuários\n",
    "\n",
    "df_users.sample(10)"
   ]
  },
  {
   "cell_type": "markdown",
   "metadata": {
    "id": "XGCgkfLvuj8h"
   },
   "source": [
    "O DataFrame df_users está bem estruturado, apesar de algumas colunas necessitarem de atenção."
   ]
  },
  {
   "cell_type": "markdown",
   "metadata": {
    "id": "ppiEfe3luj8i"
   },
   "source": [
    "### Corrija os dados"
   ]
  },
  {
   "cell_type": "code",
   "execution_count": 10,
   "metadata": {
    "id": "Oa1XFooouj8j"
   },
   "outputs": [
    {
     "name": "stdout",
     "output_type": "stream",
     "text": [
      "Valores nulos no DataFrame de planos:\n",
      "user_id         0\n",
      "first_name      0\n",
      "last_name       0\n",
      "age             0\n",
      "city            0\n",
      "reg_date        0\n",
      "plan            0\n",
      "churn_date    466\n",
      "dtype: int64\n",
      "\n",
      "Valores duplicados:\n",
      "0\n",
      "\n",
      "Tipos de dados dos planos:\n",
      "user_id        int64\n",
      "first_name    object\n",
      "last_name     object\n",
      "age            int64\n",
      "city          object\n",
      "reg_date      object\n",
      "plan          object\n",
      "churn_date    object\n",
      "dtype: object\n"
     ]
    }
   ],
   "source": [
    "# Verificando se há valores ausentes\n",
    "\n",
    "# Verificar valores nulos no DataFrame de planos\n",
    "print(\"Valores nulos no DataFrame de planos:\")\n",
    "print(df_users.isnull().sum())\n",
    "\n",
    "print(\"\\nValores duplicados:\")\n",
    "print(df_users.duplicated().sum())\n",
    "\n",
    "# Verificar tipos de dados dos planos\n",
    "print(\"\\nTipos de dados dos planos:\")\n",
    "print(df_users.dtypes)"
   ]
  },
  {
   "cell_type": "markdown",
   "metadata": {},
   "source": [
    " O valor ausente, significa que o plano estava ativo quando o banco de dados foi extraído."
   ]
  },
  {
   "cell_type": "code",
   "execution_count": 11,
   "metadata": {},
   "outputs": [
    {
     "name": "stdout",
     "output_type": "stream",
     "text": [
      "      reg_date churn_date\n",
      "0   2018-12-24        NaT\n",
      "1   2018-08-13        NaT\n",
      "2   2018-10-21        NaT\n",
      "3   2018-01-28        NaT\n",
      "4   2018-05-23        NaT\n",
      "..         ...        ...\n",
      "495 2018-09-04        NaT\n",
      "496 2018-02-20        NaT\n",
      "497 2018-12-10        NaT\n",
      "498 2018-02-04        NaT\n",
      "499 2018-05-06        NaT\n",
      "\n",
      "[500 rows x 2 columns]\n"
     ]
    }
   ],
   "source": [
    "# transformando as colunas reg_date e churn_date em datetime (corrigindo dados)\n",
    "\n",
    "df_users['reg_date'] = pd.to_datetime(df_users['reg_date'], format= '%Y-%m-%d')\n",
    "df_users['churn_date'] = pd.to_datetime(df_users['churn_date'], errors= 'coerce', format= '%Y-%m-%d')\n",
    "\n",
    "print(df_users[['reg_date','churn_date']])"
   ]
  },
  {
   "cell_type": "code",
   "execution_count": 12,
   "metadata": {},
   "outputs": [
    {
     "name": "stdout",
     "output_type": "stream",
     "text": [
      "<class 'pandas.core.frame.DataFrame'>\n",
      "RangeIndex: 500 entries, 0 to 499\n",
      "Data columns (total 8 columns):\n",
      " #   Column      Non-Null Count  Dtype         \n",
      "---  ------      --------------  -----         \n",
      " 0   user_id     500 non-null    int64         \n",
      " 1   first_name  500 non-null    object        \n",
      " 2   last_name   500 non-null    object        \n",
      " 3   age         500 non-null    int64         \n",
      " 4   city        500 non-null    object        \n",
      " 5   reg_date    500 non-null    datetime64[ns]\n",
      " 6   plan        500 non-null    object        \n",
      " 7   churn_date  34 non-null     datetime64[ns]\n",
      "dtypes: datetime64[ns](2), int64(2), object(4)\n",
      "memory usage: 31.4+ KB\n"
     ]
    }
   ],
   "source": [
    "#Imprimindo novamente o df_users\n",
    "\n",
    "df_users.info()"
   ]
  },
  {
   "cell_type": "markdown",
   "metadata": {
    "id": "H3gpde3Juj8j"
   },
   "source": [
    "### Enriqueça os dados"
   ]
  },
  {
   "cell_type": "code",
   "execution_count": null,
   "metadata": {
    "id": "4vuUjT2juj8j"
   },
   "outputs": [],
   "source": []
  },
  {
   "cell_type": "markdown",
   "metadata": {
    "id": "f4uSIMuuuj8j"
   },
   "source": [
    "## Chamadas"
   ]
  },
  {
   "cell_type": "code",
   "execution_count": 13,
   "metadata": {
    "id": "hkY01fJnuj8j"
   },
   "outputs": [
    {
     "name": "stdout",
     "output_type": "stream",
     "text": [
      "<class 'pandas.core.frame.DataFrame'>\n",
      "RangeIndex: 137735 entries, 0 to 137734\n",
      "Data columns (total 4 columns):\n",
      " #   Column     Non-Null Count   Dtype  \n",
      "---  ------     --------------   -----  \n",
      " 0   id         137735 non-null  object \n",
      " 1   user_id    137735 non-null  int64  \n",
      " 2   call_date  137735 non-null  object \n",
      " 3   duration   137735 non-null  float64\n",
      "dtypes: float64(1), int64(1), object(2)\n",
      "memory usage: 4.2+ MB\n",
      "None\n",
      "--------------------------------------------------\n",
      "             user_id       duration\n",
      "count  137735.000000  137735.000000\n",
      "mean     1247.658046       6.745927\n",
      "std       139.416268       5.839241\n",
      "min      1000.000000       0.000000\n",
      "25%      1128.000000       1.290000\n",
      "50%      1247.000000       5.980000\n",
      "75%      1365.000000      10.690000\n",
      "max      1499.000000      37.600000\n"
     ]
    }
   ],
   "source": [
    "# Imprima informações gerais/resumo sobre o DataFrame das chamadas\n",
    "print(df_calls.info())\n",
    "print('-' * 50)\n",
    "print(df_calls.describe())"
   ]
  },
  {
   "cell_type": "code",
   "execution_count": 14,
   "metadata": {
    "id": "wdBwJG5Yuj8k"
   },
   "outputs": [
    {
     "data": {
      "text/html": [
       "<div>\n",
       "<style scoped>\n",
       "    .dataframe tbody tr th:only-of-type {\n",
       "        vertical-align: middle;\n",
       "    }\n",
       "\n",
       "    .dataframe tbody tr th {\n",
       "        vertical-align: top;\n",
       "    }\n",
       "\n",
       "    .dataframe thead th {\n",
       "        text-align: right;\n",
       "    }\n",
       "</style>\n",
       "<table border=\"1\" class=\"dataframe\">\n",
       "  <thead>\n",
       "    <tr style=\"text-align: right;\">\n",
       "      <th></th>\n",
       "      <th>id</th>\n",
       "      <th>user_id</th>\n",
       "      <th>call_date</th>\n",
       "      <th>duration</th>\n",
       "    </tr>\n",
       "  </thead>\n",
       "  <tbody>\n",
       "    <tr>\n",
       "      <th>119086</th>\n",
       "      <td>1415_134</td>\n",
       "      <td>1415</td>\n",
       "      <td>2018-09-09</td>\n",
       "      <td>4.37</td>\n",
       "    </tr>\n",
       "    <tr>\n",
       "      <th>75927</th>\n",
       "      <td>1268_431</td>\n",
       "      <td>1268</td>\n",
       "      <td>2018-04-19</td>\n",
       "      <td>13.23</td>\n",
       "    </tr>\n",
       "    <tr>\n",
       "      <th>137041</th>\n",
       "      <td>1497_206</td>\n",
       "      <td>1497</td>\n",
       "      <td>2018-12-21</td>\n",
       "      <td>3.95</td>\n",
       "    </tr>\n",
       "    <tr>\n",
       "      <th>85365</th>\n",
       "      <td>1313_345</td>\n",
       "      <td>1313</td>\n",
       "      <td>2018-12-27</td>\n",
       "      <td>5.93</td>\n",
       "    </tr>\n",
       "    <tr>\n",
       "      <th>105608</th>\n",
       "      <td>1373_88</td>\n",
       "      <td>1373</td>\n",
       "      <td>2018-11-10</td>\n",
       "      <td>0.00</td>\n",
       "    </tr>\n",
       "    <tr>\n",
       "      <th>123302</th>\n",
       "      <td>1434_662</td>\n",
       "      <td>1434</td>\n",
       "      <td>2018-04-02</td>\n",
       "      <td>1.92</td>\n",
       "    </tr>\n",
       "    <tr>\n",
       "      <th>40262</th>\n",
       "      <td>1148_169</td>\n",
       "      <td>1148</td>\n",
       "      <td>2018-12-12</td>\n",
       "      <td>2.79</td>\n",
       "    </tr>\n",
       "    <tr>\n",
       "      <th>84493</th>\n",
       "      <td>1311_336</td>\n",
       "      <td>1311</td>\n",
       "      <td>2018-11-03</td>\n",
       "      <td>19.83</td>\n",
       "    </tr>\n",
       "    <tr>\n",
       "      <th>136888</th>\n",
       "      <td>1496_57</td>\n",
       "      <td>1496</td>\n",
       "      <td>2018-08-27</td>\n",
       "      <td>5.61</td>\n",
       "    </tr>\n",
       "    <tr>\n",
       "      <th>92034</th>\n",
       "      <td>1330_152</td>\n",
       "      <td>1330</td>\n",
       "      <td>2018-11-21</td>\n",
       "      <td>17.48</td>\n",
       "    </tr>\n",
       "  </tbody>\n",
       "</table>\n",
       "</div>"
      ],
      "text/plain": [
       "              id  user_id   call_date  duration\n",
       "119086  1415_134     1415  2018-09-09      4.37\n",
       "75927   1268_431     1268  2018-04-19     13.23\n",
       "137041  1497_206     1497  2018-12-21      3.95\n",
       "85365   1313_345     1313  2018-12-27      5.93\n",
       "105608   1373_88     1373  2018-11-10      0.00\n",
       "123302  1434_662     1434  2018-04-02      1.92\n",
       "40262   1148_169     1148  2018-12-12      2.79\n",
       "84493   1311_336     1311  2018-11-03     19.83\n",
       "136888   1496_57     1496  2018-08-27      5.61\n",
       "92034   1330_152     1330  2018-11-21     17.48"
      ]
     },
     "execution_count": 14,
     "metadata": {},
     "output_type": "execute_result"
    }
   ],
   "source": [
    "# Imprima uma amostra de dados das chamadas\n",
    "\n",
    "df_calls.sample(10)"
   ]
  },
  {
   "cell_type": "markdown",
   "metadata": {
    "id": "Y8An85-Tuj8k"
   },
   "source": [
    "O DataFrame df_calls está bem estruturado, mas precisa de correção na coluna 'call_date' para datetime. A coluna 'duration' contém valores númericos, é importante observar que algumas durações são muito pequenas (como 0.00 minutos), o que pode indicar chamadas perdidaaaas que talvez não deveriam ser registradas."
   ]
  },
  {
   "cell_type": "markdown",
   "metadata": {
    "id": "x5a99U4xuj8k"
   },
   "source": [
    "### Corrija os dados"
   ]
  },
  {
   "cell_type": "code",
   "execution_count": 15,
   "metadata": {
    "id": "lBjdw0Bnuj8l"
   },
   "outputs": [
    {
     "name": "stdout",
     "output_type": "stream",
     "text": [
      "Valores nulos no DataFrame de chamadas:\n",
      "id           0\n",
      "user_id      0\n",
      "call_date    0\n",
      "duration     0\n",
      "dtype: int64\n",
      "\n",
      "Valores duplicados:\n",
      "0\n",
      "\n",
      "Tipos de dados das chamadas:\n",
      "id            object\n",
      "user_id        int64\n",
      "call_date     object\n",
      "duration     float64\n",
      "dtype: object\n"
     ]
    }
   ],
   "source": [
    "# Verificando se há valores ausentes\n",
    "# Verificar valores nulos no DataFrame de chamadas\n",
    "print(\"Valores nulos no DataFrame de chamadas:\")\n",
    "print(df_calls.isnull().sum())\n",
    "\n",
    "print(\"\\nValores duplicados:\")\n",
    "print(df_calls.duplicated().sum())\n",
    "\n",
    "# Verificar tipos de dados das chamadas\n",
    "print(\"\\nTipos de dados das chamadas:\")\n",
    "print(df_calls.dtypes)"
   ]
  },
  {
   "cell_type": "code",
   "execution_count": 16,
   "metadata": {},
   "outputs": [
    {
     "data": {
      "text/plain": [
       "0        2018-12-27\n",
       "1        2018-12-27\n",
       "2        2018-12-27\n",
       "3        2018-12-28\n",
       "4        2018-12-30\n",
       "            ...    \n",
       "137730   2018-11-21\n",
       "137731   2018-10-20\n",
       "137732   2018-09-21\n",
       "137733   2018-10-10\n",
       "137734   2018-12-29\n",
       "Name: call_date, Length: 137735, dtype: datetime64[ns]"
      ]
     },
     "execution_count": 16,
     "metadata": {},
     "output_type": "execute_result"
    }
   ],
   "source": [
    "# Transformando a coluna call_date de string para datetime\n",
    "\n",
    "df_calls['call_date'] = pd.to_datetime(df_calls['call_date'], format= '%Y-%m-%d')\n",
    "df_calls['call_date']"
   ]
  },
  {
   "cell_type": "markdown",
   "metadata": {
    "id": "MFm5xyh4uj8l"
   },
   "source": [
    "### Enriqueça os dados"
   ]
  },
  {
   "cell_type": "code",
   "execution_count": null,
   "metadata": {},
   "outputs": [],
   "source": []
  },
  {
   "cell_type": "markdown",
   "metadata": {
    "id": "qLz4FkyRuj8l"
   },
   "source": [
    "## Mensagens"
   ]
  },
  {
   "cell_type": "code",
   "execution_count": 17,
   "metadata": {
    "id": "nFA9DFkCuj8l"
   },
   "outputs": [
    {
     "name": "stdout",
     "output_type": "stream",
     "text": [
      "<class 'pandas.core.frame.DataFrame'>\n",
      "RangeIndex: 76051 entries, 0 to 76050\n",
      "Data columns (total 3 columns):\n",
      " #   Column        Non-Null Count  Dtype \n",
      "---  ------        --------------  ----- \n",
      " 0   id            76051 non-null  object\n",
      " 1   user_id       76051 non-null  int64 \n",
      " 2   message_date  76051 non-null  object\n",
      "dtypes: int64(1), object(2)\n",
      "memory usage: 1.7+ MB\n",
      "None\n",
      "--------------------------------------------------\n",
      "            user_id\n",
      "count  76051.000000\n",
      "mean    1245.972768\n",
      "std      139.843635\n",
      "min     1000.000000\n",
      "25%     1123.000000\n",
      "50%     1251.000000\n",
      "75%     1362.000000\n",
      "max     1497.000000\n"
     ]
    }
   ],
   "source": [
    "# Imprima informações gerais/resumo sobre o DataFrame das mensagens\n",
    "print(df_messages.info())\n",
    "print('-' * 50)\n",
    "print(df_messages.describe())"
   ]
  },
  {
   "cell_type": "code",
   "execution_count": 18,
   "metadata": {
    "id": "ysEFBZWxuj8m"
   },
   "outputs": [
    {
     "data": {
      "text/html": [
       "<div>\n",
       "<style scoped>\n",
       "    .dataframe tbody tr th:only-of-type {\n",
       "        vertical-align: middle;\n",
       "    }\n",
       "\n",
       "    .dataframe tbody tr th {\n",
       "        vertical-align: top;\n",
       "    }\n",
       "\n",
       "    .dataframe thead th {\n",
       "        text-align: right;\n",
       "    }\n",
       "</style>\n",
       "<table border=\"1\" class=\"dataframe\">\n",
       "  <thead>\n",
       "    <tr style=\"text-align: right;\">\n",
       "      <th></th>\n",
       "      <th>id</th>\n",
       "      <th>user_id</th>\n",
       "      <th>message_date</th>\n",
       "    </tr>\n",
       "  </thead>\n",
       "  <tbody>\n",
       "    <tr>\n",
       "      <th>32679</th>\n",
       "      <td>1203_324</td>\n",
       "      <td>1203</td>\n",
       "      <td>2018-07-18</td>\n",
       "    </tr>\n",
       "    <tr>\n",
       "      <th>43538</th>\n",
       "      <td>1289_0</td>\n",
       "      <td>1289</td>\n",
       "      <td>2018-11-13</td>\n",
       "    </tr>\n",
       "    <tr>\n",
       "      <th>68706</th>\n",
       "      <td>1444_189</td>\n",
       "      <td>1444</td>\n",
       "      <td>2018-09-10</td>\n",
       "    </tr>\n",
       "    <tr>\n",
       "      <th>54393</th>\n",
       "      <td>1343_493</td>\n",
       "      <td>1343</td>\n",
       "      <td>2018-08-29</td>\n",
       "    </tr>\n",
       "    <tr>\n",
       "      <th>43819</th>\n",
       "      <td>1293_84</td>\n",
       "      <td>1293</td>\n",
       "      <td>2018-08-21</td>\n",
       "    </tr>\n",
       "    <tr>\n",
       "      <th>69307</th>\n",
       "      <td>1451_4</td>\n",
       "      <td>1451</td>\n",
       "      <td>2018-09-05</td>\n",
       "    </tr>\n",
       "    <tr>\n",
       "      <th>2275</th>\n",
       "      <td>1028_184</td>\n",
       "      <td>1028</td>\n",
       "      <td>2018-07-20</td>\n",
       "    </tr>\n",
       "    <tr>\n",
       "      <th>55377</th>\n",
       "      <td>1348_109</td>\n",
       "      <td>1348</td>\n",
       "      <td>2018-11-03</td>\n",
       "    </tr>\n",
       "    <tr>\n",
       "      <th>27632</th>\n",
       "      <td>1172_89</td>\n",
       "      <td>1172</td>\n",
       "      <td>2018-12-27</td>\n",
       "    </tr>\n",
       "    <tr>\n",
       "      <th>55950</th>\n",
       "      <td>1354_101</td>\n",
       "      <td>1354</td>\n",
       "      <td>2018-10-13</td>\n",
       "    </tr>\n",
       "  </tbody>\n",
       "</table>\n",
       "</div>"
      ],
      "text/plain": [
       "             id  user_id message_date\n",
       "32679  1203_324     1203   2018-07-18\n",
       "43538    1289_0     1289   2018-11-13\n",
       "68706  1444_189     1444   2018-09-10\n",
       "54393  1343_493     1343   2018-08-29\n",
       "43819   1293_84     1293   2018-08-21\n",
       "69307    1451_4     1451   2018-09-05\n",
       "2275   1028_184     1028   2018-07-20\n",
       "55377  1348_109     1348   2018-11-03\n",
       "27632   1172_89     1172   2018-12-27\n",
       "55950  1354_101     1354   2018-10-13"
      ]
     },
     "execution_count": 18,
     "metadata": {},
     "output_type": "execute_result"
    }
   ],
   "source": [
    "# Imprima uma amostra dos dados das mensagens\n",
    "\n",
    "df_messages.sample(10)"
   ]
  },
  {
   "cell_type": "markdown",
   "metadata": {
    "id": "GUtt1TqCuj8m"
   },
   "source": [
    "O DataFrame df_messages está bem estruturado, com colunas sem valores ausentes. A principal alteração necessária é a conversão da coluna 'message_date' para o time datetime para facilitar manipulação de datas."
   ]
  },
  {
   "cell_type": "markdown",
   "metadata": {
    "id": "tT8N_hc6uj8m"
   },
   "source": [
    "### Corrija os dados"
   ]
  },
  {
   "cell_type": "code",
   "execution_count": 19,
   "metadata": {
    "id": "SpBqbQHCuj8m"
   },
   "outputs": [
    {
     "name": "stdout",
     "output_type": "stream",
     "text": [
      "Valores nulos no DataFrame de mensagens:\n",
      "id              0\n",
      "user_id         0\n",
      "message_date    0\n",
      "dtype: int64\n",
      "\n",
      "Valores duplicados:\n",
      "0\n",
      "\n",
      "Tipos de dados das mensagens:\n",
      "id              object\n",
      "user_id          int64\n",
      "message_date    object\n",
      "dtype: object\n"
     ]
    }
   ],
   "source": [
    "# Verificar valores nulos no DataFrame de mensagens\n",
    "print(\"Valores nulos no DataFrame de mensagens:\")\n",
    "print(df_messages.isnull().sum())\n",
    "\n",
    "print(\"\\nValores duplicados:\")\n",
    "print(df_messages.duplicated().sum())\n",
    "\n",
    "# Verificar tipos de dados das mensagens\n",
    "print(\"\\nTipos de dados das mensagens:\")\n",
    "print(df_messages.dtypes)"
   ]
  },
  {
   "cell_type": "code",
   "execution_count": 20,
   "metadata": {},
   "outputs": [
    {
     "data": {
      "text/plain": [
       "0       2018-12-27\n",
       "1       2018-12-31\n",
       "2       2018-12-31\n",
       "3       2018-12-27\n",
       "4       2018-12-26\n",
       "           ...    \n",
       "76046   2018-12-24\n",
       "76047   2018-12-24\n",
       "76048   2018-12-31\n",
       "76049   2018-12-24\n",
       "76050   2018-12-23\n",
       "Name: message_date, Length: 76051, dtype: datetime64[ns]"
      ]
     },
     "execution_count": 20,
     "metadata": {},
     "output_type": "execute_result"
    }
   ],
   "source": [
    "#Transformando a coluna menssage_date de string para datetime\n",
    "\n",
    "df_messages['message_date'] = pd.to_datetime(df_messages['message_date'], format= '%Y-%m-%d')\n",
    "df_messages['message_date']"
   ]
  },
  {
   "cell_type": "markdown",
   "metadata": {
    "id": "feV2Njo9uj8n"
   },
   "source": [
    "### Enriqueça os dados"
   ]
  },
  {
   "cell_type": "code",
   "execution_count": null,
   "metadata": {
    "id": "SkuCXcLJuj8n"
   },
   "outputs": [],
   "source": []
  },
  {
   "cell_type": "markdown",
   "metadata": {
    "id": "ZRFaOWzGuj8n"
   },
   "source": [
    "## Internet"
   ]
  },
  {
   "cell_type": "code",
   "execution_count": 21,
   "metadata": {
    "id": "ob3-qv4nuj8n"
   },
   "outputs": [
    {
     "name": "stdout",
     "output_type": "stream",
     "text": [
      "<class 'pandas.core.frame.DataFrame'>\n",
      "RangeIndex: 104825 entries, 0 to 104824\n",
      "Data columns (total 4 columns):\n",
      " #   Column        Non-Null Count   Dtype  \n",
      "---  ------        --------------   -----  \n",
      " 0   id            104825 non-null  object \n",
      " 1   user_id       104825 non-null  int64  \n",
      " 2   session_date  104825 non-null  object \n",
      " 3   mb_used       104825 non-null  float64\n",
      "dtypes: float64(1), int64(1), object(2)\n",
      "memory usage: 3.2+ MB\n",
      "None\n",
      "--------------------------------------------------\n",
      "             user_id        mb_used\n",
      "count  104825.000000  104825.000000\n",
      "mean     1242.496361     366.713701\n",
      "std       142.053913     277.170542\n",
      "min      1000.000000       0.000000\n",
      "25%      1122.000000     136.080000\n",
      "50%      1236.000000     343.980000\n",
      "75%      1367.000000     554.610000\n",
      "max      1499.000000    1693.470000\n"
     ]
    }
   ],
   "source": [
    "# Imprima informações gerais/resumo sobre o DataFrame da internet\n",
    "print(df_internet.info())\n",
    "print('-' * 50)\n",
    "print(df_internet.describe())"
   ]
  },
  {
   "cell_type": "code",
   "execution_count": 22,
   "metadata": {
    "id": "iIHK4fZsuj8n"
   },
   "outputs": [
    {
     "data": {
      "text/html": [
       "<div>\n",
       "<style scoped>\n",
       "    .dataframe tbody tr th:only-of-type {\n",
       "        vertical-align: middle;\n",
       "    }\n",
       "\n",
       "    .dataframe tbody tr th {\n",
       "        vertical-align: top;\n",
       "    }\n",
       "\n",
       "    .dataframe thead th {\n",
       "        text-align: right;\n",
       "    }\n",
       "</style>\n",
       "<table border=\"1\" class=\"dataframe\">\n",
       "  <thead>\n",
       "    <tr style=\"text-align: right;\">\n",
       "      <th></th>\n",
       "      <th>id</th>\n",
       "      <th>user_id</th>\n",
       "      <th>session_date</th>\n",
       "      <th>mb_used</th>\n",
       "    </tr>\n",
       "  </thead>\n",
       "  <tbody>\n",
       "    <tr>\n",
       "      <th>0</th>\n",
       "      <td>1000_13</td>\n",
       "      <td>1000</td>\n",
       "      <td>2018-12-29</td>\n",
       "      <td>89.86</td>\n",
       "    </tr>\n",
       "    <tr>\n",
       "      <th>1</th>\n",
       "      <td>1000_204</td>\n",
       "      <td>1000</td>\n",
       "      <td>2018-12-31</td>\n",
       "      <td>0.00</td>\n",
       "    </tr>\n",
       "    <tr>\n",
       "      <th>2</th>\n",
       "      <td>1000_379</td>\n",
       "      <td>1000</td>\n",
       "      <td>2018-12-28</td>\n",
       "      <td>660.40</td>\n",
       "    </tr>\n",
       "    <tr>\n",
       "      <th>3</th>\n",
       "      <td>1000_413</td>\n",
       "      <td>1000</td>\n",
       "      <td>2018-12-26</td>\n",
       "      <td>270.99</td>\n",
       "    </tr>\n",
       "    <tr>\n",
       "      <th>4</th>\n",
       "      <td>1000_442</td>\n",
       "      <td>1000</td>\n",
       "      <td>2018-12-27</td>\n",
       "      <td>880.22</td>\n",
       "    </tr>\n",
       "  </tbody>\n",
       "</table>\n",
       "</div>"
      ],
      "text/plain": [
       "         id  user_id session_date  mb_used\n",
       "0   1000_13     1000   2018-12-29    89.86\n",
       "1  1000_204     1000   2018-12-31     0.00\n",
       "2  1000_379     1000   2018-12-28   660.40\n",
       "3  1000_413     1000   2018-12-26   270.99\n",
       "4  1000_442     1000   2018-12-27   880.22"
      ]
     },
     "execution_count": 22,
     "metadata": {},
     "output_type": "execute_result"
    }
   ],
   "source": [
    "#  Imprima uma amostra de dados para o tráfego da internet\n",
    "df_internet.head()"
   ]
  },
  {
   "cell_type": "markdown",
   "metadata": {
    "id": "6wpo7ugquj8o"
   },
   "source": [
    "O DataFrame df_internet está bem estruturado e não possui valores ausentes. A coluna 'session_date' será convertida para datetime para facilitar manipulação de datas."
   ]
  },
  {
   "cell_type": "markdown",
   "metadata": {
    "id": "Tly90YrTuj8o"
   },
   "source": [
    "### Corrija os dados"
   ]
  },
  {
   "cell_type": "code",
   "execution_count": 23,
   "metadata": {
    "id": "GCoX7kbmuj8o"
   },
   "outputs": [
    {
     "name": "stdout",
     "output_type": "stream",
     "text": [
      "Detalhes dos planos de internet:\n",
      "  plan_name  mb_per_month_included  usd_monthly_pay  usd_per_gb\n",
      "0      surf                  15360               20          10\n",
      "1  ultimate                  30720               70           7\n",
      "\n",
      "Verificando valores nulos nos planos:\n",
      "plan_name                0\n",
      "mb_per_month_included    0\n",
      "usd_per_gb               0\n",
      "dtype: int64\n",
      "\n",
      "Verificando valores duplicados nos planos:\n",
      "0\n",
      "\n",
      "Tipos de dados das colunas de internet:\n",
      "plan_name                object\n",
      "mb_per_month_included     int64\n",
      "usd_per_gb                int64\n",
      "dtype: object\n"
     ]
    }
   ],
   "source": [
    "# Verificando os planos de internet disponíveis\n",
    "print(\"Detalhes dos planos de internet:\")\n",
    "print(df_plans[['plan_name', 'mb_per_month_included', 'usd_monthly_pay', 'usd_per_gb']])\n",
    "\n",
    "print(\"\\nVerificando valores nulos nos planos:\")\n",
    "print(df_plans[['plan_name', 'mb_per_month_included', 'usd_per_gb']].isnull().sum())\n",
    "\n",
    "print(\"\\nVerificando valores duplicados nos planos:\")\n",
    "print(df_plans[['plan_name', 'mb_per_month_included', 'usd_per_gb']].duplicated().sum())\n",
    "\n",
    "# Verificando os tipos de dados das colunas relacionadas à internet\n",
    "print(\"\\nTipos de dados das colunas de internet:\")\n",
    "print(df_plans[['plan_name', 'mb_per_month_included', 'usd_per_gb']].dtypes)"
   ]
  },
  {
   "cell_type": "code",
   "execution_count": 24,
   "metadata": {},
   "outputs": [
    {
     "data": {
      "text/plain": [
       "0        2018-12-29\n",
       "1        2018-12-31\n",
       "2        2018-12-28\n",
       "3        2018-12-26\n",
       "4        2018-12-27\n",
       "            ...    \n",
       "104820   2018-10-20\n",
       "104821   2018-12-30\n",
       "104822   2018-09-22\n",
       "104823   2018-12-07\n",
       "104824   2018-12-24\n",
       "Name: session_date, Length: 104825, dtype: datetime64[ns]"
      ]
     },
     "execution_count": 24,
     "metadata": {},
     "output_type": "execute_result"
    }
   ],
   "source": [
    "# Transformando a coluna session_date de string para datetime\n",
    "\n",
    "df_internet['session_date'] = pd.to_datetime(df_internet['session_date'], format= '%Y-%m-%d')\n",
    "df_internet['session_date']"
   ]
  },
  {
   "cell_type": "markdown",
   "metadata": {
    "id": "DEDbrtFduj8o"
   },
   "source": [
    "### Enriqueça os dados"
   ]
  },
  {
   "cell_type": "code",
   "execution_count": null,
   "metadata": {
    "id": "f1PoZ3Ukuj8p"
   },
   "outputs": [],
   "source": []
  },
  {
   "cell_type": "markdown",
   "metadata": {
    "id": "bnOX4ARJuj8p"
   },
   "source": [
    "## Estude as condições dos planos"
   ]
  },
  {
   "cell_type": "code",
   "execution_count": 25,
   "metadata": {
    "id": "vMXVndWEuj8p"
   },
   "outputs": [
    {
     "data": {
      "text/html": [
       "<div>\n",
       "<style scoped>\n",
       "    .dataframe tbody tr th:only-of-type {\n",
       "        vertical-align: middle;\n",
       "    }\n",
       "\n",
       "    .dataframe tbody tr th {\n",
       "        vertical-align: top;\n",
       "    }\n",
       "\n",
       "    .dataframe thead th {\n",
       "        text-align: right;\n",
       "    }\n",
       "</style>\n",
       "<table border=\"1\" class=\"dataframe\">\n",
       "  <thead>\n",
       "    <tr style=\"text-align: right;\">\n",
       "      <th></th>\n",
       "      <th>messages_included</th>\n",
       "      <th>mb_per_month_included</th>\n",
       "      <th>minutes_included</th>\n",
       "      <th>usd_monthly_pay</th>\n",
       "      <th>usd_per_gb</th>\n",
       "      <th>usd_per_message</th>\n",
       "      <th>usd_per_minute</th>\n",
       "      <th>plan_name</th>\n",
       "    </tr>\n",
       "  </thead>\n",
       "  <tbody>\n",
       "    <tr>\n",
       "      <th>0</th>\n",
       "      <td>50</td>\n",
       "      <td>15360</td>\n",
       "      <td>500</td>\n",
       "      <td>20</td>\n",
       "      <td>10</td>\n",
       "      <td>0.03</td>\n",
       "      <td>0.03</td>\n",
       "      <td>surf</td>\n",
       "    </tr>\n",
       "    <tr>\n",
       "      <th>1</th>\n",
       "      <td>1000</td>\n",
       "      <td>30720</td>\n",
       "      <td>3000</td>\n",
       "      <td>70</td>\n",
       "      <td>7</td>\n",
       "      <td>0.01</td>\n",
       "      <td>0.01</td>\n",
       "      <td>ultimate</td>\n",
       "    </tr>\n",
       "  </tbody>\n",
       "</table>\n",
       "</div>"
      ],
      "text/plain": [
       "   messages_included  mb_per_month_included  minutes_included  \\\n",
       "0                 50                  15360               500   \n",
       "1               1000                  30720              3000   \n",
       "\n",
       "   usd_monthly_pay  usd_per_gb  usd_per_message  usd_per_minute plan_name  \n",
       "0               20          10             0.03            0.03      surf  \n",
       "1               70           7             0.01            0.01  ultimate  "
      ]
     },
     "execution_count": 25,
     "metadata": {},
     "output_type": "execute_result"
    }
   ],
   "source": [
    "# Imprima as condições dos planos e certifique-se de que elas fazem sentido para você\n",
    "\n",
    "df_plans.head()"
   ]
  },
  {
   "cell_type": "code",
   "execution_count": 26,
   "metadata": {
    "id": "4hmb2pSPuj8q"
   },
   "outputs": [
    {
     "data": {
      "text/html": [
       "<div>\n",
       "<style scoped>\n",
       "    .dataframe tbody tr th:only-of-type {\n",
       "        vertical-align: middle;\n",
       "    }\n",
       "\n",
       "    .dataframe tbody tr th {\n",
       "        vertical-align: top;\n",
       "    }\n",
       "\n",
       "    .dataframe thead th {\n",
       "        text-align: right;\n",
       "    }\n",
       "</style>\n",
       "<table border=\"1\" class=\"dataframe\">\n",
       "  <thead>\n",
       "    <tr style=\"text-align: right;\">\n",
       "      <th></th>\n",
       "      <th>user_id</th>\n",
       "      <th>month</th>\n",
       "      <th>num_calls</th>\n",
       "    </tr>\n",
       "  </thead>\n",
       "  <tbody>\n",
       "    <tr>\n",
       "      <th>0</th>\n",
       "      <td>1000</td>\n",
       "      <td>12</td>\n",
       "      <td>16</td>\n",
       "    </tr>\n",
       "    <tr>\n",
       "      <th>1</th>\n",
       "      <td>1001</td>\n",
       "      <td>8</td>\n",
       "      <td>27</td>\n",
       "    </tr>\n",
       "    <tr>\n",
       "      <th>2</th>\n",
       "      <td>1001</td>\n",
       "      <td>9</td>\n",
       "      <td>49</td>\n",
       "    </tr>\n",
       "    <tr>\n",
       "      <th>3</th>\n",
       "      <td>1001</td>\n",
       "      <td>10</td>\n",
       "      <td>65</td>\n",
       "    </tr>\n",
       "    <tr>\n",
       "      <th>4</th>\n",
       "      <td>1001</td>\n",
       "      <td>11</td>\n",
       "      <td>64</td>\n",
       "    </tr>\n",
       "    <tr>\n",
       "      <th>...</th>\n",
       "      <td>...</td>\n",
       "      <td>...</td>\n",
       "      <td>...</td>\n",
       "    </tr>\n",
       "    <tr>\n",
       "      <th>2253</th>\n",
       "      <td>1498</td>\n",
       "      <td>12</td>\n",
       "      <td>39</td>\n",
       "    </tr>\n",
       "    <tr>\n",
       "      <th>2254</th>\n",
       "      <td>1499</td>\n",
       "      <td>9</td>\n",
       "      <td>41</td>\n",
       "    </tr>\n",
       "    <tr>\n",
       "      <th>2255</th>\n",
       "      <td>1499</td>\n",
       "      <td>10</td>\n",
       "      <td>53</td>\n",
       "    </tr>\n",
       "    <tr>\n",
       "      <th>2256</th>\n",
       "      <td>1499</td>\n",
       "      <td>11</td>\n",
       "      <td>45</td>\n",
       "    </tr>\n",
       "    <tr>\n",
       "      <th>2257</th>\n",
       "      <td>1499</td>\n",
       "      <td>12</td>\n",
       "      <td>65</td>\n",
       "    </tr>\n",
       "  </tbody>\n",
       "</table>\n",
       "<p>2258 rows × 3 columns</p>\n",
       "</div>"
      ],
      "text/plain": [
       "      user_id  month  num_calls\n",
       "0        1000     12         16\n",
       "1        1001      8         27\n",
       "2        1001      9         49\n",
       "3        1001     10         65\n",
       "4        1001     11         64\n",
       "...       ...    ...        ...\n",
       "2253     1498     12         39\n",
       "2254     1499      9         41\n",
       "2255     1499     10         53\n",
       "2256     1499     11         45\n",
       "2257     1499     12         65\n",
       "\n",
       "[2258 rows x 3 columns]"
      ]
     },
     "execution_count": 26,
     "metadata": {},
     "output_type": "execute_result"
    }
   ],
   "source": [
    "# Calcule o número de chamadas feitas por cada usuário por mês. Salve o resultado.\n",
    "\n",
    "# Extraindo apenas o mês das chamadas\n",
    "df_calls['month'] = df_calls['call_date'].dt.month\n",
    "\n",
    "# Agrupando pelo usuário e mês, e contando o número de chamadas\n",
    "df_calls_per_user_month = df_calls.groupby(['user_id', 'month']).size().reset_index(name= 'num_calls')\n",
    "df_calls_per_user_month"
   ]
  },
  {
   "cell_type": "code",
   "execution_count": 27,
   "metadata": {
    "id": "yHgBWCJJuj8q"
   },
   "outputs": [
    {
     "data": {
      "text/html": [
       "<div>\n",
       "<style scoped>\n",
       "    .dataframe tbody tr th:only-of-type {\n",
       "        vertical-align: middle;\n",
       "    }\n",
       "\n",
       "    .dataframe tbody tr th {\n",
       "        vertical-align: top;\n",
       "    }\n",
       "\n",
       "    .dataframe thead th {\n",
       "        text-align: right;\n",
       "    }\n",
       "</style>\n",
       "<table border=\"1\" class=\"dataframe\">\n",
       "  <thead>\n",
       "    <tr style=\"text-align: right;\">\n",
       "      <th></th>\n",
       "      <th>user_id</th>\n",
       "      <th>month</th>\n",
       "      <th>duration</th>\n",
       "    </tr>\n",
       "  </thead>\n",
       "  <tbody>\n",
       "    <tr>\n",
       "      <th>0</th>\n",
       "      <td>1000</td>\n",
       "      <td>12</td>\n",
       "      <td>116.83</td>\n",
       "    </tr>\n",
       "    <tr>\n",
       "      <th>1</th>\n",
       "      <td>1001</td>\n",
       "      <td>8</td>\n",
       "      <td>171.14</td>\n",
       "    </tr>\n",
       "    <tr>\n",
       "      <th>2</th>\n",
       "      <td>1001</td>\n",
       "      <td>9</td>\n",
       "      <td>297.69</td>\n",
       "    </tr>\n",
       "    <tr>\n",
       "      <th>3</th>\n",
       "      <td>1001</td>\n",
       "      <td>10</td>\n",
       "      <td>374.11</td>\n",
       "    </tr>\n",
       "    <tr>\n",
       "      <th>4</th>\n",
       "      <td>1001</td>\n",
       "      <td>11</td>\n",
       "      <td>404.59</td>\n",
       "    </tr>\n",
       "    <tr>\n",
       "      <th>...</th>\n",
       "      <td>...</td>\n",
       "      <td>...</td>\n",
       "      <td>...</td>\n",
       "    </tr>\n",
       "    <tr>\n",
       "      <th>2253</th>\n",
       "      <td>1498</td>\n",
       "      <td>12</td>\n",
       "      <td>324.77</td>\n",
       "    </tr>\n",
       "    <tr>\n",
       "      <th>2254</th>\n",
       "      <td>1499</td>\n",
       "      <td>9</td>\n",
       "      <td>330.37</td>\n",
       "    </tr>\n",
       "    <tr>\n",
       "      <th>2255</th>\n",
       "      <td>1499</td>\n",
       "      <td>10</td>\n",
       "      <td>363.28</td>\n",
       "    </tr>\n",
       "    <tr>\n",
       "      <th>2256</th>\n",
       "      <td>1499</td>\n",
       "      <td>11</td>\n",
       "      <td>288.56</td>\n",
       "    </tr>\n",
       "    <tr>\n",
       "      <th>2257</th>\n",
       "      <td>1499</td>\n",
       "      <td>12</td>\n",
       "      <td>468.10</td>\n",
       "    </tr>\n",
       "  </tbody>\n",
       "</table>\n",
       "<p>2258 rows × 3 columns</p>\n",
       "</div>"
      ],
      "text/plain": [
       "      user_id  month  duration\n",
       "0        1000     12    116.83\n",
       "1        1001      8    171.14\n",
       "2        1001      9    297.69\n",
       "3        1001     10    374.11\n",
       "4        1001     11    404.59\n",
       "...       ...    ...       ...\n",
       "2253     1498     12    324.77\n",
       "2254     1499      9    330.37\n",
       "2255     1499     10    363.28\n",
       "2256     1499     11    288.56\n",
       "2257     1499     12    468.10\n",
       "\n",
       "[2258 rows x 3 columns]"
      ]
     },
     "execution_count": 27,
     "metadata": {},
     "output_type": "execute_result"
    }
   ],
   "source": [
    "# Calcule a quantidade de minutos gastos por cada usuário por mês. Salve o resultado.\n",
    "\n",
    "# Extraindo apenas o mês das chamadas\n",
    "df_calls['month'] = df_calls['call_date'].dt.month\n",
    "\n",
    "# Agrupando pelo usuário e mês, e contando os minutos por usuário\n",
    "df_min_per_user_month = df_calls.groupby(['user_id', 'month'])['duration'].sum().reset_index()\n",
    "df_min_per_user_month"
   ]
  },
  {
   "cell_type": "code",
   "execution_count": 28,
   "metadata": {
    "id": "MaM_cPxauj8q"
   },
   "outputs": [
    {
     "data": {
      "text/html": [
       "<div>\n",
       "<style scoped>\n",
       "    .dataframe tbody tr th:only-of-type {\n",
       "        vertical-align: middle;\n",
       "    }\n",
       "\n",
       "    .dataframe tbody tr th {\n",
       "        vertical-align: top;\n",
       "    }\n",
       "\n",
       "    .dataframe thead th {\n",
       "        text-align: right;\n",
       "    }\n",
       "</style>\n",
       "<table border=\"1\" class=\"dataframe\">\n",
       "  <thead>\n",
       "    <tr style=\"text-align: right;\">\n",
       "      <th></th>\n",
       "      <th>user_id</th>\n",
       "      <th>month</th>\n",
       "      <th>num_message</th>\n",
       "    </tr>\n",
       "  </thead>\n",
       "  <tbody>\n",
       "    <tr>\n",
       "      <th>0</th>\n",
       "      <td>1000</td>\n",
       "      <td>12</td>\n",
       "      <td>11</td>\n",
       "    </tr>\n",
       "    <tr>\n",
       "      <th>1</th>\n",
       "      <td>1001</td>\n",
       "      <td>8</td>\n",
       "      <td>30</td>\n",
       "    </tr>\n",
       "    <tr>\n",
       "      <th>2</th>\n",
       "      <td>1001</td>\n",
       "      <td>9</td>\n",
       "      <td>44</td>\n",
       "    </tr>\n",
       "    <tr>\n",
       "      <th>3</th>\n",
       "      <td>1001</td>\n",
       "      <td>10</td>\n",
       "      <td>53</td>\n",
       "    </tr>\n",
       "    <tr>\n",
       "      <th>4</th>\n",
       "      <td>1001</td>\n",
       "      <td>11</td>\n",
       "      <td>36</td>\n",
       "    </tr>\n",
       "    <tr>\n",
       "      <th>...</th>\n",
       "      <td>...</td>\n",
       "      <td>...</td>\n",
       "      <td>...</td>\n",
       "    </tr>\n",
       "    <tr>\n",
       "      <th>1801</th>\n",
       "      <td>1496</td>\n",
       "      <td>9</td>\n",
       "      <td>21</td>\n",
       "    </tr>\n",
       "    <tr>\n",
       "      <th>1802</th>\n",
       "      <td>1496</td>\n",
       "      <td>10</td>\n",
       "      <td>18</td>\n",
       "    </tr>\n",
       "    <tr>\n",
       "      <th>1803</th>\n",
       "      <td>1496</td>\n",
       "      <td>11</td>\n",
       "      <td>13</td>\n",
       "    </tr>\n",
       "    <tr>\n",
       "      <th>1804</th>\n",
       "      <td>1496</td>\n",
       "      <td>12</td>\n",
       "      <td>11</td>\n",
       "    </tr>\n",
       "    <tr>\n",
       "      <th>1805</th>\n",
       "      <td>1497</td>\n",
       "      <td>12</td>\n",
       "      <td>50</td>\n",
       "    </tr>\n",
       "  </tbody>\n",
       "</table>\n",
       "<p>1806 rows × 3 columns</p>\n",
       "</div>"
      ],
      "text/plain": [
       "      user_id  month  num_message\n",
       "0        1000     12           11\n",
       "1        1001      8           30\n",
       "2        1001      9           44\n",
       "3        1001     10           53\n",
       "4        1001     11           36\n",
       "...       ...    ...          ...\n",
       "1801     1496      9           21\n",
       "1802     1496     10           18\n",
       "1803     1496     11           13\n",
       "1804     1496     12           11\n",
       "1805     1497     12           50\n",
       "\n",
       "[1806 rows x 3 columns]"
      ]
     },
     "execution_count": 28,
     "metadata": {},
     "output_type": "execute_result"
    }
   ],
   "source": [
    "# Calcule o número de mensagens enviadas por cada usuário por mês. Salve o resultado.\n",
    "\n",
    "# Extraindo apenas o mês das mensagens enviadas\n",
    "df_messages['month'] = df_messages['message_date'].dt.month\n",
    "\n",
    "# Agrupando pelo usuário e mês, e contando o número de mensagens\n",
    "df_messages_per_user_month = df_messages.groupby(['user_id', 'month']).size().reset_index(name= 'num_message')\n",
    "df_messages_per_user_month"
   ]
  },
  {
   "cell_type": "code",
   "execution_count": 29,
   "metadata": {
    "id": "WsCEZJ_xuj8q"
   },
   "outputs": [
    {
     "data": {
      "text/html": [
       "<div>\n",
       "<style scoped>\n",
       "    .dataframe tbody tr th:only-of-type {\n",
       "        vertical-align: middle;\n",
       "    }\n",
       "\n",
       "    .dataframe tbody tr th {\n",
       "        vertical-align: top;\n",
       "    }\n",
       "\n",
       "    .dataframe thead th {\n",
       "        text-align: right;\n",
       "    }\n",
       "</style>\n",
       "<table border=\"1\" class=\"dataframe\">\n",
       "  <thead>\n",
       "    <tr style=\"text-align: right;\">\n",
       "      <th></th>\n",
       "      <th>user_id</th>\n",
       "      <th>month</th>\n",
       "      <th>traffic_volume</th>\n",
       "    </tr>\n",
       "  </thead>\n",
       "  <tbody>\n",
       "    <tr>\n",
       "      <th>0</th>\n",
       "      <td>1000</td>\n",
       "      <td>12</td>\n",
       "      <td>1901.47</td>\n",
       "    </tr>\n",
       "    <tr>\n",
       "      <th>1</th>\n",
       "      <td>1001</td>\n",
       "      <td>8</td>\n",
       "      <td>6919.15</td>\n",
       "    </tr>\n",
       "    <tr>\n",
       "      <th>2</th>\n",
       "      <td>1001</td>\n",
       "      <td>9</td>\n",
       "      <td>13314.82</td>\n",
       "    </tr>\n",
       "    <tr>\n",
       "      <th>3</th>\n",
       "      <td>1001</td>\n",
       "      <td>10</td>\n",
       "      <td>22330.49</td>\n",
       "    </tr>\n",
       "    <tr>\n",
       "      <th>4</th>\n",
       "      <td>1001</td>\n",
       "      <td>11</td>\n",
       "      <td>18504.30</td>\n",
       "    </tr>\n",
       "    <tr>\n",
       "      <th>...</th>\n",
       "      <td>...</td>\n",
       "      <td>...</td>\n",
       "      <td>...</td>\n",
       "    </tr>\n",
       "    <tr>\n",
       "      <th>2272</th>\n",
       "      <td>1498</td>\n",
       "      <td>12</td>\n",
       "      <td>23137.69</td>\n",
       "    </tr>\n",
       "    <tr>\n",
       "      <th>2273</th>\n",
       "      <td>1499</td>\n",
       "      <td>9</td>\n",
       "      <td>12984.76</td>\n",
       "    </tr>\n",
       "    <tr>\n",
       "      <th>2274</th>\n",
       "      <td>1499</td>\n",
       "      <td>10</td>\n",
       "      <td>19492.43</td>\n",
       "    </tr>\n",
       "    <tr>\n",
       "      <th>2275</th>\n",
       "      <td>1499</td>\n",
       "      <td>11</td>\n",
       "      <td>16813.83</td>\n",
       "    </tr>\n",
       "    <tr>\n",
       "      <th>2276</th>\n",
       "      <td>1499</td>\n",
       "      <td>12</td>\n",
       "      <td>22059.21</td>\n",
       "    </tr>\n",
       "  </tbody>\n",
       "</table>\n",
       "<p>2277 rows × 3 columns</p>\n",
       "</div>"
      ],
      "text/plain": [
       "      user_id  month  traffic_volume\n",
       "0        1000     12         1901.47\n",
       "1        1001      8         6919.15\n",
       "2        1001      9        13314.82\n",
       "3        1001     10        22330.49\n",
       "4        1001     11        18504.30\n",
       "...       ...    ...             ...\n",
       "2272     1498     12        23137.69\n",
       "2273     1499      9        12984.76\n",
       "2274     1499     10        19492.43\n",
       "2275     1499     11        16813.83\n",
       "2276     1499     12        22059.21\n",
       "\n",
       "[2277 rows x 3 columns]"
      ]
     },
     "execution_count": 29,
     "metadata": {},
     "output_type": "execute_result"
    }
   ],
   "source": [
    "# Calcule o volume de tráfego de internet usado por cada usuário por mês. Salve o resultado.\n",
    "\n",
    "# Extraindo apenas o mês \n",
    "df_internet['month'] = df_internet['session_date'].dt.month\n",
    "\n",
    "# Agrupando pelo usuário e mês, e contando o volume de tráfego de internet usado\n",
    "df_internet_traffic_volume = df_internet.groupby(['user_id', 'month'])['mb_used'].sum().reset_index(name= 'traffic_volume')\n",
    "df_internet_traffic_volume"
   ]
  },
  {
   "cell_type": "code",
   "execution_count": 30,
   "metadata": {
    "id": "BYDTkxOauj8r"
   },
   "outputs": [
    {
     "data": {
      "text/html": [
       "<div>\n",
       "<style scoped>\n",
       "    .dataframe tbody tr th:only-of-type {\n",
       "        vertical-align: middle;\n",
       "    }\n",
       "\n",
       "    .dataframe tbody tr th {\n",
       "        vertical-align: top;\n",
       "    }\n",
       "\n",
       "    .dataframe thead th {\n",
       "        text-align: right;\n",
       "    }\n",
       "</style>\n",
       "<table border=\"1\" class=\"dataframe\">\n",
       "  <thead>\n",
       "    <tr style=\"text-align: right;\">\n",
       "      <th></th>\n",
       "      <th>user_id</th>\n",
       "      <th>month</th>\n",
       "      <th>num_calls</th>\n",
       "      <th>duration</th>\n",
       "      <th>num_message</th>\n",
       "      <th>traffic_volume</th>\n",
       "    </tr>\n",
       "  </thead>\n",
       "  <tbody>\n",
       "    <tr>\n",
       "      <th>0</th>\n",
       "      <td>1000</td>\n",
       "      <td>12</td>\n",
       "      <td>16.0</td>\n",
       "      <td>116.83</td>\n",
       "      <td>11.0</td>\n",
       "      <td>1901.47</td>\n",
       "    </tr>\n",
       "    <tr>\n",
       "      <th>1</th>\n",
       "      <td>1001</td>\n",
       "      <td>8</td>\n",
       "      <td>27.0</td>\n",
       "      <td>171.14</td>\n",
       "      <td>30.0</td>\n",
       "      <td>6919.15</td>\n",
       "    </tr>\n",
       "    <tr>\n",
       "      <th>2</th>\n",
       "      <td>1001</td>\n",
       "      <td>9</td>\n",
       "      <td>49.0</td>\n",
       "      <td>297.69</td>\n",
       "      <td>44.0</td>\n",
       "      <td>13314.82</td>\n",
       "    </tr>\n",
       "    <tr>\n",
       "      <th>3</th>\n",
       "      <td>1001</td>\n",
       "      <td>10</td>\n",
       "      <td>65.0</td>\n",
       "      <td>374.11</td>\n",
       "      <td>53.0</td>\n",
       "      <td>22330.49</td>\n",
       "    </tr>\n",
       "    <tr>\n",
       "      <th>4</th>\n",
       "      <td>1001</td>\n",
       "      <td>11</td>\n",
       "      <td>64.0</td>\n",
       "      <td>404.59</td>\n",
       "      <td>36.0</td>\n",
       "      <td>18504.30</td>\n",
       "    </tr>\n",
       "    <tr>\n",
       "      <th>...</th>\n",
       "      <td>...</td>\n",
       "      <td>...</td>\n",
       "      <td>...</td>\n",
       "      <td>...</td>\n",
       "      <td>...</td>\n",
       "      <td>...</td>\n",
       "    </tr>\n",
       "    <tr>\n",
       "      <th>2288</th>\n",
       "      <td>1498</td>\n",
       "      <td>12</td>\n",
       "      <td>39.0</td>\n",
       "      <td>324.77</td>\n",
       "      <td>NaN</td>\n",
       "      <td>23137.69</td>\n",
       "    </tr>\n",
       "    <tr>\n",
       "      <th>2289</th>\n",
       "      <td>1499</td>\n",
       "      <td>9</td>\n",
       "      <td>41.0</td>\n",
       "      <td>330.37</td>\n",
       "      <td>NaN</td>\n",
       "      <td>12984.76</td>\n",
       "    </tr>\n",
       "    <tr>\n",
       "      <th>2290</th>\n",
       "      <td>1499</td>\n",
       "      <td>10</td>\n",
       "      <td>53.0</td>\n",
       "      <td>363.28</td>\n",
       "      <td>NaN</td>\n",
       "      <td>19492.43</td>\n",
       "    </tr>\n",
       "    <tr>\n",
       "      <th>2291</th>\n",
       "      <td>1499</td>\n",
       "      <td>11</td>\n",
       "      <td>45.0</td>\n",
       "      <td>288.56</td>\n",
       "      <td>NaN</td>\n",
       "      <td>16813.83</td>\n",
       "    </tr>\n",
       "    <tr>\n",
       "      <th>2292</th>\n",
       "      <td>1499</td>\n",
       "      <td>12</td>\n",
       "      <td>65.0</td>\n",
       "      <td>468.10</td>\n",
       "      <td>NaN</td>\n",
       "      <td>22059.21</td>\n",
       "    </tr>\n",
       "  </tbody>\n",
       "</table>\n",
       "<p>2293 rows × 6 columns</p>\n",
       "</div>"
      ],
      "text/plain": [
       "      user_id  month  num_calls  duration  num_message  traffic_volume\n",
       "0        1000     12       16.0    116.83         11.0         1901.47\n",
       "1        1001      8       27.0    171.14         30.0         6919.15\n",
       "2        1001      9       49.0    297.69         44.0        13314.82\n",
       "3        1001     10       65.0    374.11         53.0        22330.49\n",
       "4        1001     11       64.0    404.59         36.0        18504.30\n",
       "...       ...    ...        ...       ...          ...             ...\n",
       "2288     1498     12       39.0    324.77          NaN        23137.69\n",
       "2289     1499      9       41.0    330.37          NaN        12984.76\n",
       "2290     1499     10       53.0    363.28          NaN        19492.43\n",
       "2291     1499     11       45.0    288.56          NaN        16813.83\n",
       "2292     1499     12       65.0    468.10          NaN        22059.21\n",
       "\n",
       "[2293 rows x 6 columns]"
      ]
     },
     "execution_count": 30,
     "metadata": {},
     "output_type": "execute_result"
    }
   ],
   "source": [
    "# Junte os dados de chamadas, minutos, mensagens e internet com base em user_id e month\n",
    "\n",
    "df_merged_1 = pd.merge(df_calls_per_user_month, df_min_per_user_month, on= ['user_id', 'month'], how= 'outer')\n",
    "df_merged_2 = pd.merge(df_merged_1, df_messages_per_user_month, on= ['user_id', 'month'], how= 'outer')\n",
    "df_merged_3 = pd.merge(df_merged_2, df_internet_traffic_volume, on= ['user_id', 'month'], how= 'outer')\n",
    "df_merged_3"
   ]
  },
  {
   "cell_type": "code",
   "execution_count": 31,
   "metadata": {
    "id": "SW-sgLaHuj8r"
   },
   "outputs": [
    {
     "data": {
      "text/html": [
       "<div>\n",
       "<style scoped>\n",
       "    .dataframe tbody tr th:only-of-type {\n",
       "        vertical-align: middle;\n",
       "    }\n",
       "\n",
       "    .dataframe tbody tr th {\n",
       "        vertical-align: top;\n",
       "    }\n",
       "\n",
       "    .dataframe thead th {\n",
       "        text-align: right;\n",
       "    }\n",
       "</style>\n",
       "<table border=\"1\" class=\"dataframe\">\n",
       "  <thead>\n",
       "    <tr style=\"text-align: right;\">\n",
       "      <th></th>\n",
       "      <th>user_id</th>\n",
       "      <th>month</th>\n",
       "      <th>num_calls</th>\n",
       "      <th>duration</th>\n",
       "      <th>num_message</th>\n",
       "      <th>traffic_volume</th>\n",
       "      <th>plan</th>\n",
       "      <th>messages_included</th>\n",
       "      <th>mb_per_month_included</th>\n",
       "      <th>minutes_included</th>\n",
       "      <th>usd_monthly_pay</th>\n",
       "      <th>usd_per_gb</th>\n",
       "      <th>usd_per_message</th>\n",
       "      <th>usd_per_minute</th>\n",
       "    </tr>\n",
       "  </thead>\n",
       "  <tbody>\n",
       "    <tr>\n",
       "      <th>0</th>\n",
       "      <td>1000</td>\n",
       "      <td>12</td>\n",
       "      <td>16.0</td>\n",
       "      <td>116.83</td>\n",
       "      <td>11.0</td>\n",
       "      <td>1901.47</td>\n",
       "      <td>ultimate</td>\n",
       "      <td>1000</td>\n",
       "      <td>30720</td>\n",
       "      <td>3000</td>\n",
       "      <td>70</td>\n",
       "      <td>7</td>\n",
       "      <td>0.01</td>\n",
       "      <td>0.01</td>\n",
       "    </tr>\n",
       "    <tr>\n",
       "      <th>1</th>\n",
       "      <td>1001</td>\n",
       "      <td>8</td>\n",
       "      <td>27.0</td>\n",
       "      <td>171.14</td>\n",
       "      <td>30.0</td>\n",
       "      <td>6919.15</td>\n",
       "      <td>surf</td>\n",
       "      <td>50</td>\n",
       "      <td>15360</td>\n",
       "      <td>500</td>\n",
       "      <td>20</td>\n",
       "      <td>10</td>\n",
       "      <td>0.03</td>\n",
       "      <td>0.03</td>\n",
       "    </tr>\n",
       "    <tr>\n",
       "      <th>2</th>\n",
       "      <td>1001</td>\n",
       "      <td>9</td>\n",
       "      <td>49.0</td>\n",
       "      <td>297.69</td>\n",
       "      <td>44.0</td>\n",
       "      <td>13314.82</td>\n",
       "      <td>surf</td>\n",
       "      <td>50</td>\n",
       "      <td>15360</td>\n",
       "      <td>500</td>\n",
       "      <td>20</td>\n",
       "      <td>10</td>\n",
       "      <td>0.03</td>\n",
       "      <td>0.03</td>\n",
       "    </tr>\n",
       "    <tr>\n",
       "      <th>3</th>\n",
       "      <td>1001</td>\n",
       "      <td>10</td>\n",
       "      <td>65.0</td>\n",
       "      <td>374.11</td>\n",
       "      <td>53.0</td>\n",
       "      <td>22330.49</td>\n",
       "      <td>surf</td>\n",
       "      <td>50</td>\n",
       "      <td>15360</td>\n",
       "      <td>500</td>\n",
       "      <td>20</td>\n",
       "      <td>10</td>\n",
       "      <td>0.03</td>\n",
       "      <td>0.03</td>\n",
       "    </tr>\n",
       "    <tr>\n",
       "      <th>4</th>\n",
       "      <td>1001</td>\n",
       "      <td>11</td>\n",
       "      <td>64.0</td>\n",
       "      <td>404.59</td>\n",
       "      <td>36.0</td>\n",
       "      <td>18504.30</td>\n",
       "      <td>surf</td>\n",
       "      <td>50</td>\n",
       "      <td>15360</td>\n",
       "      <td>500</td>\n",
       "      <td>20</td>\n",
       "      <td>10</td>\n",
       "      <td>0.03</td>\n",
       "      <td>0.03</td>\n",
       "    </tr>\n",
       "    <tr>\n",
       "      <th>...</th>\n",
       "      <td>...</td>\n",
       "      <td>...</td>\n",
       "      <td>...</td>\n",
       "      <td>...</td>\n",
       "      <td>...</td>\n",
       "      <td>...</td>\n",
       "      <td>...</td>\n",
       "      <td>...</td>\n",
       "      <td>...</td>\n",
       "      <td>...</td>\n",
       "      <td>...</td>\n",
       "      <td>...</td>\n",
       "      <td>...</td>\n",
       "      <td>...</td>\n",
       "    </tr>\n",
       "    <tr>\n",
       "      <th>2288</th>\n",
       "      <td>1498</td>\n",
       "      <td>12</td>\n",
       "      <td>39.0</td>\n",
       "      <td>324.77</td>\n",
       "      <td>NaN</td>\n",
       "      <td>23137.69</td>\n",
       "      <td>surf</td>\n",
       "      <td>50</td>\n",
       "      <td>15360</td>\n",
       "      <td>500</td>\n",
       "      <td>20</td>\n",
       "      <td>10</td>\n",
       "      <td>0.03</td>\n",
       "      <td>0.03</td>\n",
       "    </tr>\n",
       "    <tr>\n",
       "      <th>2289</th>\n",
       "      <td>1499</td>\n",
       "      <td>9</td>\n",
       "      <td>41.0</td>\n",
       "      <td>330.37</td>\n",
       "      <td>NaN</td>\n",
       "      <td>12984.76</td>\n",
       "      <td>surf</td>\n",
       "      <td>50</td>\n",
       "      <td>15360</td>\n",
       "      <td>500</td>\n",
       "      <td>20</td>\n",
       "      <td>10</td>\n",
       "      <td>0.03</td>\n",
       "      <td>0.03</td>\n",
       "    </tr>\n",
       "    <tr>\n",
       "      <th>2290</th>\n",
       "      <td>1499</td>\n",
       "      <td>10</td>\n",
       "      <td>53.0</td>\n",
       "      <td>363.28</td>\n",
       "      <td>NaN</td>\n",
       "      <td>19492.43</td>\n",
       "      <td>surf</td>\n",
       "      <td>50</td>\n",
       "      <td>15360</td>\n",
       "      <td>500</td>\n",
       "      <td>20</td>\n",
       "      <td>10</td>\n",
       "      <td>0.03</td>\n",
       "      <td>0.03</td>\n",
       "    </tr>\n",
       "    <tr>\n",
       "      <th>2291</th>\n",
       "      <td>1499</td>\n",
       "      <td>11</td>\n",
       "      <td>45.0</td>\n",
       "      <td>288.56</td>\n",
       "      <td>NaN</td>\n",
       "      <td>16813.83</td>\n",
       "      <td>surf</td>\n",
       "      <td>50</td>\n",
       "      <td>15360</td>\n",
       "      <td>500</td>\n",
       "      <td>20</td>\n",
       "      <td>10</td>\n",
       "      <td>0.03</td>\n",
       "      <td>0.03</td>\n",
       "    </tr>\n",
       "    <tr>\n",
       "      <th>2292</th>\n",
       "      <td>1499</td>\n",
       "      <td>12</td>\n",
       "      <td>65.0</td>\n",
       "      <td>468.10</td>\n",
       "      <td>NaN</td>\n",
       "      <td>22059.21</td>\n",
       "      <td>surf</td>\n",
       "      <td>50</td>\n",
       "      <td>15360</td>\n",
       "      <td>500</td>\n",
       "      <td>20</td>\n",
       "      <td>10</td>\n",
       "      <td>0.03</td>\n",
       "      <td>0.03</td>\n",
       "    </tr>\n",
       "  </tbody>\n",
       "</table>\n",
       "<p>2293 rows × 14 columns</p>\n",
       "</div>"
      ],
      "text/plain": [
       "      user_id  month  num_calls  duration  num_message  traffic_volume  \\\n",
       "0        1000     12       16.0    116.83         11.0         1901.47   \n",
       "1        1001      8       27.0    171.14         30.0         6919.15   \n",
       "2        1001      9       49.0    297.69         44.0        13314.82   \n",
       "3        1001     10       65.0    374.11         53.0        22330.49   \n",
       "4        1001     11       64.0    404.59         36.0        18504.30   \n",
       "...       ...    ...        ...       ...          ...             ...   \n",
       "2288     1498     12       39.0    324.77          NaN        23137.69   \n",
       "2289     1499      9       41.0    330.37          NaN        12984.76   \n",
       "2290     1499     10       53.0    363.28          NaN        19492.43   \n",
       "2291     1499     11       45.0    288.56          NaN        16813.83   \n",
       "2292     1499     12       65.0    468.10          NaN        22059.21   \n",
       "\n",
       "          plan  messages_included  mb_per_month_included  minutes_included  \\\n",
       "0     ultimate               1000                  30720              3000   \n",
       "1         surf                 50                  15360               500   \n",
       "2         surf                 50                  15360               500   \n",
       "3         surf                 50                  15360               500   \n",
       "4         surf                 50                  15360               500   \n",
       "...        ...                ...                    ...               ...   \n",
       "2288      surf                 50                  15360               500   \n",
       "2289      surf                 50                  15360               500   \n",
       "2290      surf                 50                  15360               500   \n",
       "2291      surf                 50                  15360               500   \n",
       "2292      surf                 50                  15360               500   \n",
       "\n",
       "      usd_monthly_pay  usd_per_gb  usd_per_message  usd_per_minute  \n",
       "0                  70           7             0.01            0.01  \n",
       "1                  20          10             0.03            0.03  \n",
       "2                  20          10             0.03            0.03  \n",
       "3                  20          10             0.03            0.03  \n",
       "4                  20          10             0.03            0.03  \n",
       "...               ...         ...              ...             ...  \n",
       "2288               20          10             0.03            0.03  \n",
       "2289               20          10             0.03            0.03  \n",
       "2290               20          10             0.03            0.03  \n",
       "2291               20          10             0.03            0.03  \n",
       "2292               20          10             0.03            0.03  \n",
       "\n",
       "[2293 rows x 14 columns]"
      ]
     },
     "execution_count": 31,
     "metadata": {},
     "output_type": "execute_result"
    }
   ],
   "source": [
    "# Adicione as informações sobre o plano\n",
    "\n",
    "df_merge_users = df_merged_3.merge(df_users[['user_id', 'plan']], on='user_id', how= 'inner')\n",
    "df_plans = df_plans.rename(columns= {'plan_name': 'plan'})\n",
    "df_final = df_merge_users.merge(df_plans, on= 'plan', how= 'inner')\n",
    "df_final"
   ]
  },
  {
   "cell_type": "code",
   "execution_count": 32,
   "metadata": {
    "id": "JiPHXbQAuj8r"
   },
   "outputs": [
    {
     "data": {
      "text/html": [
       "<div>\n",
       "<style scoped>\n",
       "    .dataframe tbody tr th:only-of-type {\n",
       "        vertical-align: middle;\n",
       "    }\n",
       "\n",
       "    .dataframe tbody tr th {\n",
       "        vertical-align: top;\n",
       "    }\n",
       "\n",
       "    .dataframe thead th {\n",
       "        text-align: right;\n",
       "    }\n",
       "</style>\n",
       "<table border=\"1\" class=\"dataframe\">\n",
       "  <thead>\n",
       "    <tr style=\"text-align: right;\">\n",
       "      <th></th>\n",
       "      <th>user_id</th>\n",
       "      <th>month</th>\n",
       "      <th>monthly_revenue</th>\n",
       "    </tr>\n",
       "  </thead>\n",
       "  <tbody>\n",
       "    <tr>\n",
       "      <th>0</th>\n",
       "      <td>1000</td>\n",
       "      <td>12</td>\n",
       "      <td>0.0</td>\n",
       "    </tr>\n",
       "    <tr>\n",
       "      <th>1</th>\n",
       "      <td>1001</td>\n",
       "      <td>8</td>\n",
       "      <td>0.0</td>\n",
       "    </tr>\n",
       "    <tr>\n",
       "      <th>2</th>\n",
       "      <td>1001</td>\n",
       "      <td>9</td>\n",
       "      <td>0.0</td>\n",
       "    </tr>\n",
       "    <tr>\n",
       "      <th>3</th>\n",
       "      <td>1001</td>\n",
       "      <td>10</td>\n",
       "      <td>139469.8</td>\n",
       "    </tr>\n",
       "    <tr>\n",
       "      <th>4</th>\n",
       "      <td>1001</td>\n",
       "      <td>11</td>\n",
       "      <td>62886.0</td>\n",
       "    </tr>\n",
       "    <tr>\n",
       "      <th>...</th>\n",
       "      <td>...</td>\n",
       "      <td>...</td>\n",
       "      <td>...</td>\n",
       "    </tr>\n",
       "    <tr>\n",
       "      <th>2288</th>\n",
       "      <td>1498</td>\n",
       "      <td>12</td>\n",
       "      <td>155553.8</td>\n",
       "    </tr>\n",
       "    <tr>\n",
       "      <th>2289</th>\n",
       "      <td>1499</td>\n",
       "      <td>9</td>\n",
       "      <td>0.0</td>\n",
       "    </tr>\n",
       "    <tr>\n",
       "      <th>2290</th>\n",
       "      <td>1499</td>\n",
       "      <td>10</td>\n",
       "      <td>82648.6</td>\n",
       "    </tr>\n",
       "    <tr>\n",
       "      <th>2291</th>\n",
       "      <td>1499</td>\n",
       "      <td>11</td>\n",
       "      <td>29076.6</td>\n",
       "    </tr>\n",
       "    <tr>\n",
       "      <th>2292</th>\n",
       "      <td>1499</td>\n",
       "      <td>12</td>\n",
       "      <td>133984.2</td>\n",
       "    </tr>\n",
       "  </tbody>\n",
       "</table>\n",
       "<p>2293 rows × 3 columns</p>\n",
       "</div>"
      ],
      "text/plain": [
       "      user_id  month  monthly_revenue\n",
       "0        1000     12              0.0\n",
       "1        1001      8              0.0\n",
       "2        1001      9              0.0\n",
       "3        1001     10         139469.8\n",
       "4        1001     11          62886.0\n",
       "...       ...    ...              ...\n",
       "2288     1498     12         155553.8\n",
       "2289     1499      9              0.0\n",
       "2290     1499     10          82648.6\n",
       "2291     1499     11          29076.6\n",
       "2292     1499     12         133984.2\n",
       "\n",
       "[2293 rows x 3 columns]"
      ]
     },
     "execution_count": 32,
     "metadata": {},
     "output_type": "execute_result"
    }
   ],
   "source": [
    "# Calcule a receita mensal para cada usuário\n",
    "\n",
    "# Calculando o excesso de uso em relação ao limite gratuito\n",
    "df_final['extra_calls'] = df_final['num_calls'] - df_final['minutes_included']\n",
    "df_final['extra_messages'] = df_final['num_message'] - df_final['messages_included']\n",
    "df_final['extra_internet'] = df_final['traffic_volume'] - df_final['mb_per_month_included']\n",
    "\n",
    "# Substituindo valores negativos, onde o usuário não excedeu o limete\n",
    "df_final['extra_calls'] = df_final['extra_calls'].where(df_final['extra_calls'] >= 0, 0)\n",
    "df_final['extra_messages'] = df_final['extra_messages'].where(df_final['extra_messages'] >= 0, 0)\n",
    "df_final['extra_internet'] = df_final['extra_internet'].where(df_final['extra_internet'] >= 0, 0)\n",
    "                                                              \n",
    "# Calculando o custo adicinal para cada usuário\n",
    "df_final['extra_calls_cost'] = df_final['extra_calls'] * df_final['usd_monthly_pay']\n",
    "df_final['extra_messages_cost'] = df_final['extra_messages'] * df_final['usd_monthly_pay']\n",
    "df_final['extra_internt_cost'] = df_final['extra_internet'] * df_final['usd_monthly_pay']\n",
    "\n",
    "# Calculando a receita total mensal para cada usuário\n",
    "df_final['monthly_revenue'] = df_final['extra_calls_cost'] + df_final['extra_messages_cost'] + df_final['extra_internt_cost']\n",
    "                                       \n",
    "df_final[['user_id', 'month', 'monthly_revenue']]"
   ]
  },
  {
   "cell_type": "markdown",
   "metadata": {
    "id": "0HFWXKTQuj8r"
   },
   "source": [
    "## Estude o comportamento do usuário"
   ]
  },
  {
   "cell_type": "markdown",
   "metadata": {
    "id": "umaMfSLxuj8s"
   },
   "source": [
    "### Chamadas"
   ]
  },
  {
   "cell_type": "code",
   "execution_count": 33,
   "metadata": {
    "id": "0236-tJnuj8t"
   },
   "outputs": [
    {
     "data": {
      "text/plain": [
       "<Axes: xlabel='month', ylabel='duration'>"
      ]
     },
     "execution_count": 33,
     "metadata": {},
     "output_type": "execute_result"
    },
    {
     "data": {
      "image/png": "[encoded data removed]",
      "text/plain": [
       "<Figure size 640x480 with 1 Axes>"
      ]
     },
     "metadata": {},
     "output_type": "display_data"
    }
   ],
   "source": [
    "# Compare a duração média das chamadas de cada plano para cada mês. Crie um gráfico de barras para visualizar o resultado.\n",
    "\n",
    "duration_mean = df_final.groupby(['plan', 'month'])['duration'].mean().reset_index()\n",
    "\n",
    "# Imprimindo o gráfico\n",
    "sns.barplot(data= duration_mean, x='month', y= 'duration', hue= 'plan')"
   ]
  },
  {
   "cell_type": "code",
   "execution_count": 34,
   "metadata": {
    "id": "9sCQ1lP8uj8u"
   },
   "outputs": [
    {
     "data": {
      "text/plain": [
       "<Axes: xlabel='duration', ylabel='Count'>"
      ]
     },
     "execution_count": 34,
     "metadata": {},
     "output_type": "execute_result"
    },
    {
     "data": {
      "image/png": "[encoded data removed]",
      "text/plain": [
       "<Figure size 640x480 with 1 Axes>"
      ]
     },
     "metadata": {},
     "output_type": "display_data"
    }
   ],
   "source": [
    "# Compare o número de minutos que os usuários de cada plano necessitam a cada mês. Construa um histograma.\n",
    "\n",
    "df_total_minutes = df_final.groupby(['plan', 'month'])['duration'].sum().reset_index()\n",
    "\n",
    "# Imprimindo o gráfico \n",
    "sns.histplot(data= df_total_minutes, x='duration')"
   ]
  },
  {
   "cell_type": "code",
   "execution_count": 35,
   "metadata": {
    "id": "cIdodPExuj8u"
   },
   "outputs": [
    {
     "name": "stdout",
     "output_type": "stream",
     "text": [
      "        plan  month    duration\n",
      "0       surf      1  192.840000\n",
      "1       surf      2  280.851111\n",
      "2       surf      3  310.970000\n",
      "3       surf      4  332.380000\n",
      "4       surf      5  387.108000\n",
      "5       surf      6  411.450625\n",
      "6       surf      7  428.060917\n",
      "7       surf      8  394.474717\n",
      "8       surf      9  397.133298\n",
      "9       surf     10  414.435733\n",
      "10      surf     11  408.255415\n",
      "11      surf     12  457.547074\n",
      "12  ultimate      1  183.162500\n",
      "13  ultimate      2  443.171667\n",
      "14  ultimate      3  285.701667\n",
      "15  ultimate      4  316.508095\n",
      "16  ultimate      5  383.664828\n",
      "17  ultimate      6  365.358222\n",
      "18  ultimate      7  403.767288\n",
      "19  ultimate      8  397.274789\n",
      "20  ultimate      9  413.287326\n",
      "21  ultimate     10  429.217238\n",
      "22  ultimate     11  423.814683\n",
      "23  ultimate     12  438.824832\n",
      "        plan  month      duration\n",
      "0       surf      1  14795.440200\n",
      "1       surf      2  46959.219961\n",
      "2       surf      3  31821.317991\n",
      "3       surf      4  45615.666796\n",
      "4       surf      5  50778.127459\n",
      "5       surf      6  39424.054023\n",
      "6       surf      7  53364.540232\n",
      "7       surf      8  46639.240873\n",
      "8       surf      9  39785.302974\n",
      "9       surf     10  44103.681803\n",
      "10      surf     11  43560.874928\n",
      "11      surf     12  53646.781898\n",
      "12  ultimate      1  14991.369958\n",
      "13  ultimate      2  48579.581537\n",
      "14  ultimate      3  54273.917252\n",
      "15  ultimate      4  31057.727496\n",
      "16  ultimate      5  39290.610940\n",
      "17  ultimate      6  33837.770156\n",
      "18  ultimate      7  64844.426958\n",
      "19  ultimate      8  47680.189425\n",
      "20  ultimate      9  50994.505514\n",
      "21  ultimate     10  47081.623851\n",
      "22  ultimate     11  53273.637319\n",
      "23  ultimate     12  53967.731609\n"
     ]
    }
   ],
   "source": [
    "# Calcule a média e a variância da duração mensal das chamadas\n",
    "\n",
    "mean_duration = df_final.groupby(['plan', 'month'])['duration'].mean().reset_index()\n",
    "variance_duration = df_final.groupby(['plan', 'month'])['duration'].var().reset_index()\n",
    "\n",
    "print(mean_duration)\n",
    "print(variance_duration)"
   ]
  },
  {
   "cell_type": "code",
   "execution_count": 36,
   "metadata": {
    "id": "DW7vTypxuj8u"
   },
   "outputs": [
    {
     "data": {
      "text/plain": [
       "<Axes: xlabel='month', ylabel='duration'>"
      ]
     },
     "execution_count": 36,
     "metadata": {},
     "output_type": "execute_result"
    },
    {
     "data": {
      "image/png": "[encoded data removed]",
      "text/plain": [
       "<Figure size 640x480 with 1 Axes>"
      ]
     },
     "metadata": {},
     "output_type": "display_data"
    }
   ],
   "source": [
    "# Faça um diagrama de caixa para visualizar a distribuição da duração mensal das chamadas\n",
    "\n",
    "sns.boxplot(data= df_final, x= 'month', y= 'duration', hue= 'plan')"
   ]
  },
  {
   "cell_type": "markdown",
   "metadata": {
    "id": "Uyt3rWn7uj8u"
   },
   "source": [
    "# Análise do comportamento das chamadas por plano\n",
    "\n",
    "1. Duração média das chamadas:\n",
    "- Plano Ultimate: Tem mais variação na duração das chamadas durante o ano, com pico em fevereiro\n",
    "- Plano Surf: Mostra um crescimento mais constante, com pico em dezembro\n",
    "- Conclusão: Usuários do Ultimate variam mais o uso, enquanto os do Surf aumentam gradualmente\n",
    "\n",
    "2. Total de minutos usados:\n",
    "- Plano Ultimate: Tem picos altos em alguns meses, principalmente julho\n",
    "- Plano Surf: Cresce de forma constante até dezembro\n",
    "- Isso confirma o padrão visto na duração média\n",
    "\n",
    "3. Média e variância mensal:\n",
    "- Plano Ultimate tem mais variação no uso mensal\n",
    "- Nos últimos meses do ano, os dois planos ficam com médias parecidas\n",
    "- Isso sugere que no fim do ano o uso fica mais uniforme\n",
    "\n",
    "4. Distribuição das chamadas:\n",
    "- O plano Ultimate tem mais variação nos dados\n",
    "- O plano Surf mostra uso mais regular e previsível\n",
    "\n",
    "Conclusão:\n",
    "Os planos têm comportamentos diferentes:\n",
    "- Surf: Uso mais constante e previsível\n",
    "- Ultimate: Uso mais variado e flexível\n",
    "\n",
    "Isso pode ajudar a criar ofertas específicas para cada tipo de cliente.\n"
   ]
  },
  {
   "cell_type": "markdown",
   "metadata": {
    "id": "2hWSPtrnuj8v"
   },
   "source": [
    "### Mensagens"
   ]
  },
  {
   "cell_type": "code",
   "execution_count": 37,
   "metadata": {
    "id": "9kPlAhOJuj8v"
   },
   "outputs": [
    {
     "data": {
      "text/plain": [
       "<Axes: xlabel='month', ylabel='num_message'>"
      ]
     },
     "execution_count": 37,
     "metadata": {},
     "output_type": "execute_result"
    },
    {
     "data": {
      "image/png": "[encoded data removed]",
      "text/plain": [
       "<Figure size 640x480 with 1 Axes>"
      ]
     },
     "metadata": {},
     "output_type": "display_data"
    }
   ],
   "source": [
    "# Compare o número de mensagens que os usuários de cada plano costumam enviar a cada mês\n",
    "\n",
    "df_total_messages = df_final.groupby(['plan', 'month'])['num_message'].sum().reset_index()\n",
    "\n",
    "# Imprimindo gráfico de barras\n",
    "\n",
    "sns.barplot(data= df_total_messages, x='month', y= 'num_message', hue= 'plan')"
   ]
  },
  {
   "cell_type": "code",
   "execution_count": 38,
   "metadata": {
    "id": "di6wucOLuj8v"
   },
   "outputs": [
    {
     "name": "stdout",
     "output_type": "stream",
     "text": [
      "       plan  num_message\n",
      "0      surf    40.109656\n",
      "1  ultimate    46.296233\n",
      "       plan  num_message\n",
      "0      surf  1091.344231\n",
      "1  ultimate  1085.183108\n"
     ]
    }
   ],
   "source": [
    "# Calcule a média e a variância das mensagens\n",
    "\n",
    "mean_messages = df_final.groupby('plan')['num_message'].mean().reset_index()\n",
    "variance_messages = df_final.groupby('plan')['num_message'].var().reset_index()\n",
    "\n",
    "print(mean_messages)\n",
    "print(variance_messages)"
   ]
  },
  {
   "cell_type": "code",
   "execution_count": 39,
   "metadata": {},
   "outputs": [
    {
     "data": {
      "text/plain": [
       "<Axes: xlabel='plan', ylabel='num_message'>"
      ]
     },
     "execution_count": 39,
     "metadata": {},
     "output_type": "execute_result"
    },
    {
     "data": {
      "image/png": "[encoded data removed]",
      "text/plain": [
       "<Figure size 640x480 with 1 Axes>"
      ]
     },
     "metadata": {},
     "output_type": "display_data"
    }
   ],
   "source": [
    "# Diagrama de caixa para visualizar a distribuição de mensagens\n",
    "\n",
    "#diagrama_messages = df_final.groupby('plan')['num_message'].sum()\n",
    "\n",
    "sns.boxplot(data= df_final, x= 'plan', y= 'num_message' )"
   ]
  },
  {
   "cell_type": "markdown",
   "metadata": {
    "id": "v6QELMtcuj8v"
   },
   "source": [
    "# Análise do uso de mensagens por plano\n",
    "\n",
    "1. Total de mensagens por mês:\n",
    "\n",
    "- Plano Surf: Crescimento constante ao longo do ano, de 21 para 11.884 mensagens\n",
    "- Plano Ultimate: Volume maior em todos os meses, de 62 para 6.718 mensagens\n",
    "\n",
    "2. Média de mensagens:\n",
    "\n",
    "- Ultimate: 46,46 mensagens/mês\n",
    "- Surf: 39,98 mensagens/mês\n",
    "\n",
    "3. Variação no uso:\n",
    "\n",
    "- Surf: 1.101 (variância)\n",
    "- Ultimate: 1.084 (variância)\n",
    "- Variação similar entre os planos\n",
    "\n",
    "Principais diferenças:\n",
    "\n",
    "- Usuários Surf: Aumentam gradualmente o uso de mensagens durante o ano\n",
    "- Usuários Ultimate: Mantêm uso mais alto e constante desde o início\n",
    "\n",
    "Conclusão:\n",
    "O comportamento varia por plano - Surf tem crescimento gradual enquanto Ultimate mantém uso mais estável e elevado."
   ]
  },
  {
   "cell_type": "markdown",
   "metadata": {
    "id": "nHUCwAnauj8w"
   },
   "source": [
    "### Internet"
   ]
  },
  {
   "cell_type": "code",
   "execution_count": 40,
   "metadata": {
    "id": "EEm27RaRuj8w"
   },
   "outputs": [
    {
     "data": {
      "text/html": [
       "<div>\n",
       "<style scoped>\n",
       "    .dataframe tbody tr th:only-of-type {\n",
       "        vertical-align: middle;\n",
       "    }\n",
       "\n",
       "    .dataframe tbody tr th {\n",
       "        vertical-align: top;\n",
       "    }\n",
       "\n",
       "    .dataframe thead th {\n",
       "        text-align: right;\n",
       "    }\n",
       "</style>\n",
       "<table border=\"1\" class=\"dataframe\">\n",
       "  <thead>\n",
       "    <tr style=\"text-align: right;\">\n",
       "      <th></th>\n",
       "      <th>plan</th>\n",
       "      <th>traffic_volume</th>\n",
       "    </tr>\n",
       "  </thead>\n",
       "  <tbody>\n",
       "    <tr>\n",
       "      <th>0</th>\n",
       "      <td>surf</td>\n",
       "      <td>26046179.93</td>\n",
       "    </tr>\n",
       "    <tr>\n",
       "      <th>1</th>\n",
       "      <td>ultimate</td>\n",
       "      <td>12394583.78</td>\n",
       "    </tr>\n",
       "  </tbody>\n",
       "</table>\n",
       "</div>"
      ],
      "text/plain": [
       "       plan  traffic_volume\n",
       "0      surf     26046179.93\n",
       "1  ultimate     12394583.78"
      ]
     },
     "execution_count": 40,
     "metadata": {},
     "output_type": "execute_result"
    }
   ],
   "source": [
    "# Compare a quantidade de tráfego de internet consumido pelos usuários por plano\n",
    "\n",
    "df_traffic = df_final.groupby('plan')['traffic_volume'].sum().reset_index()\n",
    "df_traffic"
   ]
  },
  {
   "cell_type": "code",
   "execution_count": 41,
   "metadata": {
    "id": "Detb0wIZuj8w"
   },
   "outputs": [
    {
     "name": "stdout",
     "output_type": "stream",
     "text": [
      "       plan  traffic_volume\n",
      "0      surf    16717.702137\n",
      "1  ultimate    17238.642253\n",
      "       plan  traffic_volume\n",
      "0      surf    6.216823e+07\n",
      "1  ultimate    6.132485e+07\n"
     ]
    }
   ],
   "source": [
    "# Calcule a média e a variância do consumo de internet\n",
    "\n",
    "mean_traffic = df_final.groupby('plan')['traffic_volume'].mean().reset_index()\n",
    "variance_traffic = df_final.groupby('plan')['traffic_volume'].var().reset_index()\n",
    "\n",
    "print(mean_traffic)\n",
    "print(variance_traffic)"
   ]
  },
  {
   "cell_type": "code",
   "execution_count": 42,
   "metadata": {
    "id": "1zsw31_cuj8w"
   },
   "outputs": [
    {
     "data": {
      "text/plain": [
       "<Axes: xlabel='plan', ylabel='traffic_volume'>"
      ]
     },
     "execution_count": 42,
     "metadata": {},
     "output_type": "execute_result"
    },
    {
     "data": {
      "image/png": "[encoded data removed]",
      "text/plain": [
       "<Figure size 640x480 with 1 Axes>"
      ]
     },
     "metadata": {},
     "output_type": "display_data"
    }
   ],
   "source": [
    "# Diagrama de caixa para visualizar a distribuição do consumo de internet\n",
    "\n",
    "sns.boxplot(data= df_final, x= 'plan', y= 'traffic_volume')"
   ]
  },
  {
   "cell_type": "markdown",
   "metadata": {
    "id": "GsHkFpGmuj8w"
   },
   "source": [
    " 1. Consumo Total:\n",
    " O plano Surf usa mais internet no total (25.5 milhões) que o Ultimate (12.3 milhões), pois tem mais usuários.\n",
    " \n",
    " 2. Consumo por Usuário:\n",
    " \n",
    " Cada pessoa usa quantidade parecida nos dois planos:# - Surf: 16,667 MB \n",
    " - Ultimate: 17,278 MB\n",
    " \n",
    " 3. Variação:\n",
    " \n",
    " Os dois planos têm variação parecida no uso (~60 milhões), mostrando que os usuários usam quantidades diferentes de internet independente do plano.\n",
    " \n",
    " Em resumo: O uso individual é similar entre os planos, mas o Surf tem maior consumo total por ter mais usuários."
   ]
  },
  {
   "cell_type": "markdown",
   "metadata": {
    "id": "g23qXaYNuj8x"
   },
   "source": [
    "## Receita"
   ]
  },
  {
   "cell_type": "code",
   "execution_count": 43,
   "metadata": {
    "id": "CGuBwYRyuj8y"
   },
   "outputs": [
    {
     "name": "stdout",
     "output_type": "stream",
     "text": [
      "        plan  month  monthly_revenue\n",
      "0       surf      1         0.000000\n",
      "1       surf      2     24758.755556\n",
      "2       surf      3     47127.426087\n",
      "3       surf      4     36740.664000\n",
      "4       surf      5     49144.444156\n",
      "5       surf      6     50307.723711\n",
      "6       surf      7     76446.112397\n",
      "7       surf      8     80353.249383\n",
      "8       surf      9     68987.261856\n",
      "9       surf     10     82036.989873\n",
      "10      surf     11     68432.419788\n",
      "11      surf     12     90247.632075\n",
      "12  ultimate      1         0.000000\n",
      "13  ultimate      2         0.000000\n",
      "14  ultimate      3     34738.666667\n",
      "15  ultimate      4     28378.900000\n",
      "16  ultimate      5      5280.968966\n",
      "17  ultimate      6     15124.274468\n",
      "18  ultimate      7     18948.240678\n",
      "19  ultimate      8     27444.249296\n",
      "20  ultimate      9     18558.050000\n",
      "21  ultimate     10     21418.897170\n",
      "22  ultimate     11     16396.325984\n",
      "23  ultimate     12     31188.115232\n",
      "        plan  month  monthly_revenue\n",
      "0       surf      1     0.000000e+00\n",
      "1       surf      2     1.640133e+09\n",
      "2       surf      3     5.795577e+09\n",
      "3       surf      4     4.597267e+09\n",
      "4       surf      5     7.278803e+09\n",
      "5       surf      6     7.424989e+09\n",
      "6       surf      7     1.113609e+10\n",
      "7       surf      8     1.396754e+10\n",
      "8       surf      9     8.673878e+09\n",
      "9       surf     10     1.215056e+10\n",
      "10      surf     11     9.606547e+09\n",
      "11      surf     12     1.792670e+10\n",
      "12  ultimate      1     0.000000e+00\n",
      "13  ultimate      2     0.000000e+00\n",
      "14  ultimate      3     1.147878e+10\n",
      "15  ultimate      4     1.183337e+10\n",
      "16  ultimate      5     8.087704e+08\n",
      "17  ultimate      6     6.206844e+09\n",
      "18  ultimate      7     1.041143e+10\n",
      "19  ultimate      8     1.435983e+10\n",
      "20  ultimate      9     6.414581e+09\n",
      "21  ultimate     10     1.590226e+10\n",
      "22  ultimate     11     9.003602e+09\n",
      "23  ultimate     12     2.049828e+10\n"
     ]
    }
   ],
   "source": [
    "# Receita média e a variância por plano para cada mês\n",
    "\n",
    "mean_receita = df_final.groupby(['plan', 'month'])['monthly_revenue'].mean().reset_index()\n",
    "variancia_receita = df_final.groupby(['plan', 'month'])['monthly_revenue'].var().reset_index()\n",
    "\n",
    "print(mean_receita)\n",
    "print(variancia_receita)"
   ]
  },
  {
   "cell_type": "code",
   "execution_count": 44,
   "metadata": {
    "id": "qJSyfvUguj8y"
   },
   "outputs": [
    {
     "data": {
      "text/plain": [
       "<Axes: xlabel='month', ylabel='monthly_revenue'>"
      ]
     },
     "execution_count": 44,
     "metadata": {},
     "output_type": "execute_result"
    },
    {
     "data": {
      "image/png": "[encoded data removed]",
      "text/plain": [
       "<Figure size 640x480 with 1 Axes>"
      ]
     },
     "metadata": {},
     "output_type": "display_data"
    }
   ],
   "source": [
    "# Imprindo gráfico de barras da receita média mensal por plano\n",
    "\n",
    "sns.barplot(data= mean_receita, x= 'month', y= 'monthly_revenue', hue= 'plan')"
   ]
  },
  {
   "cell_type": "code",
   "execution_count": 45,
   "metadata": {
    "id": "KUSxMW71uj8z"
   },
   "outputs": [
    {
     "data": {
      "text/plain": [
       "<Axes: xlabel='plan', ylabel='monthly_revenue'>"
      ]
     },
     "execution_count": 45,
     "metadata": {},
     "output_type": "execute_result"
    },
    {
     "data": {
      "image/png": "[encoded data removed]",
      "text/plain": [
       "<Figure size 640x480 with 1 Axes>"
      ]
     },
     "metadata": {},
     "output_type": "display_data"
    }
   ],
   "source": [
    "# Receita total por plano\n",
    "\n",
    "df_receita_total = df_final.groupby('plan')['monthly_revenue'].sum().reset_index()\n",
    "\n",
    "sns.barplot(data= df_receita_total, x= 'plan', y= 'monthly_revenue')"
   ]
  },
  {
   "cell_type": "code",
   "execution_count": 46,
   "metadata": {},
   "outputs": [
    {
     "data": {
      "text/plain": [
       "<Axes: xlabel='plan', ylabel='monthly_revenue'>"
      ]
     },
     "execution_count": 46,
     "metadata": {},
     "output_type": "execute_result"
    },
    {
     "data": {
      "image/png": "[encoded data removed]",
      "text/plain": [
       "<Figure size 640x480 with 1 Axes>"
      ]
     },
     "metadata": {},
     "output_type": "display_data"
    }
   ],
   "source": [
    "# Imprimindo diagrama de caixa para receita mensal\n",
    "\n",
    "sns.boxplot(data= df_final, x= 'plan', y= 'monthly_revenue')"
   ]
  },
  {
   "cell_type": "markdown",
   "metadata": {
    "id": "6X34EwHpuj8z"
   },
   "source": [
    "# Análise da Receita por Plano:\n",
    "\n",
    " 1. Receita Média:\n",
    " - Plano Ultimate tem receita média maior que o Surf\n",
    " - Ultimate: mais de 1 milhão por mês\n",
    " - Surf: até 360 mil por mês\n",
    "\n",
    " 2. Variação:\n",
    " - Ultimate tem maior variação nas receitas\n",
    " - Surf tem receitas mais estáveis\n",
    "\n",
    " 3. Receita Total:\n",
    " - Ultimate gera mais receita total\n",
    " - Ultimate tem maior valor por usuário, mesmo com menos assinantes\n",
    "\n",
    " 4. Distribuição:\n",
    " - Ultimate: grande variação, com alguns usuários gerando receitas muito altas\n",
    " - Surf: distribuição mais uniforme"
   ]
  },
  {
   "cell_type": "markdown",
   "metadata": {
    "id": "xJ6Mu-KAuj8z"
   },
   "source": [
    "## Teste hipóteses estatísticas"
   ]
  },
  {
   "cell_type": "code",
   "execution_count": 47,
   "metadata": {
    "id": "LyGrPhpUuj80"
   },
   "outputs": [
    {
     "name": "stdout",
     "output_type": "stream",
     "text": [
      "valor-p:  1.658482696382435e-24\n",
      "Rejeitamos a hipótese nula: as receitas médias dos planos são diferentes.\n"
     ]
    }
   ],
   "source": [
    "# Teste as hipóteses\n",
    "\n",
    "# Formulação das hipóteses\n",
    "\n",
    "# Hipótose nula (H0): A reta média dos usuários dos planos Ultimate e Surf é igual\n",
    "# Hipótese Alternativa (H1): A receita média dos usuários dos planos Ultimate e Surf é diferente\n",
    "\n",
    "# Teste Estatístico t de Student para amostras independentes\n",
    "\n",
    "# Valor alpha 0.05\n",
    "\n",
    "ultimate_receita = df_final[df_final['plan'] == 'ultimate']['monthly_revenue'].dropna()\n",
    "surf_receita = df_final[df_final['plan'] == 'surf']['monthly_revenue'].dropna()\n",
    "\n",
    "if ultimate_receita.var() == surf_receita.var():\n",
    "    result = st.ttest_ind(ultimate_receita, surf_receita, equal_var= True, nan_policy= 'omit')\n",
    "else:\n",
    "    result = st.ttest_ind(ultimate_receita, surf_receita, equal_var= False, nan_policy= 'omit')\n",
    "\n",
    "print('valor-p: ', result.pvalue)\n",
    "\n",
    "if result.pvalue < 0.05:\n",
    "    print('Rejeitamos a hipótese nula: as receitas médias dos planos são diferentes.')\n",
    "else:\n",
    "    print('Não rejeitamos a hipótese nula: as receitas médias dos planos não são significativamente diferente.')"
   ]
  },
  {
   "cell_type": "code",
   "execution_count": 48,
   "metadata": {
    "id": "98t8iiJyuj80"
   },
   "outputs": [
    {
     "name": "stdout",
     "output_type": "stream",
     "text": [
      "valor-p:  0.22837972066356327\n",
      "Não rejeitamos a hipótese nula: não há diferença significativa na receita média entre NY-NJ e outras regiões.\n"
     ]
    }
   ],
   "source": [
    "# Teste as hipóteses\n",
    "\n",
    "# Formulação das hipóteses\n",
    "\n",
    "# Hipótose nula (H0): A receita média dos usuários da área de NY-NJ é igual à receita média dos usuários das demais regiões.\n",
    "# Hipótese Alternativa (H1): A receita média dos usuários da área de NY-NJ difere da receita média dos usuários das demais regiões.\n",
    "\n",
    "# Teste Estatístico t de Student para amostras independentes\n",
    "\n",
    "# Valor alpha 0.05\n",
    "\n",
    "df_merge = pd.merge(df_final, df_users, on= 'user_id', how= 'inner')\n",
    "ny_nj_users = df_merge[df_merge['city'].str.contains ('NY-NJ', case= False, na= False)]\n",
    "other_users = df_merge[~df_merge['city'].str.contains('NY-NJ', case= False, na= False)]\n",
    "\n",
    "ny_nj_users = ny_nj_users['monthly_revenue']\n",
    "other_users = other_users['monthly_revenue']\n",
    "\n",
    "if ny_nj_users.var() == other_users.var():\n",
    "    result = st.ttest_ind(ny_nj_users, other_users, equal_var= True, nan_policy= 'omit')\n",
    "else:\n",
    "    result = st.ttest_ind(ny_nj_users, other_users, equal_var= False, nan_policy= 'omit')\n",
    "\n",
    "print('valor-p: ', result.pvalue)\n",
    "\n",
    "if result.pvalue < 0.05:\n",
    "    print('Rejeitamos a hipótese nula: a receita média dos usuários de NY-NJ difere das demais regiões.')\n",
    "else:\n",
    "    print('Não rejeitamos a hipótese nula: não há diferença significativa na receita média entre NY-NJ e outras regiões.')"
   ]
  },
  {
   "cell_type": "markdown",
   "metadata": {
    "id": "M8WycwWFuj81"
   },
   "source": [
    " # Conclusão Final\n",
    "\n",
    "1. Análise do Perfil dos Usuários\n",
    "\n",
    "Os usuários foram analisados considerando seu comportamento de uso em chamadas, mensagens e internet. Verificou-se que os clientes do plano \"Ultimate\" utilizam mais recursos em comparação aos do plano \"Surf\", tanto em minutos de chamadas quanto em volume de dados.\n",
    "\n",
    "2. Padrões de Uso\n",
    "\n",
    "O plano \"Ultimate\" apresentou maior consumo médio de minutos e dados móveis. Já o plano \"Surf\", sendo mais básico, mostrou um padrão de uso mais moderado em todos os aspectos.\n",
    "\n",
    "3. Análise Financeira dos Planos\n",
    "\n",
    "O plano \"Ultimate\" demonstrou gerar maior receita média por usuário, resultado do maior consumo de recursos. Embora o plano \"Surf\" tenha menor receita individual, seu volume de usuários pode compensar parcialmente essa diferença.\n",
    "\n",
    "4. Validação Estatística\n",
    "\n",
    "Os testes estatísticos confirmaram que existe diferença significativa na receita média entre os planos, com o \"Ultimate\" gerando consistentemente mais receita que o \"Surf\".\n",
    "\n",
    "5. Recomendações\n",
    "\n",
    "Com base nos dados analisados, recomenda-se:\n",
    "- Manter o foco no plano \"Ultimate\" para clientes com alto consumo\n",
    "- Otimizar o plano \"Surf\" para atrair mais usuários de consumo moderado\n",
    "- Desenvolver estratégias de marketing específicas para cada perfil de cliente\n",
    "\n",
    "Esta análise fornece insights valiosos para decisões estratégicas sobre precificação, marketing e desenvolvimento de produtos, visando maximizar a satisfação dos clientes e a receita da empresa."
   ]
  }
 ],
 "metadata": {
  "ExecuteTimeLog": [
   {
    "duration": 828,
    "start_time": "2021-11-16T09:21:11.304Z"
   },
   {
    "duration": 893,
    "start_time": "2021-11-16T09:21:17.728Z"
   },
   {
    "duration": 1150,
    "start_time": "2021-11-16T09:21:29.568Z"
   },
   {
    "duration": 3,
    "start_time": "2021-11-16T09:24:14.495Z"
   },
   {
    "duration": 120,
    "start_time": "2021-11-16T09:24:46.630Z"
   },
   {
    "duration": 3,
    "start_time": "2021-11-16T09:28:27.882Z"
   },
   {
    "duration": 4,
    "start_time": "2021-11-16T09:29:54.281Z"
   },
   {
    "duration": 3,
    "start_time": "2021-11-16T09:30:45.936Z"
   },
   {
    "duration": 4,
    "start_time": "2021-11-16T09:31:06.300Z"
   },
   {
    "duration": 113,
    "start_time": "2021-11-16T09:31:37.208Z"
   },
   {
    "duration": 143,
    "start_time": "2021-11-16T09:31:48.656Z"
   },
   {
    "duration": 98,
    "start_time": "2021-11-16T09:31:55.678Z"
   },
   {
    "duration": 3,
    "start_time": "2021-11-16T09:32:08.535Z"
   },
   {
    "duration": 111,
    "start_time": "2021-11-16T09:32:10.120Z"
   },
   {
    "duration": 3,
    "start_time": "2021-11-16T09:32:15.732Z"
   },
   {
    "duration": 4,
    "start_time": "2021-11-16T09:32:29.423Z"
   },
   {
    "duration": 3,
    "start_time": "2021-11-16T10:03:03.074Z"
   },
   {
    "duration": 3,
    "start_time": "2021-11-16T10:10:01.288Z"
   },
   {
    "duration": 3,
    "start_time": "2021-11-16T10:10:46.923Z"
   },
   {
    "duration": 121,
    "start_time": "2021-11-16T10:37:46.494Z"
   },
   {
    "duration": 125,
    "start_time": "2021-11-16T10:38:20.632Z"
   },
   {
    "duration": 112,
    "start_time": "2021-11-16T10:46:53.001Z"
   },
   {
    "duration": 110,
    "start_time": "2021-11-16T10:48:25.775Z"
   },
   {
    "duration": 3,
    "start_time": "2021-11-16T10:50:18.720Z"
   },
   {
    "duration": 4,
    "start_time": "2021-11-16T10:50:37.649Z"
   },
   {
    "duration": 2,
    "start_time": "2021-11-16T10:50:51.884Z"
   },
   {
    "duration": 3,
    "start_time": "2021-11-16T10:51:56.237Z"
   },
   {
    "duration": 101,
    "start_time": "2021-11-16T10:53:13.791Z"
   },
   {
    "duration": 3,
    "start_time": "2021-11-16T10:55:59.186Z"
   },
   {
    "duration": 3,
    "start_time": "2021-11-16T10:56:10.751Z"
   },
   {
    "duration": 3,
    "start_time": "2021-11-16T10:56:49.038Z"
   },
   {
    "duration": 3,
    "start_time": "2021-11-16T10:56:49.174Z"
   },
   {
    "duration": 4,
    "start_time": "2021-11-16T10:56:49.414Z"
   },
   {
    "duration": 3,
    "start_time": "2021-11-16T10:56:49.680Z"
   },
   {
    "duration": 3,
    "start_time": "2021-11-16T10:56:50.370Z"
   },
   {
    "duration": 114,
    "start_time": "2021-11-16T10:59:34.518Z"
   },
   {
    "duration": 3,
    "start_time": "2021-11-16T11:01:41.201Z"
   },
   {
    "duration": 116,
    "start_time": "2021-11-16T11:01:48.754Z"
   },
   {
    "duration": 3,
    "start_time": "2021-11-16T11:02:16.685Z"
   },
   {
    "duration": 3,
    "start_time": "2021-11-16T11:02:19.479Z"
   },
   {
    "duration": 3,
    "start_time": "2021-11-16T11:02:47.067Z"
   },
   {
    "duration": 3,
    "start_time": "2021-11-16T11:02:49.353Z"
   },
   {
    "duration": 3,
    "start_time": "2021-11-16T11:03:07.835Z"
   },
   {
    "duration": 3,
    "start_time": "2021-11-16T11:03:07.953Z"
   },
   {
    "duration": 112,
    "start_time": "2021-11-16T11:07:52.072Z"
   },
   {
    "duration": 187,
    "start_time": "2021-11-16T11:09:23.468Z"
   },
   {
    "duration": 4,
    "start_time": "2021-11-16T11:10:01.455Z"
   },
   {
    "duration": 3,
    "start_time": "2021-11-16T11:10:05.069Z"
   },
   {
    "duration": 4,
    "start_time": "2021-11-16T11:10:13.376Z"
   },
   {
    "duration": 3,
    "start_time": "2021-11-16T11:10:14.434Z"
   },
   {
    "duration": 3,
    "start_time": "2021-11-16T11:10:22.853Z"
   },
   {
    "duration": 4,
    "start_time": "2021-11-16T11:27:29.279Z"
   },
   {
    "duration": 4,
    "start_time": "2021-11-16T11:29:08.919Z"
   },
   {
    "duration": 118,
    "start_time": "2021-11-16T11:29:46.703Z"
   },
   {
    "duration": 437,
    "start_time": "2021-11-16T11:36:02.181Z"
   },
   {
    "duration": 157,
    "start_time": "2021-11-16T11:36:14.388Z"
   },
   {
    "duration": 207,
    "start_time": "2021-11-16T11:47:15.898Z"
   },
   {
    "duration": 3,
    "start_time": "2021-11-16T11:53:52.092Z"
   },
   {
    "duration": 3,
    "start_time": "2021-11-16T11:53:52.236Z"
   },
   {
    "duration": 3,
    "start_time": "2021-11-16T11:59:12.005Z"
   },
   {
    "duration": 112,
    "start_time": "2021-11-16T12:00:33.446Z"
   },
   {
    "duration": 3,
    "start_time": "2021-11-16T12:02:14.453Z"
   },
   {
    "duration": 3,
    "start_time": "2021-11-16T12:02:39.512Z"
   },
   {
    "duration": 106,
    "start_time": "2021-11-16T12:03:03.460Z"
   },
   {
    "duration": 3,
    "start_time": "2021-11-17T20:37:21.139Z"
   },
   {
    "duration": 3,
    "start_time": "2021-11-17T20:37:22.229Z"
   },
   {
    "duration": 3,
    "start_time": "2021-11-17T20:38:38.806Z"
   },
   {
    "duration": 3,
    "start_time": "2021-11-17T20:38:41.958Z"
   },
   {
    "duration": 3,
    "start_time": "2021-11-17T20:43:46.551Z"
   },
   {
    "duration": 4,
    "start_time": "2021-11-17T20:58:21.835Z"
   },
   {
    "duration": 3,
    "start_time": "2021-11-17T20:59:21.872Z"
   },
   {
    "duration": 4,
    "start_time": "2021-11-17T20:59:45.352Z"
   },
   {
    "duration": 4,
    "start_time": "2021-11-17T20:59:49.646Z"
   },
   {
    "duration": 159,
    "start_time": "2021-11-17T21:02:26.949Z"
   },
   {
    "duration": 3,
    "start_time": "2021-11-17T21:03:53.461Z"
   },
   {
    "duration": 3,
    "start_time": "2021-11-17T21:03:53.694Z"
   },
   {
    "duration": 3,
    "start_time": "2021-11-17T21:05:28.145Z"
   },
   {
    "duration": 116,
    "start_time": "2021-11-17T21:05:57.787Z"
   },
   {
    "duration": 3,
    "start_time": "2021-11-17T21:06:37.993Z"
   },
   {
    "duration": 3,
    "start_time": "2021-11-17T21:06:38.261Z"
   },
   {
    "duration": 3,
    "start_time": "2021-11-17T21:11:54.358Z"
   },
   {
    "duration": 3,
    "start_time": "2021-11-17T21:12:43.846Z"
   },
   {
    "duration": 4,
    "start_time": "2021-11-17T21:13:08.773Z"
   },
   {
    "duration": 3,
    "start_time": "2021-11-17T21:14:44.441Z"
   },
   {
    "duration": 3,
    "start_time": "2021-11-17T21:15:42.059Z"
   },
   {
    "duration": 4,
    "start_time": "2021-11-17T21:15:51.995Z"
   },
   {
    "duration": 3,
    "start_time": "2021-11-17T21:15:53.923Z"
   },
   {
    "duration": 3,
    "start_time": "2021-11-17T21:15:55.282Z"
   },
   {
    "duration": 3,
    "start_time": "2021-11-17T21:16:28.492Z"
   },
   {
    "duration": 3,
    "start_time": "2021-11-17T21:16:32.603Z"
   },
   {
    "duration": 3,
    "start_time": "2021-11-17T21:17:06.941Z"
   },
   {
    "duration": 98,
    "start_time": "2021-11-17T21:18:05.733Z"
   },
   {
    "duration": 4,
    "start_time": "2021-11-17T21:21:35.255Z"
   },
   {
    "duration": 3,
    "start_time": "2021-11-17T21:21:37.804Z"
   },
   {
    "duration": 4,
    "start_time": "2021-11-17T21:23:06.071Z"
   },
   {
    "duration": 3,
    "start_time": "2021-11-17T21:23:24.799Z"
   },
   {
    "duration": 3,
    "start_time": "2021-11-17T21:23:32.591Z"
   },
   {
    "duration": 98,
    "start_time": "2021-11-17T21:28:31.559Z"
   },
   {
    "duration": 3,
    "start_time": "2021-11-17T21:28:45.448Z"
   },
   {
    "duration": 3,
    "start_time": "2021-11-17T21:29:17.303Z"
   },
   {
    "duration": 3,
    "start_time": "2021-11-17T21:29:29.617Z"
   },
   {
    "duration": 3,
    "start_time": "2021-11-17T21:29:32.681Z"
   },
   {
    "duration": 3,
    "start_time": "2021-11-17T21:36:11.474Z"
   },
   {
    "duration": 3,
    "start_time": "2021-11-17T21:36:14.791Z"
   },
   {
    "duration": 3,
    "start_time": "2021-11-17T21:36:53.943Z"
   },
   {
    "duration": 3,
    "start_time": "2021-11-17T21:36:56.165Z"
   },
   {
    "duration": 4,
    "start_time": "2021-11-17T21:37:16.590Z"
   },
   {
    "duration": 3,
    "start_time": "2021-11-17T21:37:22.702Z"
   },
   {
    "duration": 4,
    "start_time": "2021-11-17T21:38:03.479Z"
   },
   {
    "duration": 3,
    "start_time": "2021-11-17T21:38:08.601Z"
   },
   {
    "duration": 3,
    "start_time": "2021-11-17T21:38:12.928Z"
   },
   {
    "duration": 3,
    "start_time": "2021-11-17T21:38:48.896Z"
   },
   {
    "duration": 2,
    "start_time": "2021-11-17T21:38:49.171Z"
   },
   {
    "duration": 4,
    "start_time": "2021-11-17T21:39:57.889Z"
   },
   {
    "duration": 3,
    "start_time": "2021-11-17T21:39:58.057Z"
   },
   {
    "duration": 3,
    "start_time": "2021-11-17T21:41:20.108Z"
   },
   {
    "duration": 3,
    "start_time": "2021-11-17T21:41:20.629Z"
   },
   {
    "duration": 3,
    "start_time": "2021-11-17T21:42:49.136Z"
   },
   {
    "duration": 3,
    "start_time": "2021-11-17T21:43:15.137Z"
   },
   {
    "duration": 4,
    "start_time": "2021-11-17T21:43:16.766Z"
   },
   {
    "duration": 4,
    "start_time": "2021-11-17T21:43:31.711Z"
   },
   {
    "duration": 3,
    "start_time": "2021-11-17T21:43:36.312Z"
   },
   {
    "duration": 4,
    "start_time": "2021-11-17T21:45:08.825Z"
   },
   {
    "duration": 4,
    "start_time": "2021-11-17T21:45:10.119Z"
   },
   {
    "duration": 4,
    "start_time": "2021-11-17T21:45:13.748Z"
   },
   {
    "duration": 3,
    "start_time": "2021-11-17T21:45:22.219Z"
   },
   {
    "duration": 3,
    "start_time": "2021-11-17T21:45:33.412Z"
   },
   {
    "duration": 2,
    "start_time": "2021-11-17T21:46:01.885Z"
   },
   {
    "duration": 3,
    "start_time": "2021-11-17T21:46:03.628Z"
   },
   {
    "duration": 107,
    "start_time": "2021-11-17T21:47:32.512Z"
   },
   {
    "duration": 103,
    "start_time": "2021-11-17T21:50:36.243Z"
   },
   {
    "duration": 3,
    "start_time": "2021-11-18T06:28:31.440Z"
   },
   {
    "duration": 3,
    "start_time": "2021-11-18T06:29:00.168Z"
   },
   {
    "duration": 3,
    "start_time": "2021-11-18T06:31:27.008Z"
   },
   {
    "duration": 2,
    "start_time": "2021-11-18T06:35:34.288Z"
   },
   {
    "duration": 2,
    "start_time": "2021-11-18T06:38:04.527Z"
   },
   {
    "duration": 306,
    "start_time": "2024-11-07T18:46:01.768Z"
   },
   {
    "duration": 209,
    "start_time": "2024-11-07T18:56:17.035Z"
   },
   {
    "duration": 9,
    "start_time": "2024-11-07T19:01:53.561Z"
   },
   {
    "duration": 12,
    "start_time": "2024-11-07T19:07:38.330Z"
   },
   {
    "duration": 9,
    "start_time": "2024-11-07T19:16:45.600Z"
   },
   {
    "duration": 8,
    "start_time": "2024-11-07T19:16:57.457Z"
   },
   {
    "duration": 8,
    "start_time": "2024-11-07T19:17:51.218Z"
   },
   {
    "duration": 9,
    "start_time": "2024-11-07T19:18:05.154Z"
   },
   {
    "duration": 8,
    "start_time": "2024-11-07T19:19:50.346Z"
   },
   {
    "duration": 8,
    "start_time": "2024-11-07T19:20:00.168Z"
   },
   {
    "duration": 16,
    "start_time": "2024-11-07T19:21:05.186Z"
   },
   {
    "duration": 8,
    "start_time": "2024-11-07T19:21:36.150Z"
   },
   {
    "duration": 13,
    "start_time": "2024-11-07T19:22:53.794Z"
   },
   {
    "duration": 6,
    "start_time": "2024-11-07T19:23:13.236Z"
   },
   {
    "duration": 14,
    "start_time": "2024-11-07T19:23:38.672Z"
   },
   {
    "duration": 7,
    "start_time": "2024-11-07T19:24:05.144Z"
   },
   {
    "duration": 9,
    "start_time": "2024-11-07T19:24:41.837Z"
   },
   {
    "duration": 7,
    "start_time": "2024-11-07T19:25:18.748Z"
   },
   {
    "duration": 9,
    "start_time": "2024-11-07T19:38:05.968Z"
   },
   {
    "duration": 12,
    "start_time": "2024-11-07T19:39:50.210Z"
   },
   {
    "duration": 9,
    "start_time": "2024-11-07T19:41:55.910Z"
   },
   {
    "duration": 6,
    "start_time": "2024-11-07T19:42:18.941Z"
   },
   {
    "duration": 8,
    "start_time": "2024-11-07T19:42:30.867Z"
   },
   {
    "duration": 7,
    "start_time": "2024-11-07T19:56:06.623Z"
   },
   {
    "duration": 7,
    "start_time": "2024-11-07T19:57:04.321Z"
   },
   {
    "duration": 5,
    "start_time": "2024-11-07T19:57:16.260Z"
   },
   {
    "duration": 6,
    "start_time": "2024-11-07T19:59:01.472Z"
   },
   {
    "duration": 5,
    "start_time": "2024-11-07T19:59:51.414Z"
   },
   {
    "duration": 19,
    "start_time": "2024-11-07T20:00:27.926Z"
   },
   {
    "duration": 35,
    "start_time": "2024-11-07T20:00:59.456Z"
   },
   {
    "duration": 11,
    "start_time": "2024-11-07T20:01:32.704Z"
   },
   {
    "duration": 17,
    "start_time": "2024-11-07T20:02:02.493Z"
   },
   {
    "duration": 13,
    "start_time": "2024-11-07T20:02:30.174Z"
   },
   {
    "duration": 37,
    "start_time": "2024-11-07T20:03:03.670Z"
   },
   {
    "duration": 400,
    "start_time": "2024-11-08T00:50:38.232Z"
   },
   {
    "duration": 218,
    "start_time": "2024-11-08T00:50:38.634Z"
   },
   {
    "duration": 10,
    "start_time": "2024-11-08T00:50:38.854Z"
   },
   {
    "duration": 12,
    "start_time": "2024-11-08T00:50:38.866Z"
   },
   {
    "duration": 6,
    "start_time": "2024-11-08T00:50:38.880Z"
   },
   {
    "duration": 4,
    "start_time": "2024-11-08T00:50:38.888Z"
   },
   {
    "duration": 22,
    "start_time": "2024-11-08T00:50:38.894Z"
   },
   {
    "duration": 10,
    "start_time": "2024-11-08T00:50:38.918Z"
   },
   {
    "duration": 5,
    "start_time": "2024-11-08T00:50:38.930Z"
   },
   {
    "duration": 5,
    "start_time": "2024-11-08T00:50:38.939Z"
   },
   {
    "duration": 16,
    "start_time": "2024-11-08T00:50:38.946Z"
   },
   {
    "duration": 50,
    "start_time": "2024-11-08T00:50:38.964Z"
   },
   {
    "duration": 14,
    "start_time": "2024-11-08T00:50:39.016Z"
   },
   {
    "duration": 35,
    "start_time": "2024-11-08T00:50:39.031Z"
   },
   {
    "duration": 12,
    "start_time": "2024-11-08T00:50:39.068Z"
   },
   {
    "duration": 35,
    "start_time": "2024-11-08T00:50:39.082Z"
   },
   {
    "duration": 11,
    "start_time": "2024-11-08T00:50:39.118Z"
   },
   {
    "duration": 17,
    "start_time": "2024-11-08T00:50:39.130Z"
   },
   {
    "duration": 15,
    "start_time": "2024-11-08T00:50:39.149Z"
   },
   {
    "duration": 7,
    "start_time": "2024-11-08T00:50:39.166Z"
   },
   {
    "duration": 44,
    "start_time": "2024-11-08T00:50:39.175Z"
   },
   {
    "duration": 39,
    "start_time": "2024-11-08T00:50:39.221Z"
   },
   {
    "duration": 3,
    "start_time": "2024-11-08T00:50:39.262Z"
   },
   {
    "duration": 2,
    "start_time": "2024-11-08T00:50:39.267Z"
   },
   {
    "duration": 2,
    "start_time": "2024-11-08T00:50:39.271Z"
   },
   {
    "duration": 34,
    "start_time": "2024-11-08T00:50:39.276Z"
   },
   {
    "duration": 2,
    "start_time": "2024-11-08T00:50:39.313Z"
   },
   {
    "duration": 2,
    "start_time": "2024-11-08T00:50:39.318Z"
   },
   {
    "duration": 2,
    "start_time": "2024-11-08T00:50:39.322Z"
   },
   {
    "duration": 2,
    "start_time": "2024-11-08T00:50:39.326Z"
   },
   {
    "duration": 2,
    "start_time": "2024-11-08T00:50:39.330Z"
   },
   {
    "duration": 2,
    "start_time": "2024-11-08T00:50:39.335Z"
   },
   {
    "duration": 2,
    "start_time": "2024-11-08T00:50:39.338Z"
   },
   {
    "duration": 2,
    "start_time": "2024-11-08T00:50:39.342Z"
   },
   {
    "duration": 2,
    "start_time": "2024-11-08T00:50:39.346Z"
   },
   {
    "duration": 2,
    "start_time": "2024-11-08T00:50:39.350Z"
   },
   {
    "duration": 2,
    "start_time": "2024-11-08T00:50:39.354Z"
   },
   {
    "duration": 2,
    "start_time": "2024-11-08T00:50:39.410Z"
   },
   {
    "duration": 173,
    "start_time": "2024-11-08T17:57:36.735Z"
   },
   {
    "duration": 308,
    "start_time": "2024-11-08T17:57:49.522Z"
   },
   {
    "duration": 200,
    "start_time": "2024-11-08T17:57:49.833Z"
   },
   {
    "duration": 10,
    "start_time": "2024-11-08T17:57:50.035Z"
   },
   {
    "duration": 10,
    "start_time": "2024-11-08T17:57:50.047Z"
   },
   {
    "duration": 5,
    "start_time": "2024-11-08T17:57:50.061Z"
   },
   {
    "duration": 5,
    "start_time": "2024-11-08T17:57:50.067Z"
   },
   {
    "duration": 8,
    "start_time": "2024-11-08T17:57:50.086Z"
   },
   {
    "duration": 9,
    "start_time": "2024-11-08T17:57:50.096Z"
   },
   {
    "duration": 5,
    "start_time": "2024-11-08T17:57:50.107Z"
   },
   {
    "duration": 5,
    "start_time": "2024-11-08T17:57:50.113Z"
   },
   {
    "duration": 44,
    "start_time": "2024-11-08T17:57:59.497Z"
   },
   {
    "duration": 8,
    "start_time": "2024-11-08T18:03:53.657Z"
   },
   {
    "duration": 133,
    "start_time": "2024-11-08T18:15:02.184Z"
   },
   {
    "duration": 15,
    "start_time": "2024-11-08T18:16:38.716Z"
   },
   {
    "duration": 13,
    "start_time": "2024-11-08T18:18:16.836Z"
   },
   {
    "duration": 20,
    "start_time": "2024-11-08T18:19:35.783Z"
   },
   {
    "duration": 373,
    "start_time": "2024-11-08T18:31:25.586Z"
   },
   {
    "duration": 14,
    "start_time": "2024-11-08T18:32:08.851Z"
   },
   {
    "duration": 12,
    "start_time": "2024-11-08T18:33:06.883Z"
   },
   {
    "duration": 11,
    "start_time": "2024-11-08T18:33:40.783Z"
   },
   {
    "duration": 11,
    "start_time": "2024-11-08T18:35:55.378Z"
   },
   {
    "duration": 21,
    "start_time": "2024-11-08T18:39:51.664Z"
   },
   {
    "duration": 20,
    "start_time": "2024-11-08T18:40:46.868Z"
   },
   {
    "duration": 21,
    "start_time": "2024-11-08T18:41:03.059Z"
   },
   {
    "duration": 13,
    "start_time": "2024-11-08T18:50:56.345Z"
   },
   {
    "duration": 18,
    "start_time": "2024-11-08T18:51:17.208Z"
   },
   {
    "duration": 21,
    "start_time": "2024-11-08T18:57:08.106Z"
   },
   {
    "duration": 22,
    "start_time": "2024-11-08T18:58:08.038Z"
   },
   {
    "duration": 16,
    "start_time": "2024-11-08T19:01:06.369Z"
   },
   {
    "duration": 297,
    "start_time": "2024-11-08T19:01:54.388Z"
   },
   {
    "duration": 8,
    "start_time": "2024-11-08T19:03:36.884Z"
   },
   {
    "duration": 10,
    "start_time": "2024-11-08T19:03:50.684Z"
   },
   {
    "duration": 7,
    "start_time": "2024-11-08T19:03:58.625Z"
   },
   {
    "duration": 16,
    "start_time": "2024-11-08T19:07:28.514Z"
   },
   {
    "duration": 36,
    "start_time": "2024-11-08T19:07:56.103Z"
   },
   {
    "duration": 89,
    "start_time": "2024-11-08T19:09:08.118Z"
   },
   {
    "duration": 23,
    "start_time": "2024-11-08T19:09:12.258Z"
   },
   {
    "duration": 45,
    "start_time": "2024-11-08T19:09:24.233Z"
   },
   {
    "duration": 50,
    "start_time": "2024-11-08T19:09:38.593Z"
   },
   {
    "duration": 20,
    "start_time": "2024-11-08T19:10:11.695Z"
   },
   {
    "duration": 20,
    "start_time": "2024-11-08T19:10:49.265Z"
   },
   {
    "duration": 21,
    "start_time": "2024-11-08T19:12:54.311Z"
   },
   {
    "duration": 9,
    "start_time": "2024-11-08T19:14:36.735Z"
   },
   {
    "duration": 14,
    "start_time": "2024-11-08T19:20:20.292Z"
   },
   {
    "duration": 20,
    "start_time": "2024-11-08T19:20:36.609Z"
   },
   {
    "duration": 19,
    "start_time": "2024-11-08T19:22:11.490Z"
   },
   {
    "duration": 19,
    "start_time": "2024-11-08T19:23:11.053Z"
   },
   {
    "duration": 9,
    "start_time": "2024-11-08T19:24:18.479Z"
   },
   {
    "duration": 14,
    "start_time": "2024-11-08T19:25:47.132Z"
   },
   {
    "duration": 19,
    "start_time": "2024-11-08T19:25:54.738Z"
   },
   {
    "duration": 18,
    "start_time": "2024-11-08T19:26:39.188Z"
   },
   {
    "duration": 26,
    "start_time": "2024-11-08T19:36:43.462Z"
   },
   {
    "duration": 21,
    "start_time": "2024-11-08T19:37:03.710Z"
   },
   {
    "duration": 12,
    "start_time": "2024-11-08T19:44:20.309Z"
   },
   {
    "duration": 16,
    "start_time": "2024-11-08T19:44:33.677Z"
   },
   {
    "duration": 12,
    "start_time": "2024-11-08T19:45:35.661Z"
   },
   {
    "duration": 164,
    "start_time": "2024-11-08T21:08:24.238Z"
   },
   {
    "duration": 333,
    "start_time": "2024-11-08T21:12:24.740Z"
   },
   {
    "duration": 218,
    "start_time": "2024-11-08T21:12:25.075Z"
   },
   {
    "duration": 9,
    "start_time": "2024-11-08T21:12:25.295Z"
   },
   {
    "duration": 12,
    "start_time": "2024-11-08T21:12:25.307Z"
   },
   {
    "duration": 6,
    "start_time": "2024-11-08T21:12:25.322Z"
   },
   {
    "duration": 5,
    "start_time": "2024-11-08T21:12:25.329Z"
   },
   {
    "duration": 8,
    "start_time": "2024-11-08T21:12:25.336Z"
   },
   {
    "duration": 9,
    "start_time": "2024-11-08T21:12:25.346Z"
   },
   {
    "duration": 5,
    "start_time": "2024-11-08T21:12:25.357Z"
   },
   {
    "duration": 4,
    "start_time": "2024-11-08T21:12:25.364Z"
   },
   {
    "duration": 56,
    "start_time": "2024-11-08T21:12:25.370Z"
   },
   {
    "duration": 9,
    "start_time": "2024-11-08T21:12:25.429Z"
   },
   {
    "duration": 12,
    "start_time": "2024-11-08T21:12:25.441Z"
   },
   {
    "duration": 33,
    "start_time": "2024-11-08T21:12:25.456Z"
   },
   {
    "duration": 23,
    "start_time": "2024-11-08T21:12:25.512Z"
   },
   {
    "duration": 12,
    "start_time": "2024-11-08T21:12:25.537Z"
   },
   {
    "duration": 8,
    "start_time": "2024-11-08T21:12:25.551Z"
   },
   {
    "duration": 9,
    "start_time": "2024-11-08T21:12:25.560Z"
   },
   {
    "duration": 49,
    "start_time": "2024-11-08T21:12:25.570Z"
   },
   {
    "duration": 12,
    "start_time": "2024-11-08T21:12:25.621Z"
   },
   {
    "duration": 13,
    "start_time": "2024-11-08T21:12:25.635Z"
   },
   {
    "duration": 6,
    "start_time": "2024-11-08T21:12:25.650Z"
   },
   {
    "duration": 10,
    "start_time": "2024-11-08T21:12:25.657Z"
   },
   {
    "duration": 66,
    "start_time": "2024-11-08T21:12:25.669Z"
   },
   {
    "duration": 15,
    "start_time": "2024-11-08T21:12:25.737Z"
   },
   {
    "duration": 7,
    "start_time": "2024-11-08T21:12:25.754Z"
   },
   {
    "duration": 21,
    "start_time": "2024-11-08T21:12:25.763Z"
   },
   {
    "duration": 42,
    "start_time": "2024-11-08T21:12:25.786Z"
   },
   {
    "duration": 14,
    "start_time": "2024-11-08T21:12:25.829Z"
   },
   {
    "duration": 17,
    "start_time": "2024-11-08T21:12:25.845Z"
   },
   {
    "duration": 34,
    "start_time": "2024-11-08T21:12:30.463Z"
   },
   {
    "duration": 13,
    "start_time": "2024-11-08T21:15:37.177Z"
   },
   {
    "duration": 14,
    "start_time": "2024-11-08T21:16:31.897Z"
   },
   {
    "duration": 12,
    "start_time": "2024-11-08T21:19:06.715Z"
   },
   {
    "duration": 12,
    "start_time": "2024-11-08T21:19:32.904Z"
   },
   {
    "duration": 13,
    "start_time": "2024-11-08T21:19:39.363Z"
   },
   {
    "duration": 12,
    "start_time": "2024-11-08T21:20:08.640Z"
   },
   {
    "duration": 14,
    "start_time": "2024-11-08T21:20:37.980Z"
   },
   {
    "duration": 3,
    "start_time": "2024-11-08T21:29:34.677Z"
   },
   {
    "duration": 12,
    "start_time": "2024-11-08T21:40:49.076Z"
   },
   {
    "duration": 7,
    "start_time": "2024-11-08T21:41:18.075Z"
   },
   {
    "duration": 8,
    "start_time": "2024-11-08T21:41:34.689Z"
   },
   {
    "duration": 440,
    "start_time": "2024-11-08T21:43:16.135Z"
   },
   {
    "duration": 437,
    "start_time": "2024-11-08T21:48:50.677Z"
   },
   {
    "duration": 159,
    "start_time": "2024-11-08T21:49:09.404Z"
   },
   {
    "duration": 338,
    "start_time": "2024-11-08T21:49:31.427Z"
   },
   {
    "duration": 231,
    "start_time": "2024-11-08T21:49:31.767Z"
   },
   {
    "duration": 10,
    "start_time": "2024-11-08T21:49:31.999Z"
   },
   {
    "duration": 10,
    "start_time": "2024-11-08T21:49:32.012Z"
   },
   {
    "duration": 4,
    "start_time": "2024-11-08T21:49:32.024Z"
   },
   {
    "duration": 5,
    "start_time": "2024-11-08T21:49:32.030Z"
   },
   {
    "duration": 10,
    "start_time": "2024-11-08T21:49:32.037Z"
   },
   {
    "duration": 8,
    "start_time": "2024-11-08T21:49:32.050Z"
   },
   {
    "duration": 6,
    "start_time": "2024-11-08T21:49:32.060Z"
   },
   {
    "duration": 42,
    "start_time": "2024-11-08T21:49:32.070Z"
   },
   {
    "duration": 16,
    "start_time": "2024-11-08T21:49:32.113Z"
   },
   {
    "duration": 9,
    "start_time": "2024-11-08T21:49:32.131Z"
   },
   {
    "duration": 12,
    "start_time": "2024-11-08T21:49:32.142Z"
   },
   {
    "duration": 60,
    "start_time": "2024-11-08T21:49:32.156Z"
   },
   {
    "duration": 20,
    "start_time": "2024-11-08T21:49:32.218Z"
   },
   {
    "duration": 11,
    "start_time": "2024-11-08T21:49:32.240Z"
   },
   {
    "duration": 8,
    "start_time": "2024-11-08T21:49:32.253Z"
   },
   {
    "duration": 8,
    "start_time": "2024-11-08T21:49:32.263Z"
   },
   {
    "duration": 47,
    "start_time": "2024-11-08T21:49:32.273Z"
   },
   {
    "duration": 13,
    "start_time": "2024-11-08T21:49:32.321Z"
   },
   {
    "duration": 13,
    "start_time": "2024-11-08T21:49:32.336Z"
   },
   {
    "duration": 6,
    "start_time": "2024-11-08T21:49:32.351Z"
   },
   {
    "duration": 10,
    "start_time": "2024-11-08T21:49:32.358Z"
   },
   {
    "duration": 69,
    "start_time": "2024-11-08T21:49:32.370Z"
   },
   {
    "duration": 15,
    "start_time": "2024-11-08T21:49:32.441Z"
   },
   {
    "duration": 7,
    "start_time": "2024-11-08T21:49:32.457Z"
   },
   {
    "duration": 22,
    "start_time": "2024-11-08T21:49:32.466Z"
   },
   {
    "duration": 20,
    "start_time": "2024-11-08T21:49:32.515Z"
   },
   {
    "duration": 15,
    "start_time": "2024-11-08T21:49:32.537Z"
   },
   {
    "duration": 18,
    "start_time": "2024-11-08T21:49:32.553Z"
   },
   {
    "duration": 8,
    "start_time": "2024-11-08T21:49:32.572Z"
   },
   {
    "duration": 37,
    "start_time": "2024-11-08T21:49:32.581Z"
   },
   {
    "duration": 300,
    "start_time": "2024-11-08T21:50:28.769Z"
   },
   {
    "duration": 204,
    "start_time": "2024-11-08T21:50:29.071Z"
   },
   {
    "duration": 8,
    "start_time": "2024-11-08T21:50:29.277Z"
   },
   {
    "duration": 12,
    "start_time": "2024-11-08T21:50:29.288Z"
   },
   {
    "duration": 6,
    "start_time": "2024-11-08T21:50:29.301Z"
   },
   {
    "duration": 5,
    "start_time": "2024-11-08T21:50:29.309Z"
   },
   {
    "duration": 8,
    "start_time": "2024-11-08T21:50:29.317Z"
   },
   {
    "duration": 9,
    "start_time": "2024-11-08T21:50:29.326Z"
   },
   {
    "duration": 5,
    "start_time": "2024-11-08T21:50:29.336Z"
   },
   {
    "duration": 5,
    "start_time": "2024-11-08T21:50:29.344Z"
   },
   {
    "duration": 15,
    "start_time": "2024-11-08T21:50:29.350Z"
   },
   {
    "duration": 48,
    "start_time": "2024-11-08T21:50:29.366Z"
   },
   {
    "duration": 14,
    "start_time": "2024-11-08T21:50:29.416Z"
   },
   {
    "duration": 34,
    "start_time": "2024-11-08T21:50:29.432Z"
   },
   {
    "duration": 19,
    "start_time": "2024-11-08T21:50:29.468Z"
   },
   {
    "duration": 33,
    "start_time": "2024-11-08T21:50:29.489Z"
   },
   {
    "duration": 8,
    "start_time": "2024-11-08T21:50:29.524Z"
   },
   {
    "duration": 8,
    "start_time": "2024-11-08T21:50:29.533Z"
   },
   {
    "duration": 16,
    "start_time": "2024-11-08T21:50:29.543Z"
   },
   {
    "duration": 11,
    "start_time": "2024-11-08T21:50:29.561Z"
   },
   {
    "duration": 45,
    "start_time": "2024-11-08T21:50:29.574Z"
   },
   {
    "duration": 6,
    "start_time": "2024-11-08T21:50:29.621Z"
   },
   {
    "duration": 10,
    "start_time": "2024-11-08T21:50:29.630Z"
   },
   {
    "duration": 37,
    "start_time": "2024-11-08T21:50:29.642Z"
   },
   {
    "duration": 40,
    "start_time": "2024-11-08T21:50:29.681Z"
   },
   {
    "duration": 7,
    "start_time": "2024-11-08T21:50:29.722Z"
   },
   {
    "duration": 21,
    "start_time": "2024-11-08T21:50:29.731Z"
   },
   {
    "duration": 21,
    "start_time": "2024-11-08T21:50:29.755Z"
   },
   {
    "duration": 44,
    "start_time": "2024-11-08T21:50:29.778Z"
   },
   {
    "duration": 18,
    "start_time": "2024-11-08T21:50:29.824Z"
   },
   {
    "duration": 7,
    "start_time": "2024-11-08T21:50:29.844Z"
   },
   {
    "duration": 7,
    "start_time": "2024-11-08T21:50:29.853Z"
   },
   {
    "duration": 345,
    "start_time": "2024-11-08T21:50:46.144Z"
   },
   {
    "duration": 208,
    "start_time": "2024-11-08T21:50:46.491Z"
   },
   {
    "duration": 9,
    "start_time": "2024-11-08T21:50:46.701Z"
   },
   {
    "duration": 11,
    "start_time": "2024-11-08T21:50:46.713Z"
   },
   {
    "duration": 5,
    "start_time": "2024-11-08T21:50:46.726Z"
   },
   {
    "duration": 5,
    "start_time": "2024-11-08T21:50:46.732Z"
   },
   {
    "duration": 9,
    "start_time": "2024-11-08T21:50:46.738Z"
   },
   {
    "duration": 9,
    "start_time": "2024-11-08T21:50:46.749Z"
   },
   {
    "duration": 5,
    "start_time": "2024-11-08T21:50:46.759Z"
   },
   {
    "duration": 4,
    "start_time": "2024-11-08T21:50:46.768Z"
   },
   {
    "duration": 51,
    "start_time": "2024-11-08T21:50:46.773Z"
   },
   {
    "duration": 9,
    "start_time": "2024-11-08T21:50:46.826Z"
   },
   {
    "duration": 12,
    "start_time": "2024-11-08T21:50:46.837Z"
   },
   {
    "duration": 34,
    "start_time": "2024-11-08T21:50:46.851Z"
   },
   {
    "duration": 44,
    "start_time": "2024-11-08T21:50:46.886Z"
   },
   {
    "duration": 11,
    "start_time": "2024-11-08T21:50:46.932Z"
   },
   {
    "duration": 7,
    "start_time": "2024-11-08T21:50:46.945Z"
   },
   {
    "duration": 8,
    "start_time": "2024-11-08T21:50:46.954Z"
   },
   {
    "duration": 47,
    "start_time": "2024-11-08T21:50:46.964Z"
   },
   {
    "duration": 14,
    "start_time": "2024-11-08T21:50:47.013Z"
   },
   {
    "duration": 15,
    "start_time": "2024-11-08T21:50:47.028Z"
   },
   {
    "duration": 6,
    "start_time": "2024-11-08T21:50:47.045Z"
   },
   {
    "duration": 10,
    "start_time": "2024-11-08T21:50:47.053Z"
   },
   {
    "duration": 64,
    "start_time": "2024-11-08T21:50:47.065Z"
   },
   {
    "duration": 16,
    "start_time": "2024-11-08T21:50:47.131Z"
   },
   {
    "duration": 8,
    "start_time": "2024-11-08T21:50:47.148Z"
   },
   {
    "duration": 23,
    "start_time": "2024-11-08T21:50:47.158Z"
   },
   {
    "duration": 42,
    "start_time": "2024-11-08T21:50:47.186Z"
   },
   {
    "duration": 15,
    "start_time": "2024-11-08T21:50:47.230Z"
   },
   {
    "duration": 16,
    "start_time": "2024-11-08T21:50:47.247Z"
   },
   {
    "duration": 6,
    "start_time": "2024-11-08T21:50:47.265Z"
   },
   {
    "duration": 39,
    "start_time": "2024-11-08T21:50:47.273Z"
   },
   {
    "duration": 161,
    "start_time": "2024-11-08T21:51:38.147Z"
   },
   {
    "duration": 336,
    "start_time": "2024-11-08T21:51:49.543Z"
   },
   {
    "duration": 212,
    "start_time": "2024-11-08T21:51:49.881Z"
   },
   {
    "duration": 9,
    "start_time": "2024-11-08T21:51:50.095Z"
   },
   {
    "duration": 11,
    "start_time": "2024-11-08T21:51:50.113Z"
   },
   {
    "duration": 6,
    "start_time": "2024-11-08T21:51:50.125Z"
   },
   {
    "duration": 5,
    "start_time": "2024-11-08T21:51:50.132Z"
   },
   {
    "duration": 8,
    "start_time": "2024-11-08T21:51:50.139Z"
   },
   {
    "duration": 10,
    "start_time": "2024-11-08T21:51:50.149Z"
   },
   {
    "duration": 6,
    "start_time": "2024-11-08T21:51:50.160Z"
   },
   {
    "duration": 47,
    "start_time": "2024-11-08T21:51:50.169Z"
   },
   {
    "duration": 15,
    "start_time": "2024-11-08T21:51:50.218Z"
   },
   {
    "duration": 10,
    "start_time": "2024-11-08T21:51:50.235Z"
   },
   {
    "duration": 12,
    "start_time": "2024-11-08T21:51:50.246Z"
   },
   {
    "duration": 64,
    "start_time": "2024-11-08T21:51:50.260Z"
   },
   {
    "duration": 20,
    "start_time": "2024-11-08T21:51:50.326Z"
   },
   {
    "duration": 13,
    "start_time": "2024-11-08T21:51:50.347Z"
   },
   {
    "duration": 8,
    "start_time": "2024-11-08T21:51:50.362Z"
   },
   {
    "duration": 10,
    "start_time": "2024-11-08T21:51:50.372Z"
   },
   {
    "duration": 38,
    "start_time": "2024-11-08T21:51:50.383Z"
   },
   {
    "duration": 12,
    "start_time": "2024-11-08T21:51:50.423Z"
   },
   {
    "duration": 14,
    "start_time": "2024-11-08T21:51:50.437Z"
   },
   {
    "duration": 7,
    "start_time": "2024-11-08T21:51:50.452Z"
   },
   {
    "duration": 10,
    "start_time": "2024-11-08T21:51:50.461Z"
   },
   {
    "duration": 72,
    "start_time": "2024-11-08T21:51:50.473Z"
   },
   {
    "duration": 15,
    "start_time": "2024-11-08T21:51:50.547Z"
   },
   {
    "duration": 7,
    "start_time": "2024-11-08T21:51:50.564Z"
   },
   {
    "duration": 43,
    "start_time": "2024-11-08T21:51:50.572Z"
   },
   {
    "duration": 22,
    "start_time": "2024-11-08T21:51:50.619Z"
   },
   {
    "duration": 16,
    "start_time": "2024-11-08T21:51:50.643Z"
   },
   {
    "duration": 17,
    "start_time": "2024-11-08T21:51:50.661Z"
   },
   {
    "duration": 32,
    "start_time": "2024-11-08T21:51:50.680Z"
   },
   {
    "duration": 8,
    "start_time": "2024-11-08T21:51:50.714Z"
   },
   {
    "duration": 166,
    "start_time": "2024-11-08T21:58:28.066Z"
   },
   {
    "duration": 291,
    "start_time": "2024-11-08T21:58:33.977Z"
   },
   {
    "duration": 202,
    "start_time": "2024-11-08T21:58:34.271Z"
   },
   {
    "duration": 10,
    "start_time": "2024-11-08T21:58:34.474Z"
   },
   {
    "duration": 11,
    "start_time": "2024-11-08T21:58:34.486Z"
   },
   {
    "duration": 5,
    "start_time": "2024-11-08T21:58:34.501Z"
   },
   {
    "duration": 4,
    "start_time": "2024-11-08T21:58:34.508Z"
   },
   {
    "duration": 8,
    "start_time": "2024-11-08T21:58:34.514Z"
   },
   {
    "duration": 9,
    "start_time": "2024-11-08T21:58:34.524Z"
   },
   {
    "duration": 5,
    "start_time": "2024-11-08T21:58:34.534Z"
   },
   {
    "duration": 6,
    "start_time": "2024-11-08T21:58:34.540Z"
   },
   {
    "duration": 16,
    "start_time": "2024-11-08T21:58:34.547Z"
   },
   {
    "duration": 9,
    "start_time": "2024-11-08T21:58:34.564Z"
   },
   {
    "duration": 13,
    "start_time": "2024-11-08T21:58:34.612Z"
   },
   {
    "duration": 31,
    "start_time": "2024-11-08T21:58:34.628Z"
   },
   {
    "duration": 20,
    "start_time": "2024-11-08T21:58:34.661Z"
   },
   {
    "duration": 38,
    "start_time": "2024-11-08T21:58:34.688Z"
   },
   {
    "duration": 8,
    "start_time": "2024-11-08T21:58:34.728Z"
   },
   {
    "duration": 9,
    "start_time": "2024-11-08T21:58:34.737Z"
   },
   {
    "duration": 16,
    "start_time": "2024-11-08T21:58:34.748Z"
   },
   {
    "duration": 12,
    "start_time": "2024-11-08T21:58:34.766Z"
   },
   {
    "duration": 46,
    "start_time": "2024-11-08T21:58:34.779Z"
   },
   {
    "duration": 6,
    "start_time": "2024-11-08T21:58:34.827Z"
   },
   {
    "duration": 13,
    "start_time": "2024-11-08T21:58:34.836Z"
   },
   {
    "duration": 35,
    "start_time": "2024-11-08T21:58:34.851Z"
   },
   {
    "duration": 35,
    "start_time": "2024-11-08T21:58:34.888Z"
   },
   {
    "duration": 7,
    "start_time": "2024-11-08T21:58:34.925Z"
   },
   {
    "duration": 21,
    "start_time": "2024-11-08T21:58:34.934Z"
   },
   {
    "duration": 20,
    "start_time": "2024-11-08T21:58:34.957Z"
   },
   {
    "duration": 46,
    "start_time": "2024-11-08T21:58:34.979Z"
   },
   {
    "duration": 16,
    "start_time": "2024-11-08T21:58:35.027Z"
   },
   {
    "duration": 6,
    "start_time": "2024-11-08T21:58:35.045Z"
   },
   {
    "duration": 7,
    "start_time": "2024-11-08T21:58:35.053Z"
   },
   {
    "duration": 287,
    "start_time": "2024-11-08T22:01:52.093Z"
   },
   {
    "duration": 210,
    "start_time": "2024-11-08T22:01:52.382Z"
   },
   {
    "duration": 9,
    "start_time": "2024-11-08T22:01:52.594Z"
   },
   {
    "duration": 11,
    "start_time": "2024-11-08T22:01:52.607Z"
   },
   {
    "duration": 5,
    "start_time": "2024-11-08T22:01:52.620Z"
   },
   {
    "duration": 5,
    "start_time": "2024-11-08T22:01:52.626Z"
   },
   {
    "duration": 8,
    "start_time": "2024-11-08T22:01:52.633Z"
   },
   {
    "duration": 10,
    "start_time": "2024-11-08T22:01:52.643Z"
   },
   {
    "duration": 7,
    "start_time": "2024-11-08T22:01:52.654Z"
   },
   {
    "duration": 5,
    "start_time": "2024-11-08T22:01:52.664Z"
   },
   {
    "duration": 55,
    "start_time": "2024-11-08T22:01:52.671Z"
   },
   {
    "duration": 9,
    "start_time": "2024-11-08T22:01:52.728Z"
   },
   {
    "duration": 13,
    "start_time": "2024-11-08T22:01:52.738Z"
   },
   {
    "duration": 34,
    "start_time": "2024-11-08T22:01:52.752Z"
   },
   {
    "duration": 20,
    "start_time": "2024-11-08T22:01:52.813Z"
   },
   {
    "duration": 12,
    "start_time": "2024-11-08T22:01:52.834Z"
   },
   {
    "duration": 7,
    "start_time": "2024-11-08T22:01:52.848Z"
   },
   {
    "duration": 9,
    "start_time": "2024-11-08T22:01:52.856Z"
   },
   {
    "duration": 45,
    "start_time": "2024-11-08T22:01:52.867Z"
   },
   {
    "duration": 13,
    "start_time": "2024-11-08T22:01:52.914Z"
   },
   {
    "duration": 13,
    "start_time": "2024-11-08T22:01:52.929Z"
   },
   {
    "duration": 7,
    "start_time": "2024-11-08T22:01:52.944Z"
   },
   {
    "duration": 10,
    "start_time": "2024-11-08T22:01:52.953Z"
   },
   {
    "duration": 75,
    "start_time": "2024-11-08T22:01:52.964Z"
   },
   {
    "duration": 17,
    "start_time": "2024-11-08T22:01:53.041Z"
   },
   {
    "duration": 7,
    "start_time": "2024-11-08T22:01:53.060Z"
   },
   {
    "duration": 43,
    "start_time": "2024-11-08T22:01:53.069Z"
   },
   {
    "duration": 21,
    "start_time": "2024-11-08T22:01:53.117Z"
   },
   {
    "duration": 15,
    "start_time": "2024-11-08T22:01:53.140Z"
   },
   {
    "duration": 515,
    "start_time": "2024-11-08T22:02:11.162Z"
   },
   {
    "duration": 8,
    "start_time": "2024-11-08T22:02:58.270Z"
   },
   {
    "duration": 17,
    "start_time": "2024-11-08T22:03:35.580Z"
   },
   {
    "duration": 7,
    "start_time": "2024-11-08T22:04:15.880Z"
   },
   {
    "duration": 16,
    "start_time": "2024-11-08T22:07:49.566Z"
   },
   {
    "duration": 8,
    "start_time": "2024-11-08T22:08:00.953Z"
   },
   {
    "duration": 162,
    "start_time": "2024-11-08T22:08:22.109Z"
   },
   {
    "duration": 310,
    "start_time": "2024-11-08T22:09:19.768Z"
   },
   {
    "duration": 208,
    "start_time": "2024-11-08T22:09:20.081Z"
   },
   {
    "duration": 9,
    "start_time": "2024-11-08T22:09:20.291Z"
   },
   {
    "duration": 12,
    "start_time": "2024-11-08T22:09:20.302Z"
   },
   {
    "duration": 5,
    "start_time": "2024-11-08T22:09:20.316Z"
   },
   {
    "duration": 5,
    "start_time": "2024-11-08T22:09:20.323Z"
   },
   {
    "duration": 9,
    "start_time": "2024-11-08T22:09:20.330Z"
   },
   {
    "duration": 9,
    "start_time": "2024-11-08T22:09:20.340Z"
   },
   {
    "duration": 6,
    "start_time": "2024-11-08T22:09:20.351Z"
   },
   {
    "duration": 5,
    "start_time": "2024-11-08T22:09:20.359Z"
   },
   {
    "duration": 52,
    "start_time": "2024-11-08T22:09:20.367Z"
   },
   {
    "duration": 11,
    "start_time": "2024-11-08T22:09:20.421Z"
   },
   {
    "duration": 13,
    "start_time": "2024-11-08T22:09:20.434Z"
   },
   {
    "duration": 35,
    "start_time": "2024-11-08T22:09:20.451Z"
   },
   {
    "duration": 42,
    "start_time": "2024-11-08T22:09:20.487Z"
   },
   {
    "duration": 13,
    "start_time": "2024-11-08T22:09:20.531Z"
   },
   {
    "duration": 8,
    "start_time": "2024-11-08T22:09:20.545Z"
   },
   {
    "duration": 10,
    "start_time": "2024-11-08T22:09:20.555Z"
   },
   {
    "duration": 57,
    "start_time": "2024-11-08T22:09:20.567Z"
   },
   {
    "duration": 14,
    "start_time": "2024-11-08T22:09:20.626Z"
   },
   {
    "duration": 14,
    "start_time": "2024-11-08T22:09:20.642Z"
   },
   {
    "duration": 7,
    "start_time": "2024-11-08T22:09:20.658Z"
   },
   {
    "duration": 12,
    "start_time": "2024-11-08T22:09:20.667Z"
   },
   {
    "duration": 39,
    "start_time": "2024-11-08T22:09:20.712Z"
   },
   {
    "duration": 15,
    "start_time": "2024-11-08T22:09:20.752Z"
   },
   {
    "duration": 7,
    "start_time": "2024-11-08T22:09:20.769Z"
   },
   {
    "duration": 48,
    "start_time": "2024-11-08T22:09:20.777Z"
   },
   {
    "duration": 21,
    "start_time": "2024-11-08T22:09:20.827Z"
   },
   {
    "duration": 17,
    "start_time": "2024-11-08T22:09:20.850Z"
   },
   {
    "duration": 18,
    "start_time": "2024-11-08T22:09:20.868Z"
   },
   {
    "duration": 30,
    "start_time": "2024-11-08T22:09:20.888Z"
   },
   {
    "duration": 7,
    "start_time": "2024-11-08T22:09:20.920Z"
   },
   {
    "duration": 163,
    "start_time": "2024-11-08T22:09:31.788Z"
   },
   {
    "duration": 349,
    "start_time": "2024-11-08T22:12:54.617Z"
   },
   {
    "duration": 214,
    "start_time": "2024-11-08T22:12:54.968Z"
   },
   {
    "duration": 8,
    "start_time": "2024-11-08T22:12:55.184Z"
   },
   {
    "duration": 11,
    "start_time": "2024-11-08T22:12:55.194Z"
   },
   {
    "duration": 5,
    "start_time": "2024-11-08T22:12:55.209Z"
   },
   {
    "duration": 4,
    "start_time": "2024-11-08T22:12:55.217Z"
   },
   {
    "duration": 8,
    "start_time": "2024-11-08T22:12:55.223Z"
   },
   {
    "duration": 9,
    "start_time": "2024-11-08T22:12:55.234Z"
   },
   {
    "duration": 5,
    "start_time": "2024-11-08T22:12:55.245Z"
   },
   {
    "duration": 5,
    "start_time": "2024-11-08T22:12:55.252Z"
   },
   {
    "duration": 16,
    "start_time": "2024-11-08T22:12:55.258Z"
   },
   {
    "duration": 49,
    "start_time": "2024-11-08T22:12:55.275Z"
   },
   {
    "duration": 13,
    "start_time": "2024-11-08T22:12:55.326Z"
   },
   {
    "duration": 34,
    "start_time": "2024-11-08T22:12:55.342Z"
   },
   {
    "duration": 47,
    "start_time": "2024-11-08T22:12:55.378Z"
   },
   {
    "duration": 13,
    "start_time": "2024-11-08T22:12:55.427Z"
   },
   {
    "duration": 9,
    "start_time": "2024-11-08T22:12:55.441Z"
   },
   {
    "duration": 9,
    "start_time": "2024-11-08T22:12:55.452Z"
   },
   {
    "duration": 19,
    "start_time": "2024-11-08T22:12:55.463Z"
   },
   {
    "duration": 14,
    "start_time": "2024-11-08T22:12:55.513Z"
   },
   {
    "duration": 14,
    "start_time": "2024-11-08T22:12:55.529Z"
   },
   {
    "duration": 7,
    "start_time": "2024-11-08T22:12:55.545Z"
   },
   {
    "duration": 11,
    "start_time": "2024-11-08T22:12:55.554Z"
   },
   {
    "duration": 69,
    "start_time": "2024-11-08T22:12:55.566Z"
   },
   {
    "duration": 16,
    "start_time": "2024-11-08T22:12:55.637Z"
   },
   {
    "duration": 7,
    "start_time": "2024-11-08T22:12:55.654Z"
   },
   {
    "duration": 21,
    "start_time": "2024-11-08T22:12:55.664Z"
   },
   {
    "duration": 21,
    "start_time": "2024-11-08T22:13:06.963Z"
   },
   {
    "duration": 11,
    "start_time": "2024-11-08T22:13:19.550Z"
   },
   {
    "duration": 22,
    "start_time": "2024-11-08T22:13:38.559Z"
   },
   {
    "duration": 7,
    "start_time": "2024-11-08T22:15:00.856Z"
   },
   {
    "duration": 7,
    "start_time": "2024-11-08T22:16:02.461Z"
   },
   {
    "duration": 20,
    "start_time": "2024-11-08T22:16:19.282Z"
   },
   {
    "duration": 287,
    "start_time": "2024-11-09T13:37:26.421Z"
   },
   {
    "duration": 236,
    "start_time": "2024-11-09T13:37:26.711Z"
   },
   {
    "duration": 9,
    "start_time": "2024-11-09T13:37:26.948Z"
   },
   {
    "duration": 12,
    "start_time": "2024-11-09T13:37:26.959Z"
   },
   {
    "duration": 5,
    "start_time": "2024-11-09T13:37:26.973Z"
   },
   {
    "duration": 5,
    "start_time": "2024-11-09T13:37:26.979Z"
   },
   {
    "duration": 9,
    "start_time": "2024-11-09T13:37:26.985Z"
   },
   {
    "duration": 9,
    "start_time": "2024-11-09T13:37:26.995Z"
   },
   {
    "duration": 5,
    "start_time": "2024-11-09T13:37:27.042Z"
   },
   {
    "duration": 5,
    "start_time": "2024-11-09T13:37:27.048Z"
   },
   {
    "duration": 15,
    "start_time": "2024-11-09T13:37:27.055Z"
   },
   {
    "duration": 9,
    "start_time": "2024-11-09T13:37:27.072Z"
   },
   {
    "duration": 12,
    "start_time": "2024-11-09T13:37:27.083Z"
   },
   {
    "duration": 64,
    "start_time": "2024-11-09T13:37:27.098Z"
   },
   {
    "duration": 19,
    "start_time": "2024-11-09T13:37:27.163Z"
   },
   {
    "duration": 12,
    "start_time": "2024-11-09T13:37:27.184Z"
   },
   {
    "duration": 8,
    "start_time": "2024-11-09T13:37:27.198Z"
   },
   {
    "duration": 9,
    "start_time": "2024-11-09T13:37:27.207Z"
   },
   {
    "duration": 42,
    "start_time": "2024-11-09T13:37:27.217Z"
   },
   {
    "duration": 13,
    "start_time": "2024-11-09T13:37:27.261Z"
   },
   {
    "duration": 14,
    "start_time": "2024-11-09T13:37:27.275Z"
   },
   {
    "duration": 7,
    "start_time": "2024-11-09T13:37:27.290Z"
   },
   {
    "duration": 10,
    "start_time": "2024-11-09T13:37:27.299Z"
   },
   {
    "duration": 62,
    "start_time": "2024-11-09T13:37:27.311Z"
   },
   {
    "duration": 14,
    "start_time": "2024-11-09T13:37:27.375Z"
   },
   {
    "duration": 7,
    "start_time": "2024-11-09T13:37:27.391Z"
   },
   {
    "duration": 44,
    "start_time": "2024-11-09T13:37:27.399Z"
   },
   {
    "duration": 10,
    "start_time": "2024-11-09T13:37:27.445Z"
   },
   {
    "duration": 21,
    "start_time": "2024-11-09T13:37:27.457Z"
   },
   {
    "duration": 16,
    "start_time": "2024-11-09T13:37:27.479Z"
   },
   {
    "duration": 6,
    "start_time": "2024-11-09T13:37:27.498Z"
   },
   {
    "duration": 47,
    "start_time": "2024-11-09T13:37:27.506Z"
   },
   {
    "duration": 8,
    "start_time": "2024-11-09T13:37:27.554Z"
   },
   {
    "duration": 7,
    "start_time": "2024-11-09T13:37:27.564Z"
   },
   {
    "duration": 2,
    "start_time": "2024-11-09T13:37:32.365Z"
   },
   {
    "duration": 14,
    "start_time": "2024-11-09T13:38:56.833Z"
   },
   {
    "duration": 11,
    "start_time": "2024-11-09T13:39:50.874Z"
   },
   {
    "duration": 12,
    "start_time": "2024-11-09T13:40:21.133Z"
   },
   {
    "duration": 14,
    "start_time": "2024-11-09T13:53:26.108Z"
   },
   {
    "duration": 5,
    "start_time": "2024-11-09T13:53:44.437Z"
   },
   {
    "duration": 7,
    "start_time": "2024-11-09T13:54:06.411Z"
   },
   {
    "duration": 8,
    "start_time": "2024-11-09T13:54:53.917Z"
   },
   {
    "duration": 8,
    "start_time": "2024-11-09T13:56:45.214Z"
   },
   {
    "duration": 9,
    "start_time": "2024-11-09T13:59:31.404Z"
   },
   {
    "duration": 9,
    "start_time": "2024-11-09T13:59:58.627Z"
   },
   {
    "duration": 8,
    "start_time": "2024-11-09T14:02:24.893Z"
   },
   {
    "duration": 9,
    "start_time": "2024-11-09T14:02:38.657Z"
   },
   {
    "duration": 5,
    "start_time": "2024-11-09T14:06:28.153Z"
   },
   {
    "duration": 539,
    "start_time": "2024-11-09T14:06:34.813Z"
   },
   {
    "duration": 2,
    "start_time": "2024-11-09T14:06:58.538Z"
   },
   {
    "duration": 8,
    "start_time": "2024-11-09T14:07:05.863Z"
   },
   {
    "duration": 39,
    "start_time": "2024-11-09T14:08:37.003Z"
   },
   {
    "duration": 2,
    "start_time": "2024-11-09T14:10:57.137Z"
   },
   {
    "duration": 157,
    "start_time": "2024-11-09T14:10:57.145Z"
   },
   {
    "duration": 8,
    "start_time": "2024-11-09T14:10:57.304Z"
   },
   {
    "duration": 7,
    "start_time": "2024-11-09T14:10:57.314Z"
   },
   {
    "duration": 5,
    "start_time": "2024-11-09T14:10:57.323Z"
   },
   {
    "duration": 4,
    "start_time": "2024-11-09T14:10:57.343Z"
   },
   {
    "duration": 7,
    "start_time": "2024-11-09T14:11:01.555Z"
   },
   {
    "duration": 8,
    "start_time": "2024-11-09T14:12:34.620Z"
   },
   {
    "duration": 5,
    "start_time": "2024-11-09T14:13:05.973Z"
   },
   {
    "duration": 8,
    "start_time": "2024-11-09T14:14:10.365Z"
   },
   {
    "duration": 7,
    "start_time": "2024-11-09T14:16:02.979Z"
   },
   {
    "duration": 8,
    "start_time": "2024-11-09T14:17:28.242Z"
   },
   {
    "duration": 270,
    "start_time": "2024-11-09T14:17:38.342Z"
   },
   {
    "duration": 2,
    "start_time": "2024-11-09T14:18:14.869Z"
   },
   {
    "duration": 153,
    "start_time": "2024-11-09T14:18:14.873Z"
   },
   {
    "duration": 8,
    "start_time": "2024-11-09T14:18:15.027Z"
   },
   {
    "duration": 10,
    "start_time": "2024-11-09T14:18:15.037Z"
   },
   {
    "duration": 4,
    "start_time": "2024-11-09T14:18:15.049Z"
   },
   {
    "duration": 4,
    "start_time": "2024-11-09T14:18:15.055Z"
   },
   {
    "duration": 4,
    "start_time": "2024-11-09T14:18:15.061Z"
   },
   {
    "duration": 7,
    "start_time": "2024-11-09T14:18:15.066Z"
   },
   {
    "duration": 8,
    "start_time": "2024-11-09T14:18:15.076Z"
   },
   {
    "duration": 8,
    "start_time": "2024-11-09T14:18:15.086Z"
   },
   {
    "duration": 5,
    "start_time": "2024-11-09T14:18:15.096Z"
   },
   {
    "duration": 5,
    "start_time": "2024-11-09T14:18:15.143Z"
   },
   {
    "duration": 16,
    "start_time": "2024-11-09T14:18:15.149Z"
   },
   {
    "duration": 13,
    "start_time": "2024-11-09T14:18:15.166Z"
   },
   {
    "duration": 14,
    "start_time": "2024-11-09T14:18:15.182Z"
   },
   {
    "duration": 53,
    "start_time": "2024-11-09T14:18:15.197Z"
   },
   {
    "duration": 17,
    "start_time": "2024-11-09T14:18:15.252Z"
   },
   {
    "duration": 11,
    "start_time": "2024-11-09T14:18:15.271Z"
   },
   {
    "duration": 7,
    "start_time": "2024-11-09T14:18:15.284Z"
   },
   {
    "duration": 9,
    "start_time": "2024-11-09T14:18:15.292Z"
   },
   {
    "duration": 44,
    "start_time": "2024-11-09T14:18:15.302Z"
   },
   {
    "duration": 12,
    "start_time": "2024-11-09T14:18:15.348Z"
   },
   {
    "duration": 14,
    "start_time": "2024-11-09T14:18:15.362Z"
   },
   {
    "duration": 6,
    "start_time": "2024-11-09T14:18:15.379Z"
   },
   {
    "duration": 10,
    "start_time": "2024-11-09T14:18:15.387Z"
   },
   {
    "duration": 64,
    "start_time": "2024-11-09T14:18:15.399Z"
   },
   {
    "duration": 13,
    "start_time": "2024-11-09T14:18:15.465Z"
   },
   {
    "duration": 7,
    "start_time": "2024-11-09T14:18:15.480Z"
   },
   {
    "duration": 18,
    "start_time": "2024-11-09T14:18:19.475Z"
   },
   {
    "duration": 12,
    "start_time": "2024-11-09T14:21:22.417Z"
   },
   {
    "duration": 14,
    "start_time": "2024-11-09T14:22:24.759Z"
   },
   {
    "duration": 18,
    "start_time": "2024-11-09T14:23:46.456Z"
   },
   {
    "duration": 110,
    "start_time": "2024-11-09T14:32:56.664Z"
   },
   {
    "duration": 63,
    "start_time": "2024-11-09T14:33:27.436Z"
   },
   {
    "duration": 17,
    "start_time": "2024-11-09T14:34:41.098Z"
   },
   {
    "duration": 20,
    "start_time": "2024-11-09T14:35:16.452Z"
   },
   {
    "duration": 5,
    "start_time": "2024-11-09T14:36:27.757Z"
   },
   {
    "duration": 18,
    "start_time": "2024-11-09T14:36:32.546Z"
   },
   {
    "duration": 19,
    "start_time": "2024-11-09T14:41:59.356Z"
   },
   {
    "duration": 14,
    "start_time": "2024-11-09T14:49:53.834Z"
   },
   {
    "duration": 17,
    "start_time": "2024-11-09T14:51:46.933Z"
   },
   {
    "duration": 3,
    "start_time": "2024-11-09T17:53:41.149Z"
   },
   {
    "duration": 159,
    "start_time": "2024-11-09T17:55:16.059Z"
   },
   {
    "duration": 347,
    "start_time": "2024-11-09T17:55:28.948Z"
   },
   {
    "duration": 272,
    "start_time": "2024-11-09T17:55:29.297Z"
   },
   {
    "duration": 11,
    "start_time": "2024-11-09T17:55:29.571Z"
   },
   {
    "duration": 11,
    "start_time": "2024-11-09T17:55:29.585Z"
   },
   {
    "duration": 5,
    "start_time": "2024-11-09T17:55:29.598Z"
   },
   {
    "duration": 5,
    "start_time": "2024-11-09T17:55:29.604Z"
   },
   {
    "duration": 5,
    "start_time": "2024-11-09T17:55:29.625Z"
   },
   {
    "duration": 7,
    "start_time": "2024-11-09T17:55:29.632Z"
   },
   {
    "duration": 9,
    "start_time": "2024-11-09T17:55:29.641Z"
   },
   {
    "duration": 8,
    "start_time": "2024-11-09T17:55:29.654Z"
   },
   {
    "duration": 6,
    "start_time": "2024-11-09T17:55:29.665Z"
   },
   {
    "duration": 6,
    "start_time": "2024-11-09T17:55:29.673Z"
   },
   {
    "duration": 57,
    "start_time": "2024-11-09T17:55:29.680Z"
   },
   {
    "duration": 14,
    "start_time": "2024-11-09T17:55:29.739Z"
   },
   {
    "duration": 15,
    "start_time": "2024-11-09T17:55:29.755Z"
   },
   {
    "duration": 55,
    "start_time": "2024-11-09T17:55:29.772Z"
   },
   {
    "duration": 18,
    "start_time": "2024-11-09T17:55:29.829Z"
   },
   {
    "duration": 11,
    "start_time": "2024-11-09T17:55:29.849Z"
   },
   {
    "duration": 6,
    "start_time": "2024-11-09T17:55:29.862Z"
   },
   {
    "duration": 9,
    "start_time": "2024-11-09T17:55:29.870Z"
   },
   {
    "duration": 44,
    "start_time": "2024-11-09T17:55:29.881Z"
   },
   {
    "duration": 12,
    "start_time": "2024-11-09T17:55:29.926Z"
   },
   {
    "duration": 13,
    "start_time": "2024-11-09T17:55:29.940Z"
   },
   {
    "duration": 7,
    "start_time": "2024-11-09T17:55:29.954Z"
   },
   {
    "duration": 10,
    "start_time": "2024-11-09T17:55:29.962Z"
   },
   {
    "duration": 67,
    "start_time": "2024-11-09T17:55:29.973Z"
   },
   {
    "duration": 14,
    "start_time": "2024-11-09T17:55:30.042Z"
   },
   {
    "duration": 8,
    "start_time": "2024-11-09T17:55:30.059Z"
   },
   {
    "duration": 20,
    "start_time": "2024-11-09T17:55:30.069Z"
   },
   {
    "duration": 45,
    "start_time": "2024-11-09T17:55:30.091Z"
   },
   {
    "duration": 15,
    "start_time": "2024-11-09T17:55:30.137Z"
   },
   {
    "duration": 19,
    "start_time": "2024-11-09T17:55:30.153Z"
   },
   {
    "duration": 35,
    "start_time": "2024-11-09T17:55:32.433Z"
   },
   {
    "duration": 19,
    "start_time": "2024-11-09T17:55:40.733Z"
   },
   {
    "duration": 19,
    "start_time": "2024-11-09T17:55:46.633Z"
   },
   {
    "duration": 13,
    "start_time": "2024-11-09T18:01:42.912Z"
   },
   {
    "duration": 17,
    "start_time": "2024-11-09T18:04:47.915Z"
   },
   {
    "duration": 14,
    "start_time": "2024-11-09T18:05:56.769Z"
   },
   {
    "duration": 13,
    "start_time": "2024-11-09T18:06:37.244Z"
   },
   {
    "duration": 25,
    "start_time": "2024-11-09T18:08:08.402Z"
   },
   {
    "duration": 20,
    "start_time": "2024-11-09T18:08:27.771Z"
   },
   {
    "duration": 24,
    "start_time": "2024-11-09T18:08:47.134Z"
   },
   {
    "duration": 20,
    "start_time": "2024-11-09T18:10:21.858Z"
   },
   {
    "duration": 21,
    "start_time": "2024-11-09T18:10:39.704Z"
   },
   {
    "duration": 20,
    "start_time": "2024-11-09T18:10:54.367Z"
   },
   {
    "duration": 21,
    "start_time": "2024-11-09T18:12:29.261Z"
   },
   {
    "duration": 21,
    "start_time": "2024-11-09T18:12:48.379Z"
   },
   {
    "duration": 20,
    "start_time": "2024-11-09T18:12:58.135Z"
   },
   {
    "duration": 7,
    "start_time": "2024-11-09T18:13:14.463Z"
   },
   {
    "duration": 22,
    "start_time": "2024-11-09T18:15:09.169Z"
   },
   {
    "duration": 23,
    "start_time": "2024-11-09T18:16:25.137Z"
   },
   {
    "duration": 14,
    "start_time": "2024-11-09T18:20:19.039Z"
   },
   {
    "duration": 660,
    "start_time": "2024-11-09T18:36:50.344Z"
   },
   {
    "duration": 20,
    "start_time": "2024-11-09T18:37:13.629Z"
   },
   {
    "duration": 190,
    "start_time": "2024-11-09T19:45:32.714Z"
   },
   {
    "duration": 293,
    "start_time": "2024-11-09T19:45:37.817Z"
   },
   {
    "duration": 205,
    "start_time": "2024-11-09T19:45:38.112Z"
   },
   {
    "duration": 12,
    "start_time": "2024-11-09T19:45:38.319Z"
   },
   {
    "duration": 14,
    "start_time": "2024-11-09T19:45:38.334Z"
   },
   {
    "duration": 8,
    "start_time": "2024-11-09T19:45:38.350Z"
   },
   {
    "duration": 4,
    "start_time": "2024-11-09T19:45:38.360Z"
   },
   {
    "duration": 6,
    "start_time": "2024-11-09T19:45:38.366Z"
   },
   {
    "duration": 7,
    "start_time": "2024-11-09T19:45:38.373Z"
   },
   {
    "duration": 8,
    "start_time": "2024-11-09T19:45:38.382Z"
   },
   {
    "duration": 11,
    "start_time": "2024-11-09T19:45:38.393Z"
   },
   {
    "duration": 38,
    "start_time": "2024-11-09T19:45:38.406Z"
   },
   {
    "duration": 7,
    "start_time": "2024-11-09T19:45:38.446Z"
   },
   {
    "duration": 18,
    "start_time": "2024-11-09T19:45:38.455Z"
   },
   {
    "duration": 10,
    "start_time": "2024-11-09T19:45:38.475Z"
   },
   {
    "duration": 14,
    "start_time": "2024-11-09T19:45:38.487Z"
   },
   {
    "duration": 65,
    "start_time": "2024-11-09T19:45:38.503Z"
   },
   {
    "duration": 21,
    "start_time": "2024-11-09T19:45:38.570Z"
   },
   {
    "duration": 16,
    "start_time": "2024-11-09T19:45:38.593Z"
   },
   {
    "duration": 32,
    "start_time": "2024-11-09T19:45:38.611Z"
   },
   {
    "duration": 11,
    "start_time": "2024-11-09T19:45:38.644Z"
   },
   {
    "duration": 18,
    "start_time": "2024-11-09T19:45:38.656Z"
   },
   {
    "duration": 13,
    "start_time": "2024-11-09T19:45:38.676Z"
   },
   {
    "duration": 19,
    "start_time": "2024-11-09T19:45:38.691Z"
   },
   {
    "duration": 38,
    "start_time": "2024-11-09T19:45:38.711Z"
   },
   {
    "duration": 13,
    "start_time": "2024-11-09T19:45:38.751Z"
   },
   {
    "duration": 41,
    "start_time": "2024-11-09T19:45:38.765Z"
   },
   {
    "duration": 41,
    "start_time": "2024-11-09T19:45:38.810Z"
   },
   {
    "duration": 11,
    "start_time": "2024-11-09T19:45:38.855Z"
   },
   {
    "duration": 22,
    "start_time": "2024-11-09T19:45:38.868Z"
   },
   {
    "duration": 21,
    "start_time": "2024-11-09T19:45:38.893Z"
   },
   {
    "duration": 40,
    "start_time": "2024-11-09T19:45:38.916Z"
   },
   {
    "duration": 20,
    "start_time": "2024-11-09T19:45:38.958Z"
   },
   {
    "duration": 26,
    "start_time": "2024-11-09T19:45:38.980Z"
   },
   {
    "duration": 45,
    "start_time": "2024-11-09T19:45:39.008Z"
   },
   {
    "duration": 52,
    "start_time": "2024-11-09T19:52:05.018Z"
   },
   {
    "duration": 2,
    "start_time": "2024-11-09T19:52:21.199Z"
   },
   {
    "duration": 197,
    "start_time": "2024-11-09T19:52:21.206Z"
   },
   {
    "duration": 8,
    "start_time": "2024-11-09T19:52:21.406Z"
   },
   {
    "duration": 7,
    "start_time": "2024-11-09T19:52:21.415Z"
   },
   {
    "duration": 5,
    "start_time": "2024-11-09T19:52:21.424Z"
   },
   {
    "duration": 4,
    "start_time": "2024-11-09T19:52:21.432Z"
   },
   {
    "duration": 12,
    "start_time": "2024-11-09T19:52:21.438Z"
   },
   {
    "duration": 8,
    "start_time": "2024-11-09T19:52:21.467Z"
   },
   {
    "duration": 9,
    "start_time": "2024-11-09T19:52:21.476Z"
   },
   {
    "duration": 8,
    "start_time": "2024-11-09T19:52:21.487Z"
   },
   {
    "duration": 5,
    "start_time": "2024-11-09T19:52:21.497Z"
   },
   {
    "duration": 4,
    "start_time": "2024-11-09T19:52:21.503Z"
   },
   {
    "duration": 15,
    "start_time": "2024-11-09T19:52:21.509Z"
   },
   {
    "duration": 41,
    "start_time": "2024-11-09T19:52:21.525Z"
   },
   {
    "duration": 14,
    "start_time": "2024-11-09T19:52:21.569Z"
   },
   {
    "duration": 26,
    "start_time": "2024-11-09T19:52:21.585Z"
   },
   {
    "duration": 18,
    "start_time": "2024-11-09T19:52:21.613Z"
   },
   {
    "duration": 32,
    "start_time": "2024-11-09T19:52:21.633Z"
   },
   {
    "duration": 10,
    "start_time": "2024-11-09T19:52:21.666Z"
   },
   {
    "duration": 9,
    "start_time": "2024-11-09T19:52:21.677Z"
   },
   {
    "duration": 14,
    "start_time": "2024-11-09T19:52:21.688Z"
   },
   {
    "duration": 11,
    "start_time": "2024-11-09T19:52:21.704Z"
   },
   {
    "duration": 33,
    "start_time": "2024-11-09T19:52:21.717Z"
   },
   {
    "duration": 9,
    "start_time": "2024-11-09T19:52:21.751Z"
   },
   {
    "duration": 17,
    "start_time": "2024-11-09T19:52:21.761Z"
   },
   {
    "duration": 31,
    "start_time": "2024-11-09T19:52:21.780Z"
   },
   {
    "duration": 14,
    "start_time": "2024-11-09T19:52:21.813Z"
   },
   {
    "duration": 43,
    "start_time": "2024-11-09T19:52:21.828Z"
   },
   {
    "duration": 21,
    "start_time": "2024-11-09T19:52:21.873Z"
   },
   {
    "duration": 24,
    "start_time": "2024-11-09T19:52:21.897Z"
   },
   {
    "duration": 16,
    "start_time": "2024-11-09T19:52:21.922Z"
   },
   {
    "duration": 36,
    "start_time": "2024-11-09T19:52:21.939Z"
   },
   {
    "duration": 17,
    "start_time": "2024-11-09T19:52:21.977Z"
   },
   {
    "duration": 21,
    "start_time": "2024-11-09T19:52:21.995Z"
   },
   {
    "duration": 32,
    "start_time": "2024-11-09T19:52:25.536Z"
   },
   {
    "duration": 12,
    "start_time": "2024-11-09T19:52:37.263Z"
   },
   {
    "duration": 167,
    "start_time": "2024-11-10T22:55:33.925Z"
   },
   {
    "duration": 304,
    "start_time": "2024-11-10T22:55:41.906Z"
   },
   {
    "duration": 223,
    "start_time": "2024-11-10T22:55:42.212Z"
   },
   {
    "duration": 9,
    "start_time": "2024-11-10T22:55:42.437Z"
   },
   {
    "duration": 11,
    "start_time": "2024-11-10T22:55:42.449Z"
   },
   {
    "duration": 5,
    "start_time": "2024-11-10T22:55:42.461Z"
   },
   {
    "duration": 5,
    "start_time": "2024-11-10T22:55:42.467Z"
   },
   {
    "duration": 5,
    "start_time": "2024-11-10T22:55:42.473Z"
   },
   {
    "duration": 7,
    "start_time": "2024-11-10T22:55:42.480Z"
   },
   {
    "duration": 8,
    "start_time": "2024-11-10T22:55:42.489Z"
   },
   {
    "duration": 9,
    "start_time": "2024-11-10T22:55:42.534Z"
   },
   {
    "duration": 5,
    "start_time": "2024-11-10T22:55:42.545Z"
   },
   {
    "duration": 5,
    "start_time": "2024-11-10T22:55:42.552Z"
   },
   {
    "duration": 16,
    "start_time": "2024-11-10T22:55:42.558Z"
   },
   {
    "duration": 10,
    "start_time": "2024-11-10T22:55:42.576Z"
   },
   {
    "duration": 50,
    "start_time": "2024-11-10T22:55:42.587Z"
   },
   {
    "duration": 33,
    "start_time": "2024-11-10T22:55:42.638Z"
   },
   {
    "duration": 20,
    "start_time": "2024-11-10T22:55:42.672Z"
   },
   {
    "duration": 38,
    "start_time": "2024-11-10T22:55:42.694Z"
   },
   {
    "duration": 7,
    "start_time": "2024-11-10T22:55:42.734Z"
   },
   {
    "duration": 8,
    "start_time": "2024-11-10T22:55:42.745Z"
   },
   {
    "duration": 16,
    "start_time": "2024-11-10T22:55:42.755Z"
   },
   {
    "duration": 12,
    "start_time": "2024-11-10T22:55:42.773Z"
   },
   {
    "duration": 45,
    "start_time": "2024-11-10T22:55:42.787Z"
   },
   {
    "duration": 7,
    "start_time": "2024-11-10T22:55:42.835Z"
   },
   {
    "duration": 12,
    "start_time": "2024-11-10T22:55:42.844Z"
   },
   {
    "duration": 36,
    "start_time": "2024-11-10T22:55:42.858Z"
   },
   {
    "duration": 37,
    "start_time": "2024-11-10T22:55:42.895Z"
   },
   {
    "duration": 8,
    "start_time": "2024-11-10T22:55:42.935Z"
   },
   {
    "duration": 22,
    "start_time": "2024-11-10T22:55:42.945Z"
   },
   {
    "duration": 22,
    "start_time": "2024-11-10T22:55:42.969Z"
   },
   {
    "duration": 43,
    "start_time": "2024-11-10T22:55:42.993Z"
   },
   {
    "duration": 21,
    "start_time": "2024-11-10T22:55:43.038Z"
   },
   {
    "duration": 21,
    "start_time": "2024-11-10T22:55:43.061Z"
   },
   {
    "duration": 48,
    "start_time": "2024-11-10T22:55:43.084Z"
   },
   {
    "duration": 35,
    "start_time": "2024-11-10T22:55:46.984Z"
   },
   {
    "duration": 12,
    "start_time": "2024-11-10T22:56:04.063Z"
   },
   {
    "duration": 2,
    "start_time": "2024-11-10T22:56:48.319Z"
   },
   {
    "duration": 4,
    "start_time": "2024-11-11T22:46:02.483Z"
   },
   {
    "duration": 158,
    "start_time": "2024-11-11T22:46:08.870Z"
   },
   {
    "duration": 12,
    "start_time": "2024-11-11T22:46:17.366Z"
   },
   {
    "duration": 339,
    "start_time": "2024-11-11T22:46:20.857Z"
   },
   {
    "duration": 217,
    "start_time": "2024-11-11T22:46:21.198Z"
   },
   {
    "duration": 11,
    "start_time": "2024-11-11T22:46:21.416Z"
   },
   {
    "duration": 11,
    "start_time": "2024-11-11T22:46:21.430Z"
   },
   {
    "duration": 5,
    "start_time": "2024-11-11T22:46:21.444Z"
   },
   {
    "duration": 5,
    "start_time": "2024-11-11T22:46:21.451Z"
   },
   {
    "duration": 6,
    "start_time": "2024-11-11T22:46:21.457Z"
   },
   {
    "duration": 8,
    "start_time": "2024-11-11T22:46:21.464Z"
   },
   {
    "duration": 9,
    "start_time": "2024-11-11T22:46:21.473Z"
   },
   {
    "duration": 47,
    "start_time": "2024-11-11T22:46:21.484Z"
   },
   {
    "duration": 7,
    "start_time": "2024-11-11T22:46:21.533Z"
   },
   {
    "duration": 6,
    "start_time": "2024-11-11T22:46:21.542Z"
   },
   {
    "duration": 15,
    "start_time": "2024-11-11T22:46:21.550Z"
   },
   {
    "duration": 11,
    "start_time": "2024-11-11T22:46:21.569Z"
   },
   {
    "duration": 13,
    "start_time": "2024-11-11T22:46:21.584Z"
   },
   {
    "duration": 35,
    "start_time": "2024-11-11T22:46:21.631Z"
   },
   {
    "duration": 20,
    "start_time": "2024-11-11T22:46:21.668Z"
   },
   {
    "duration": 12,
    "start_time": "2024-11-11T22:46:21.690Z"
   },
   {
    "duration": 33,
    "start_time": "2024-11-11T22:46:21.704Z"
   },
   {
    "duration": 9,
    "start_time": "2024-11-11T22:46:21.739Z"
   },
   {
    "duration": 18,
    "start_time": "2024-11-11T22:46:21.749Z"
   },
   {
    "duration": 13,
    "start_time": "2024-11-11T22:46:21.769Z"
   },
   {
    "duration": 13,
    "start_time": "2024-11-11T22:46:21.784Z"
   },
   {
    "duration": 37,
    "start_time": "2024-11-11T22:46:21.799Z"
   },
   {
    "duration": 11,
    "start_time": "2024-11-11T22:46:21.839Z"
   },
   {
    "duration": 38,
    "start_time": "2024-11-11T22:46:21.852Z"
   },
   {
    "duration": 40,
    "start_time": "2024-11-11T22:46:21.892Z"
   },
   {
    "duration": 8,
    "start_time": "2024-11-11T22:46:21.935Z"
   },
   {
    "duration": 31,
    "start_time": "2024-11-11T22:46:21.946Z"
   },
   {
    "duration": 22,
    "start_time": "2024-11-11T22:46:21.979Z"
   },
   {
    "duration": 40,
    "start_time": "2024-11-11T22:46:22.003Z"
   },
   {
    "duration": 18,
    "start_time": "2024-11-11T22:46:22.044Z"
   },
   {
    "duration": 19,
    "start_time": "2024-11-11T22:46:22.063Z"
   },
   {
    "duration": 22,
    "start_time": "2024-11-11T22:46:22.084Z"
   },
   {
    "duration": 7,
    "start_time": "2024-11-11T22:46:24.965Z"
   },
   {
    "duration": 2,
    "start_time": "2024-11-11T22:46:28.286Z"
   },
   {
    "duration": 42,
    "start_time": "2024-11-11T22:58:30.384Z"
   },
   {
    "duration": 417,
    "start_time": "2024-11-11T23:00:16.710Z"
   },
   {
    "duration": 5,
    "start_time": "2024-11-11T23:00:38.622Z"
   },
   {
    "duration": 16,
    "start_time": "2024-11-11T23:07:32.236Z"
   },
   {
    "duration": 16,
    "start_time": "2024-11-11T23:07:44.155Z"
   },
   {
    "duration": 16,
    "start_time": "2024-11-11T23:08:16.843Z"
   },
   {
    "duration": 22,
    "start_time": "2024-11-11T23:08:26.881Z"
   },
   {
    "duration": 570,
    "start_time": "2024-11-11T23:11:56.696Z"
   },
   {
    "duration": 22,
    "start_time": "2024-11-11T23:13:05.442Z"
   },
   {
    "duration": 47,
    "start_time": "2024-11-11T23:14:21.239Z"
   },
   {
    "duration": 2,
    "start_time": "2024-11-11T23:17:39.137Z"
   },
   {
    "duration": 166,
    "start_time": "2024-11-11T23:17:39.141Z"
   },
   {
    "duration": 8,
    "start_time": "2024-11-11T23:17:39.309Z"
   },
   {
    "duration": 16,
    "start_time": "2024-11-11T23:17:39.319Z"
   },
   {
    "duration": 5,
    "start_time": "2024-11-11T23:17:39.337Z"
   },
   {
    "duration": 5,
    "start_time": "2024-11-11T23:17:39.344Z"
   },
   {
    "duration": 4,
    "start_time": "2024-11-11T23:17:39.350Z"
   },
   {
    "duration": 9,
    "start_time": "2024-11-11T23:17:39.355Z"
   },
   {
    "duration": 8,
    "start_time": "2024-11-11T23:17:39.365Z"
   },
   {
    "duration": 9,
    "start_time": "2024-11-11T23:17:39.375Z"
   },
   {
    "duration": 5,
    "start_time": "2024-11-11T23:17:39.388Z"
   },
   {
    "duration": 13,
    "start_time": "2024-11-11T23:20:38.750Z"
   },
   {
    "duration": 5,
    "start_time": "2024-11-11T23:21:04.061Z"
   },
   {
    "duration": 4,
    "start_time": "2024-11-11T23:21:11.044Z"
   },
   {
    "duration": 93,
    "start_time": "2024-11-11T23:21:19.403Z"
   },
   {
    "duration": 6,
    "start_time": "2024-11-11T23:22:00.073Z"
   },
   {
    "duration": 5,
    "start_time": "2024-11-11T23:22:18.148Z"
   },
   {
    "duration": 5,
    "start_time": "2024-11-11T23:22:35.355Z"
   },
   {
    "duration": 79,
    "start_time": "2024-11-11T23:23:10.390Z"
   },
   {
    "duration": 2,
    "start_time": "2024-11-11T23:23:34.290Z"
   },
   {
    "duration": 153,
    "start_time": "2024-11-11T23:23:34.303Z"
   },
   {
    "duration": 9,
    "start_time": "2024-11-11T23:23:34.457Z"
   },
   {
    "duration": 8,
    "start_time": "2024-11-11T23:23:34.467Z"
   },
   {
    "duration": 5,
    "start_time": "2024-11-11T23:23:34.477Z"
   },
   {
    "duration": 4,
    "start_time": "2024-11-11T23:23:34.484Z"
   },
   {
    "duration": 8,
    "start_time": "2024-11-11T23:23:34.490Z"
   },
   {
    "duration": 36,
    "start_time": "2024-11-11T23:23:34.500Z"
   },
   {
    "duration": 10,
    "start_time": "2024-11-11T23:23:34.538Z"
   },
   {
    "duration": 13,
    "start_time": "2024-11-11T23:23:34.551Z"
   },
   {
    "duration": 5,
    "start_time": "2024-11-11T23:23:34.568Z"
   },
   {
    "duration": 5,
    "start_time": "2024-11-11T23:23:34.575Z"
   },
   {
    "duration": 6,
    "start_time": "2024-11-11T23:23:34.582Z"
   },
   {
    "duration": 44,
    "start_time": "2024-11-11T23:23:34.589Z"
   },
   {
    "duration": 10,
    "start_time": "2024-11-11T23:23:34.635Z"
   },
   {
    "duration": 13,
    "start_time": "2024-11-11T23:23:34.646Z"
   },
   {
    "duration": 29,
    "start_time": "2024-11-11T23:23:34.661Z"
   },
   {
    "duration": 48,
    "start_time": "2024-11-11T23:23:34.692Z"
   },
   {
    "duration": 11,
    "start_time": "2024-11-11T23:23:34.743Z"
   },
   {
    "duration": 8,
    "start_time": "2024-11-11T23:23:34.756Z"
   },
   {
    "duration": 10,
    "start_time": "2024-11-11T23:23:34.765Z"
   },
   {
    "duration": 19,
    "start_time": "2024-11-11T23:23:34.778Z"
   },
   {
    "duration": 43,
    "start_time": "2024-11-11T23:23:34.800Z"
   },
   {
    "duration": 15,
    "start_time": "2024-11-11T23:23:34.845Z"
   },
   {
    "duration": 7,
    "start_time": "2024-11-11T23:23:34.862Z"
   },
   {
    "duration": 11,
    "start_time": "2024-11-11T23:23:34.871Z"
   },
   {
    "duration": 72,
    "start_time": "2024-11-11T23:23:34.883Z"
   },
   {
    "duration": 15,
    "start_time": "2024-11-11T23:23:34.957Z"
   },
   {
    "duration": 8,
    "start_time": "2024-11-11T23:23:34.976Z"
   },
   {
    "duration": 21,
    "start_time": "2024-11-11T23:23:34.986Z"
   },
   {
    "duration": 22,
    "start_time": "2024-11-11T23:23:35.031Z"
   },
   {
    "duration": 15,
    "start_time": "2024-11-11T23:23:42.123Z"
   },
   {
    "duration": 18,
    "start_time": "2024-11-11T23:23:50.712Z"
   },
   {
    "duration": 12,
    "start_time": "2024-11-11T23:24:20.840Z"
   },
   {
    "duration": 6,
    "start_time": "2024-11-11T23:26:35.084Z"
   },
   {
    "duration": 4,
    "start_time": "2024-11-11T23:26:50.796Z"
   },
   {
    "duration": 5,
    "start_time": "2024-11-11T23:26:54.284Z"
   },
   {
    "duration": 157,
    "start_time": "2024-11-11T23:36:20.824Z"
   },
   {
    "duration": 12,
    "start_time": "2024-11-11T23:37:07.668Z"
   },
   {
    "duration": 61,
    "start_time": "2024-11-11T23:38:24.791Z"
   },
   {
    "duration": 19,
    "start_time": "2024-11-11T23:42:19.791Z"
   },
   {
    "duration": 47,
    "start_time": "2024-11-11T23:42:27.384Z"
   },
   {
    "duration": 46,
    "start_time": "2024-11-11T23:42:50.893Z"
   },
   {
    "duration": 48,
    "start_time": "2024-11-11T23:44:23.099Z"
   },
   {
    "duration": 10,
    "start_time": "2024-11-11T23:45:34.540Z"
   },
   {
    "duration": 9,
    "start_time": "2024-11-11T23:45:48.370Z"
   },
   {
    "duration": 3,
    "start_time": "2024-11-12T11:04:17.231Z"
   },
   {
    "duration": 156,
    "start_time": "2024-11-12T11:05:53.162Z"
   },
   {
    "duration": 322,
    "start_time": "2024-11-12T11:05:56.709Z"
   },
   {
    "duration": 223,
    "start_time": "2024-11-12T11:05:57.033Z"
   },
   {
    "duration": 9,
    "start_time": "2024-11-12T11:05:57.258Z"
   },
   {
    "duration": 11,
    "start_time": "2024-11-12T11:05:57.270Z"
   },
   {
    "duration": 6,
    "start_time": "2024-11-12T11:05:57.283Z"
   },
   {
    "duration": 5,
    "start_time": "2024-11-12T11:05:57.292Z"
   },
   {
    "duration": 14,
    "start_time": "2024-11-12T11:05:57.299Z"
   },
   {
    "duration": 8,
    "start_time": "2024-11-12T11:05:57.315Z"
   },
   {
    "duration": 9,
    "start_time": "2024-11-12T11:05:57.324Z"
   },
   {
    "duration": 10,
    "start_time": "2024-11-12T11:05:57.337Z"
   },
   {
    "duration": 5,
    "start_time": "2024-11-12T11:05:57.348Z"
   },
   {
    "duration": 5,
    "start_time": "2024-11-12T11:05:57.354Z"
   },
   {
    "duration": 48,
    "start_time": "2024-11-12T11:05:57.361Z"
   },
   {
    "duration": 14,
    "start_time": "2024-11-12T11:05:57.411Z"
   },
   {
    "duration": 15,
    "start_time": "2024-11-12T11:05:57.427Z"
   },
   {
    "duration": 32,
    "start_time": "2024-11-12T11:05:57.444Z"
   },
   {
    "duration": 43,
    "start_time": "2024-11-12T11:05:57.478Z"
   },
   {
    "duration": 12,
    "start_time": "2024-11-12T11:05:57.523Z"
   },
   {
    "duration": 8,
    "start_time": "2024-11-12T11:05:57.536Z"
   },
   {
    "duration": 8,
    "start_time": "2024-11-12T11:05:57.546Z"
   },
   {
    "duration": 16,
    "start_time": "2024-11-12T11:05:57.555Z"
   },
   {
    "duration": 47,
    "start_time": "2024-11-12T11:05:57.572Z"
   },
   {
    "duration": 13,
    "start_time": "2024-11-12T11:05:57.623Z"
   },
   {
    "duration": 6,
    "start_time": "2024-11-12T11:05:57.637Z"
   },
   {
    "duration": 10,
    "start_time": "2024-11-12T11:05:57.646Z"
   },
   {
    "duration": 60,
    "start_time": "2024-11-12T11:05:57.658Z"
   },
   {
    "duration": 17,
    "start_time": "2024-11-12T11:05:57.719Z"
   },
   {
    "duration": 9,
    "start_time": "2024-11-12T11:05:57.738Z"
   },
   {
    "duration": 22,
    "start_time": "2024-11-12T11:05:57.748Z"
   },
   {
    "duration": 41,
    "start_time": "2024-11-12T11:05:57.771Z"
   },
   {
    "duration": 15,
    "start_time": "2024-11-12T11:06:00.326Z"
   },
   {
    "duration": 17,
    "start_time": "2024-11-12T11:06:06.168Z"
   },
   {
    "duration": 18,
    "start_time": "2024-11-12T11:06:12.132Z"
   },
   {
    "duration": 21,
    "start_time": "2024-11-12T11:06:18.894Z"
   },
   {
    "duration": 5,
    "start_time": "2024-11-12T11:17:51.047Z"
   },
   {
    "duration": 6,
    "start_time": "2024-11-12T11:17:56.127Z"
   },
   {
    "duration": 169,
    "start_time": "2024-11-13T00:32:24.385Z"
   },
   {
    "duration": 288,
    "start_time": "2024-11-13T00:32:31.762Z"
   },
   {
    "duration": 260,
    "start_time": "2024-11-13T00:32:32.056Z"
   },
   {
    "duration": 10,
    "start_time": "2024-11-13T00:32:32.317Z"
   },
   {
    "duration": 11,
    "start_time": "2024-11-13T00:32:32.329Z"
   },
   {
    "duration": 12,
    "start_time": "2024-11-13T00:32:32.346Z"
   },
   {
    "duration": 8,
    "start_time": "2024-11-13T00:32:32.359Z"
   },
   {
    "duration": 10,
    "start_time": "2024-11-13T00:32:32.374Z"
   },
   {
    "duration": 8,
    "start_time": "2024-11-13T00:32:32.385Z"
   },
   {
    "duration": 8,
    "start_time": "2024-11-13T00:32:32.394Z"
   },
   {
    "duration": 8,
    "start_time": "2024-11-13T00:32:32.406Z"
   },
   {
    "duration": 5,
    "start_time": "2024-11-13T00:32:32.416Z"
   },
   {
    "duration": 4,
    "start_time": "2024-11-13T00:32:32.423Z"
   },
   {
    "duration": 41,
    "start_time": "2024-11-13T00:32:32.429Z"
   },
   {
    "duration": 10,
    "start_time": "2024-11-13T00:32:32.471Z"
   },
   {
    "duration": 12,
    "start_time": "2024-11-13T00:32:32.482Z"
   },
   {
    "duration": 32,
    "start_time": "2024-11-13T00:32:32.496Z"
   },
   {
    "duration": 41,
    "start_time": "2024-11-13T00:32:32.530Z"
   },
   {
    "duration": 14,
    "start_time": "2024-11-13T00:32:32.573Z"
   },
   {
    "duration": 7,
    "start_time": "2024-11-13T00:32:32.589Z"
   },
   {
    "duration": 10,
    "start_time": "2024-11-13T00:32:32.598Z"
   },
   {
    "duration": 35,
    "start_time": "2024-11-13T00:32:32.610Z"
   },
   {
    "duration": 18,
    "start_time": "2024-11-13T00:32:32.647Z"
   },
   {
    "duration": 14,
    "start_time": "2024-11-13T00:32:32.670Z"
   },
   {
    "duration": 7,
    "start_time": "2024-11-13T00:32:32.686Z"
   },
   {
    "duration": 11,
    "start_time": "2024-11-13T00:32:32.694Z"
   },
   {
    "duration": 70,
    "start_time": "2024-11-13T00:32:32.707Z"
   },
   {
    "duration": 16,
    "start_time": "2024-11-13T00:32:32.779Z"
   },
   {
    "duration": 9,
    "start_time": "2024-11-13T00:32:32.798Z"
   },
   {
    "duration": 22,
    "start_time": "2024-11-13T00:32:32.809Z"
   },
   {
    "duration": 35,
    "start_time": "2024-11-13T00:32:32.833Z"
   },
   {
    "duration": 16,
    "start_time": "2024-11-13T00:32:32.881Z"
   },
   {
    "duration": 25,
    "start_time": "2024-11-13T00:32:32.899Z"
   },
   {
    "duration": 65,
    "start_time": "2024-11-13T00:32:32.926Z"
   },
   {
    "duration": 26,
    "start_time": "2024-11-13T00:32:32.994Z"
   },
   {
    "duration": 7,
    "start_time": "2024-11-13T00:32:35.121Z"
   },
   {
    "duration": 9,
    "start_time": "2024-11-13T00:32:42.687Z"
   },
   {
    "duration": 603,
    "start_time": "2024-11-13T00:57:21.851Z"
   },
   {
    "duration": 81,
    "start_time": "2024-11-13T00:58:15.319Z"
   },
   {
    "duration": 49,
    "start_time": "2024-11-13T01:08:26.367Z"
   },
   {
    "duration": 74,
    "start_time": "2024-11-13T01:19:06.841Z"
   },
   {
    "duration": 10,
    "start_time": "2024-11-13T01:19:46.409Z"
   },
   {
    "duration": 25,
    "start_time": "2024-11-13T01:22:43.946Z"
   },
   {
    "duration": 4,
    "start_time": "2024-11-13T01:22:52.572Z"
   },
   {
    "duration": 4,
    "start_time": "2024-11-13T01:22:57.766Z"
   },
   {
    "duration": 23,
    "start_time": "2024-11-13T01:23:28.744Z"
   },
   {
    "duration": 21,
    "start_time": "2024-11-13T01:26:26.148Z"
   },
   {
    "duration": 6,
    "start_time": "2024-11-13T01:26:50.742Z"
   },
   {
    "duration": 4,
    "start_time": "2024-11-13T01:28:07.664Z"
   },
   {
    "duration": 5,
    "start_time": "2024-11-13T01:28:43.082Z"
   },
   {
    "duration": 5,
    "start_time": "2024-11-13T01:29:11.489Z"
   },
   {
    "duration": 24,
    "start_time": "2024-11-13T01:31:02.441Z"
   },
   {
    "duration": 4,
    "start_time": "2024-11-13T01:31:27.479Z"
   },
   {
    "duration": 113,
    "start_time": "2024-11-13T01:31:52.992Z"
   },
   {
    "duration": 9,
    "start_time": "2024-11-13T01:32:12.219Z"
   },
   {
    "duration": 57,
    "start_time": "2024-11-13T01:32:20.479Z"
   },
   {
    "duration": 31,
    "start_time": "2024-11-13T01:32:28.535Z"
   },
   {
    "duration": 32,
    "start_time": "2024-11-13T01:47:55.943Z"
   },
   {
    "duration": 154,
    "start_time": "2024-11-14T00:58:54.780Z"
   },
   {
    "duration": 278,
    "start_time": "2024-11-14T00:58:57.638Z"
   },
   {
    "duration": 208,
    "start_time": "2024-11-14T00:58:57.919Z"
   },
   {
    "duration": 9,
    "start_time": "2024-11-14T00:58:58.129Z"
   },
   {
    "duration": 12,
    "start_time": "2024-11-14T00:58:58.140Z"
   },
   {
    "duration": 5,
    "start_time": "2024-11-14T00:58:58.154Z"
   },
   {
    "duration": 5,
    "start_time": "2024-11-14T00:58:58.160Z"
   },
   {
    "duration": 4,
    "start_time": "2024-11-14T00:58:58.170Z"
   },
   {
    "duration": 7,
    "start_time": "2024-11-14T00:58:58.176Z"
   },
   {
    "duration": 9,
    "start_time": "2024-11-14T00:58:58.184Z"
   },
   {
    "duration": 9,
    "start_time": "2024-11-14T00:58:58.195Z"
   },
   {
    "duration": 6,
    "start_time": "2024-11-14T00:58:58.205Z"
   },
   {
    "duration": 5,
    "start_time": "2024-11-14T00:58:58.212Z"
   },
   {
    "duration": 52,
    "start_time": "2024-11-14T00:58:58.219Z"
   },
   {
    "duration": 10,
    "start_time": "2024-11-14T00:59:02.349Z"
   },
   {
    "duration": 42,
    "start_time": "2024-11-14T00:59:34.272Z"
   },
   {
    "duration": 2,
    "start_time": "2024-11-14T00:59:37.532Z"
   },
   {
    "duration": 165,
    "start_time": "2024-11-14T00:59:37.562Z"
   },
   {
    "duration": 9,
    "start_time": "2024-11-14T00:59:37.729Z"
   },
   {
    "duration": 7,
    "start_time": "2024-11-14T00:59:37.739Z"
   },
   {
    "duration": 4,
    "start_time": "2024-11-14T00:59:37.748Z"
   },
   {
    "duration": 4,
    "start_time": "2024-11-14T00:59:37.772Z"
   },
   {
    "duration": 5,
    "start_time": "2024-11-14T00:59:37.777Z"
   },
   {
    "duration": 7,
    "start_time": "2024-11-14T00:59:37.783Z"
   },
   {
    "duration": 7,
    "start_time": "2024-11-14T00:59:37.792Z"
   },
   {
    "duration": 8,
    "start_time": "2024-11-14T00:59:37.801Z"
   },
   {
    "duration": 5,
    "start_time": "2024-11-14T00:59:37.810Z"
   },
   {
    "duration": 5,
    "start_time": "2024-11-14T00:59:37.818Z"
   },
   {
    "duration": 58,
    "start_time": "2024-11-14T00:59:37.824Z"
   },
   {
    "duration": 10,
    "start_time": "2024-11-14T00:59:37.884Z"
   },
   {
    "duration": 12,
    "start_time": "2024-11-14T00:59:37.897Z"
   },
   {
    "duration": 29,
    "start_time": "2024-11-14T00:59:37.911Z"
   },
   {
    "duration": 43,
    "start_time": "2024-11-14T00:59:37.942Z"
   },
   {
    "duration": 14,
    "start_time": "2024-11-14T00:59:37.986Z"
   },
   {
    "duration": 9,
    "start_time": "2024-11-14T00:59:38.002Z"
   },
   {
    "duration": 8,
    "start_time": "2024-11-14T00:59:38.012Z"
   },
   {
    "duration": 16,
    "start_time": "2024-11-14T00:59:38.022Z"
   },
   {
    "duration": 13,
    "start_time": "2024-11-14T00:59:38.070Z"
   },
   {
    "duration": 14,
    "start_time": "2024-11-14T00:59:38.084Z"
   },
   {
    "duration": 6,
    "start_time": "2024-11-14T00:59:38.100Z"
   },
   {
    "duration": 10,
    "start_time": "2024-11-14T00:59:38.108Z"
   },
   {
    "duration": 65,
    "start_time": "2024-11-14T00:59:38.120Z"
   },
   {
    "duration": 14,
    "start_time": "2024-11-14T00:59:38.187Z"
   },
   {
    "duration": 7,
    "start_time": "2024-11-14T00:59:38.203Z"
   },
   {
    "duration": 20,
    "start_time": "2024-11-14T00:59:38.211Z"
   },
   {
    "duration": 42,
    "start_time": "2024-11-14T00:59:38.233Z"
   },
   {
    "duration": 14,
    "start_time": "2024-11-14T00:59:38.277Z"
   },
   {
    "duration": 17,
    "start_time": "2024-11-14T00:59:38.292Z"
   },
   {
    "duration": 18,
    "start_time": "2024-11-14T00:59:38.310Z"
   },
   {
    "duration": 51,
    "start_time": "2024-11-14T00:59:38.329Z"
   },
   {
    "duration": 61,
    "start_time": "2024-11-14T00:59:38.381Z"
   },
   {
    "duration": 17,
    "start_time": "2024-11-14T00:59:41.617Z"
   },
   {
    "duration": 19,
    "start_time": "2024-11-14T01:00:17.848Z"
   },
   {
    "duration": 16,
    "start_time": "2024-11-14T01:00:42.437Z"
   },
   {
    "duration": 4,
    "start_time": "2024-11-14T01:25:40.238Z"
   },
   {
    "duration": 13,
    "start_time": "2024-11-14T01:25:59.091Z"
   },
   {
    "duration": 13,
    "start_time": "2024-11-14T01:26:31.587Z"
   },
   {
    "duration": 10,
    "start_time": "2024-11-14T01:26:39.401Z"
   },
   {
    "duration": 11,
    "start_time": "2024-11-14T01:26:51.082Z"
   },
   {
    "duration": 11,
    "start_time": "2024-11-14T01:36:27.113Z"
   },
   {
    "duration": 1906,
    "start_time": "2024-11-14T01:40:19.987Z"
   },
   {
    "duration": 352,
    "start_time": "2024-11-14T01:42:50.844Z"
   },
   {
    "duration": 257,
    "start_time": "2024-11-14T01:45:28.063Z"
   },
   {
    "duration": 223,
    "start_time": "2024-11-14T01:48:13.692Z"
   },
   {
    "duration": 225,
    "start_time": "2024-11-14T01:50:36.412Z"
   },
   {
    "duration": 4,
    "start_time": "2024-11-14T01:54:07.007Z"
   },
   {
    "duration": 4,
    "start_time": "2024-11-14T01:54:11.702Z"
   },
   {
    "duration": 4,
    "start_time": "2024-11-14T01:54:30.064Z"
   },
   {
    "duration": 225,
    "start_time": "2024-11-14T01:54:51.819Z"
   },
   {
    "duration": 215,
    "start_time": "2024-11-14T01:55:06.889Z"
   },
   {
    "duration": 12,
    "start_time": "2024-11-14T01:58:30.312Z"
   },
   {
    "duration": 6,
    "start_time": "2024-11-14T01:59:36.770Z"
   },
   {
    "duration": 216,
    "start_time": "2024-11-14T02:00:24.583Z"
   },
   {
    "duration": 172,
    "start_time": "2024-11-14T02:00:38.748Z"
   },
   {
    "duration": 145,
    "start_time": "2024-11-14T02:01:14.025Z"
   },
   {
    "duration": 8,
    "start_time": "2024-11-14T02:16:43.588Z"
   },
   {
    "duration": 8,
    "start_time": "2024-11-14T02:17:37.455Z"
   },
   {
    "duration": 7,
    "start_time": "2024-11-14T02:20:44.980Z"
   },
   {
    "duration": 11,
    "start_time": "2024-11-14T02:21:04.487Z"
   },
   {
    "duration": 8,
    "start_time": "2024-11-14T02:24:08.995Z"
   },
   {
    "duration": 9,
    "start_time": "2024-11-14T02:27:53.012Z"
   },
   {
    "duration": 11,
    "start_time": "2024-11-14T02:28:16.191Z"
   },
   {
    "duration": 157,
    "start_time": "2024-11-14T10:37:29.122Z"
   },
   {
    "duration": 2522,
    "start_time": "2024-11-14T10:37:38.344Z"
   },
   {
    "duration": 210,
    "start_time": "2024-11-14T10:37:40.870Z"
   },
   {
    "duration": 10,
    "start_time": "2024-11-14T10:37:41.081Z"
   },
   {
    "duration": 10,
    "start_time": "2024-11-14T10:37:41.093Z"
   },
   {
    "duration": 6,
    "start_time": "2024-11-14T10:37:41.106Z"
   },
   {
    "duration": 10,
    "start_time": "2024-11-14T10:37:41.115Z"
   },
   {
    "duration": 6,
    "start_time": "2024-11-14T10:37:41.127Z"
   },
   {
    "duration": 8,
    "start_time": "2024-11-14T10:37:41.134Z"
   },
   {
    "duration": 8,
    "start_time": "2024-11-14T10:37:41.145Z"
   },
   {
    "duration": 9,
    "start_time": "2024-11-14T10:37:41.155Z"
   },
   {
    "duration": 5,
    "start_time": "2024-11-14T10:37:41.165Z"
   },
   {
    "duration": 7,
    "start_time": "2024-11-14T10:37:41.172Z"
   },
   {
    "duration": 52,
    "start_time": "2024-11-14T10:37:41.180Z"
   },
   {
    "duration": 10,
    "start_time": "2024-11-14T10:37:41.235Z"
   },
   {
    "duration": 12,
    "start_time": "2024-11-14T10:37:41.246Z"
   },
   {
    "duration": 31,
    "start_time": "2024-11-14T10:37:41.260Z"
   },
   {
    "duration": 44,
    "start_time": "2024-11-14T10:37:41.293Z"
   },
   {
    "duration": 11,
    "start_time": "2024-11-14T10:37:41.339Z"
   },
   {
    "duration": 8,
    "start_time": "2024-11-14T10:37:41.352Z"
   },
   {
    "duration": 10,
    "start_time": "2024-11-14T10:37:41.361Z"
   },
   {
    "duration": 16,
    "start_time": "2024-11-14T10:37:41.373Z"
   },
   {
    "duration": 41,
    "start_time": "2024-11-14T10:37:41.392Z"
   },
   {
    "duration": 14,
    "start_time": "2024-11-14T10:37:41.435Z"
   },
   {
    "duration": 6,
    "start_time": "2024-11-14T10:37:41.451Z"
   },
   {
    "duration": 11,
    "start_time": "2024-11-14T10:37:41.458Z"
   },
   {
    "duration": 61,
    "start_time": "2024-11-14T10:37:41.471Z"
   },
   {
    "duration": 14,
    "start_time": "2024-11-14T10:37:41.534Z"
   },
   {
    "duration": 7,
    "start_time": "2024-11-14T10:37:41.550Z"
   },
   {
    "duration": 20,
    "start_time": "2024-11-14T10:37:41.558Z"
   },
   {
    "duration": 45,
    "start_time": "2024-11-14T10:37:41.580Z"
   },
   {
    "duration": 15,
    "start_time": "2024-11-14T10:37:41.627Z"
   },
   {
    "duration": 18,
    "start_time": "2024-11-14T10:37:41.643Z"
   },
   {
    "duration": 18,
    "start_time": "2024-11-14T10:37:41.663Z"
   },
   {
    "duration": 49,
    "start_time": "2024-11-14T10:37:41.682Z"
   },
   {
    "duration": 16,
    "start_time": "2024-11-14T10:37:41.732Z"
   },
   {
    "duration": 222,
    "start_time": "2024-11-14T10:37:45.063Z"
   },
   {
    "duration": 10,
    "start_time": "2024-11-14T10:41:49.397Z"
   },
   {
    "duration": 8,
    "start_time": "2024-11-14T10:42:06.729Z"
   },
   {
    "duration": 11,
    "start_time": "2024-11-14T10:42:21.292Z"
   },
   {
    "duration": 11,
    "start_time": "2024-11-14T10:46:16.365Z"
   },
   {
    "duration": 302,
    "start_time": "2024-11-14T10:54:15.659Z"
   },
   {
    "duration": 213,
    "start_time": "2024-11-14T10:54:46.311Z"
   },
   {
    "duration": 25,
    "start_time": "2024-11-14T11:01:08.150Z"
   },
   {
    "duration": 12,
    "start_time": "2024-11-14T11:02:54.137Z"
   },
   {
    "duration": 18,
    "start_time": "2024-11-14T11:03:26.495Z"
   },
   {
    "duration": 26,
    "start_time": "2024-11-14T11:03:30.929Z"
   },
   {
    "duration": 81,
    "start_time": "2024-11-14T11:07:37.740Z"
   },
   {
    "duration": 80,
    "start_time": "2024-11-14T11:09:04.828Z"
   },
   {
    "duration": 9,
    "start_time": "2024-11-14T11:10:42.294Z"
   },
   {
    "duration": 108,
    "start_time": "2024-11-14T11:20:03.073Z"
   },
   {
    "duration": 147,
    "start_time": "2024-11-14T11:21:01.032Z"
   },
   {
    "duration": 116,
    "start_time": "2024-11-14T11:21:21.909Z"
   },
   {
    "duration": 154,
    "start_time": "2024-11-14T19:08:12.209Z"
   },
   {
    "duration": 2606,
    "start_time": "2024-11-14T19:08:20.401Z"
   },
   {
    "duration": 214,
    "start_time": "2024-11-14T19:08:23.009Z"
   },
   {
    "duration": 9,
    "start_time": "2024-11-14T19:08:23.225Z"
   },
   {
    "duration": 10,
    "start_time": "2024-11-14T19:08:23.237Z"
   },
   {
    "duration": 5,
    "start_time": "2024-11-14T19:08:23.248Z"
   },
   {
    "duration": 5,
    "start_time": "2024-11-14T19:08:23.254Z"
   },
   {
    "duration": 5,
    "start_time": "2024-11-14T19:08:23.261Z"
   },
   {
    "duration": 7,
    "start_time": "2024-11-14T19:08:23.268Z"
   },
   {
    "duration": 48,
    "start_time": "2024-11-14T19:08:23.277Z"
   },
   {
    "duration": 8,
    "start_time": "2024-11-14T19:08:23.328Z"
   },
   {
    "duration": 5,
    "start_time": "2024-11-14T19:08:23.338Z"
   },
   {
    "duration": 5,
    "start_time": "2024-11-14T19:08:23.345Z"
   },
   {
    "duration": 15,
    "start_time": "2024-11-14T19:08:23.351Z"
   },
   {
    "duration": 10,
    "start_time": "2024-11-14T19:08:23.368Z"
   },
   {
    "duration": 49,
    "start_time": "2024-11-14T19:08:23.379Z"
   },
   {
    "duration": 38,
    "start_time": "2024-11-14T19:08:23.429Z"
   },
   {
    "duration": 20,
    "start_time": "2024-11-14T19:08:23.470Z"
   },
   {
    "duration": 33,
    "start_time": "2024-11-14T19:08:23.492Z"
   },
   {
    "duration": 8,
    "start_time": "2024-11-14T19:08:23.527Z"
   },
   {
    "duration": 8,
    "start_time": "2024-11-14T19:08:23.536Z"
   },
   {
    "duration": 15,
    "start_time": "2024-11-14T19:08:23.546Z"
   },
   {
    "duration": 13,
    "start_time": "2024-11-14T19:08:23.562Z"
   },
   {
    "duration": 13,
    "start_time": "2024-11-14T19:08:23.576Z"
   },
   {
    "duration": 40,
    "start_time": "2024-11-14T19:08:23.590Z"
   },
   {
    "duration": 12,
    "start_time": "2024-11-14T19:08:23.631Z"
   },
   {
    "duration": 34,
    "start_time": "2024-11-14T19:08:23.644Z"
   },
   {
    "duration": 14,
    "start_time": "2024-11-14T19:08:23.680Z"
   },
   {
    "duration": 8,
    "start_time": "2024-11-14T19:08:23.723Z"
   },
   {
    "duration": 21,
    "start_time": "2024-11-14T19:08:23.733Z"
   },
   {
    "duration": 21,
    "start_time": "2024-11-14T19:08:23.755Z"
   },
   {
    "duration": 15,
    "start_time": "2024-11-14T19:08:23.777Z"
   },
   {
    "duration": 44,
    "start_time": "2024-11-14T19:08:23.794Z"
   },
   {
    "duration": 20,
    "start_time": "2024-11-14T19:08:23.840Z"
   },
   {
    "duration": 25,
    "start_time": "2024-11-14T19:08:23.861Z"
   },
   {
    "duration": 44,
    "start_time": "2024-11-14T19:08:23.887Z"
   },
   {
    "duration": 302,
    "start_time": "2024-11-14T19:08:23.933Z"
   },
   {
    "duration": 119,
    "start_time": "2024-11-14T19:08:24.236Z"
   },
   {
    "duration": 11,
    "start_time": "2024-11-14T19:08:24.357Z"
   },
   {
    "duration": 99,
    "start_time": "2024-11-14T19:08:24.370Z"
   },
   {
    "duration": 10,
    "start_time": "2024-11-14T19:08:24.471Z"
   },
   {
    "duration": 7,
    "start_time": "2024-11-14T19:08:24.482Z"
   },
   {
    "duration": 7,
    "start_time": "2024-11-14T19:08:24.490Z"
   },
   {
    "duration": 30,
    "start_time": "2024-11-14T19:08:24.499Z"
   },
   {
    "duration": 101,
    "start_time": "2024-11-14T19:08:24.531Z"
   },
   {
    "duration": 11,
    "start_time": "2024-11-14T19:08:27.351Z"
   },
   {
    "duration": 9,
    "start_time": "2024-11-14T19:11:22.526Z"
   },
   {
    "duration": 224,
    "start_time": "2024-11-14T19:13:19.867Z"
   },
   {
    "duration": 87,
    "start_time": "2024-11-14T19:13:44.316Z"
   },
   {
    "duration": 319,
    "start_time": "2024-11-14T19:16:37.407Z"
   },
   {
    "duration": 96,
    "start_time": "2024-11-14T19:18:24.591Z"
   },
   {
    "duration": 2,
    "start_time": "2024-11-14T19:30:30.096Z"
   },
   {
    "duration": 7,
    "start_time": "2024-11-14T19:41:50.193Z"
   },
   {
    "duration": 161,
    "start_time": "2024-11-14T21:19:04.965Z"
   },
   {
    "duration": 2610,
    "start_time": "2024-11-14T21:19:08.069Z"
   },
   {
    "duration": 213,
    "start_time": "2024-11-14T21:19:10.682Z"
   },
   {
    "duration": 10,
    "start_time": "2024-11-14T21:19:10.897Z"
   },
   {
    "duration": 9,
    "start_time": "2024-11-14T21:19:10.908Z"
   },
   {
    "duration": 5,
    "start_time": "2024-11-14T21:19:10.919Z"
   },
   {
    "duration": 6,
    "start_time": "2024-11-14T21:19:10.925Z"
   },
   {
    "duration": 8,
    "start_time": "2024-11-14T21:19:10.933Z"
   },
   {
    "duration": 8,
    "start_time": "2024-11-14T21:19:10.943Z"
   },
   {
    "duration": 36,
    "start_time": "2024-11-14T21:19:10.953Z"
   },
   {
    "duration": 10,
    "start_time": "2024-11-14T21:19:10.991Z"
   },
   {
    "duration": 5,
    "start_time": "2024-11-14T21:19:11.002Z"
   },
   {
    "duration": 4,
    "start_time": "2024-11-14T21:19:11.009Z"
   },
   {
    "duration": 15,
    "start_time": "2024-11-14T21:19:11.015Z"
   },
   {
    "duration": 10,
    "start_time": "2024-11-14T21:19:11.034Z"
   },
   {
    "duration": 50,
    "start_time": "2024-11-14T21:19:11.045Z"
   },
   {
    "duration": 32,
    "start_time": "2024-11-14T21:19:11.096Z"
   },
   {
    "duration": 19,
    "start_time": "2024-11-14T21:19:11.130Z"
   },
   {
    "duration": 40,
    "start_time": "2024-11-14T21:19:11.151Z"
   },
   {
    "duration": 8,
    "start_time": "2024-11-14T21:19:11.192Z"
   },
   {
    "duration": 10,
    "start_time": "2024-11-14T21:19:11.202Z"
   },
   {
    "duration": 16,
    "start_time": "2024-11-14T21:19:11.213Z"
   },
   {
    "duration": 13,
    "start_time": "2024-11-14T21:19:11.231Z"
   },
   {
    "duration": 46,
    "start_time": "2024-11-14T21:19:11.245Z"
   },
   {
    "duration": 7,
    "start_time": "2024-11-14T21:19:11.293Z"
   },
   {
    "duration": 11,
    "start_time": "2024-11-14T21:19:11.302Z"
   },
   {
    "duration": 33,
    "start_time": "2024-11-14T21:19:11.314Z"
   },
   {
    "duration": 38,
    "start_time": "2024-11-14T21:19:11.349Z"
   },
   {
    "duration": 7,
    "start_time": "2024-11-14T21:19:11.389Z"
   },
   {
    "duration": 19,
    "start_time": "2024-11-14T21:19:11.398Z"
   },
   {
    "duration": 20,
    "start_time": "2024-11-14T21:19:11.419Z"
   },
   {
    "duration": 15,
    "start_time": "2024-11-14T21:19:11.440Z"
   },
   {
    "duration": 45,
    "start_time": "2024-11-14T21:19:11.458Z"
   },
   {
    "duration": 18,
    "start_time": "2024-11-14T21:19:11.504Z"
   },
   {
    "duration": 20,
    "start_time": "2024-11-14T21:19:11.524Z"
   },
   {
    "duration": 43,
    "start_time": "2024-11-14T21:19:11.546Z"
   },
   {
    "duration": 235,
    "start_time": "2024-11-14T21:19:11.591Z"
   },
   {
    "duration": 122,
    "start_time": "2024-11-14T21:19:11.827Z"
   },
   {
    "duration": 12,
    "start_time": "2024-11-14T21:19:11.950Z"
   },
   {
    "duration": 92,
    "start_time": "2024-11-14T21:19:11.963Z"
   },
   {
    "duration": 10,
    "start_time": "2024-11-14T21:19:12.057Z"
   },
   {
    "duration": 20,
    "start_time": "2024-11-14T21:19:12.072Z"
   },
   {
    "duration": 7,
    "start_time": "2024-11-14T21:19:12.094Z"
   },
   {
    "duration": 8,
    "start_time": "2024-11-14T21:19:12.102Z"
   },
   {
    "duration": 161,
    "start_time": "2024-11-14T21:19:12.112Z"
   },
   {
    "duration": 12,
    "start_time": "2024-11-14T21:19:12.287Z"
   },
   {
    "duration": 303,
    "start_time": "2024-11-14T21:19:12.300Z"
   },
   {
    "duration": 104,
    "start_time": "2024-11-14T21:19:12.605Z"
   },
   {
    "duration": 103,
    "start_time": "2024-11-14T21:19:12.712Z"
   },
   {
    "duration": 10,
    "start_time": "2024-11-14T21:19:15.057Z"
   },
   {
    "duration": 7,
    "start_time": "2024-11-14T21:21:06.406Z"
   },
   {
    "duration": 6,
    "start_time": "2024-11-14T21:21:10.237Z"
   },
   {
    "duration": 80,
    "start_time": "2024-11-14T21:22:07.308Z"
   },
   {
    "duration": 7,
    "start_time": "2024-11-14T21:22:16.770Z"
   },
   {
    "duration": 6,
    "start_time": "2024-11-14T21:23:47.625Z"
   },
   {
    "duration": 7,
    "start_time": "2024-11-14T21:24:05.260Z"
   },
   {
    "duration": 6,
    "start_time": "2024-11-14T21:24:38.960Z"
   },
   {
    "duration": 16,
    "start_time": "2024-11-14T21:39:01.083Z"
   },
   {
    "duration": 17,
    "start_time": "2024-11-14T21:39:14.624Z"
   },
   {
    "duration": 481,
    "start_time": "2024-11-14T21:39:23.235Z"
   },
   {
    "duration": 46,
    "start_time": "2024-11-14T21:39:48.549Z"
   },
   {
    "duration": 3,
    "start_time": "2024-11-14T21:39:54.706Z"
   },
   {
    "duration": 163,
    "start_time": "2024-11-14T21:39:54.711Z"
   },
   {
    "duration": 9,
    "start_time": "2024-11-14T21:39:54.878Z"
   },
   {
    "duration": 13,
    "start_time": "2024-11-14T21:39:54.891Z"
   },
   {
    "duration": 9,
    "start_time": "2024-11-14T21:39:54.907Z"
   },
   {
    "duration": 7,
    "start_time": "2024-11-14T21:39:54.918Z"
   },
   {
    "duration": 5,
    "start_time": "2024-11-14T21:39:54.928Z"
   },
   {
    "duration": 11,
    "start_time": "2024-11-14T21:39:54.935Z"
   },
   {
    "duration": 11,
    "start_time": "2024-11-14T21:39:54.947Z"
   },
   {
    "duration": 11,
    "start_time": "2024-11-14T21:39:54.987Z"
   },
   {
    "duration": 5,
    "start_time": "2024-11-14T21:39:55.002Z"
   },
   {
    "duration": 6,
    "start_time": "2024-11-14T21:39:55.008Z"
   },
   {
    "duration": 16,
    "start_time": "2024-11-14T21:39:55.015Z"
   },
   {
    "duration": 9,
    "start_time": "2024-11-14T21:39:55.032Z"
   },
   {
    "duration": 45,
    "start_time": "2024-11-14T21:39:55.043Z"
   },
   {
    "duration": 30,
    "start_time": "2024-11-14T21:39:55.090Z"
   },
   {
    "duration": 17,
    "start_time": "2024-11-14T21:39:55.122Z"
   },
   {
    "duration": 12,
    "start_time": "2024-11-14T21:39:55.141Z"
   },
   {
    "duration": 37,
    "start_time": "2024-11-14T21:39:55.154Z"
   },
   {
    "duration": 8,
    "start_time": "2024-11-14T21:39:55.193Z"
   },
   {
    "duration": 14,
    "start_time": "2024-11-14T21:39:55.203Z"
   },
   {
    "duration": 11,
    "start_time": "2024-11-14T21:39:55.219Z"
   },
   {
    "duration": 15,
    "start_time": "2024-11-14T21:39:55.231Z"
   },
   {
    "duration": 40,
    "start_time": "2024-11-14T21:39:55.247Z"
   },
   {
    "duration": 11,
    "start_time": "2024-11-14T21:39:55.288Z"
   },
   {
    "duration": 33,
    "start_time": "2024-11-14T21:39:55.300Z"
   },
   {
    "duration": 14,
    "start_time": "2024-11-14T21:39:55.334Z"
   },
   {
    "duration": 8,
    "start_time": "2024-11-14T21:39:55.350Z"
   },
   {
    "duration": 20,
    "start_time": "2024-11-14T21:39:55.386Z"
   },
   {
    "duration": 21,
    "start_time": "2024-11-14T21:39:55.408Z"
   },
   {
    "duration": 15,
    "start_time": "2024-11-14T21:39:55.430Z"
   },
   {
    "duration": 43,
    "start_time": "2024-11-14T21:39:55.446Z"
   },
   {
    "duration": 17,
    "start_time": "2024-11-14T21:39:55.491Z"
   },
   {
    "duration": 21,
    "start_time": "2024-11-14T21:39:55.509Z"
   },
   {
    "duration": 22,
    "start_time": "2024-11-14T21:39:55.532Z"
   },
   {
    "duration": 231,
    "start_time": "2024-11-14T21:39:55.556Z"
   },
   {
    "duration": 117,
    "start_time": "2024-11-14T21:39:55.789Z"
   },
   {
    "duration": 11,
    "start_time": "2024-11-14T21:39:55.908Z"
   },
   {
    "duration": 102,
    "start_time": "2024-11-14T21:39:55.921Z"
   },
   {
    "duration": 13,
    "start_time": "2024-11-14T21:39:56.025Z"
   },
   {
    "duration": 7,
    "start_time": "2024-11-14T21:39:56.041Z"
   },
   {
    "duration": 8,
    "start_time": "2024-11-14T21:39:56.050Z"
   },
   {
    "duration": 28,
    "start_time": "2024-11-14T21:39:56.060Z"
   },
   {
    "duration": 79,
    "start_time": "2024-11-14T21:39:56.089Z"
   },
   {
    "duration": 26,
    "start_time": "2024-11-14T21:39:56.169Z"
   },
   {
    "duration": 291,
    "start_time": "2024-11-14T21:39:56.197Z"
   },
   {
    "duration": 76,
    "start_time": "2024-11-14T21:39:56.489Z"
   },
   {
    "duration": 107,
    "start_time": "2024-11-14T21:39:56.567Z"
   },
   {
    "duration": 14,
    "start_time": "2024-11-14T21:39:56.676Z"
   },
   {
    "duration": 45,
    "start_time": "2024-11-14T21:39:59.484Z"
   },
   {
    "duration": 7,
    "start_time": "2024-11-14T21:41:36.162Z"
   },
   {
    "duration": 45,
    "start_time": "2024-11-14T21:41:46.782Z"
   },
   {
    "duration": 163,
    "start_time": "2024-11-14T23:21:14.997Z"
   },
   {
    "duration": 2682,
    "start_time": "2024-11-14T23:21:18.923Z"
   },
   {
    "duration": 216,
    "start_time": "2024-11-14T23:21:21.608Z"
   },
   {
    "duration": 10,
    "start_time": "2024-11-14T23:21:21.826Z"
   },
   {
    "duration": 10,
    "start_time": "2024-11-14T23:21:21.837Z"
   },
   {
    "duration": 4,
    "start_time": "2024-11-14T23:21:21.850Z"
   },
   {
    "duration": 5,
    "start_time": "2024-11-14T23:21:21.856Z"
   },
   {
    "duration": 5,
    "start_time": "2024-11-14T23:21:21.863Z"
   },
   {
    "duration": 6,
    "start_time": "2024-11-14T23:21:21.870Z"
   },
   {
    "duration": 34,
    "start_time": "2024-11-14T23:21:21.878Z"
   },
   {
    "duration": 10,
    "start_time": "2024-11-14T23:21:21.913Z"
   },
   {
    "duration": 5,
    "start_time": "2024-11-14T23:21:21.925Z"
   },
   {
    "duration": 6,
    "start_time": "2024-11-14T23:21:21.931Z"
   },
   {
    "duration": 16,
    "start_time": "2024-11-14T23:21:21.938Z"
   },
   {
    "duration": 47,
    "start_time": "2024-11-14T23:21:21.959Z"
   },
   {
    "duration": 14,
    "start_time": "2024-11-14T23:21:22.008Z"
   },
   {
    "duration": 33,
    "start_time": "2024-11-14T23:21:22.024Z"
   },
   {
    "duration": 21,
    "start_time": "2024-11-14T23:21:22.058Z"
   },
   {
    "duration": 36,
    "start_time": "2024-11-14T23:21:22.081Z"
   },
   {
    "duration": 8,
    "start_time": "2024-11-14T23:21:22.119Z"
   },
   {
    "duration": 10,
    "start_time": "2024-11-14T23:21:22.130Z"
   },
   {
    "duration": 18,
    "start_time": "2024-11-14T23:21:22.141Z"
   },
   {
    "duration": 46,
    "start_time": "2024-11-14T23:21:22.161Z"
   },
   {
    "duration": 15,
    "start_time": "2024-11-14T23:21:22.209Z"
   },
   {
    "duration": 7,
    "start_time": "2024-11-14T23:21:22.226Z"
   },
   {
    "duration": 11,
    "start_time": "2024-11-14T23:21:22.235Z"
   },
   {
    "duration": 64,
    "start_time": "2024-11-14T23:21:22.248Z"
   },
   {
    "duration": 17,
    "start_time": "2024-11-14T23:21:22.314Z"
   },
   {
    "duration": 8,
    "start_time": "2024-11-14T23:21:22.333Z"
   },
   {
    "duration": 22,
    "start_time": "2024-11-14T23:21:22.343Z"
   },
   {
    "duration": 46,
    "start_time": "2024-11-14T23:21:22.366Z"
   },
   {
    "duration": 20,
    "start_time": "2024-11-14T23:21:22.414Z"
   },
   {
    "duration": 23,
    "start_time": "2024-11-14T23:21:22.436Z"
   },
   {
    "duration": 17,
    "start_time": "2024-11-14T23:21:22.461Z"
   },
   {
    "duration": 49,
    "start_time": "2024-11-14T23:21:22.480Z"
   },
   {
    "duration": 19,
    "start_time": "2024-11-14T23:21:22.531Z"
   },
   {
    "duration": 313,
    "start_time": "2024-11-14T23:21:22.551Z"
   },
   {
    "duration": 127,
    "start_time": "2024-11-14T23:21:22.866Z"
   },
   {
    "duration": 24,
    "start_time": "2024-11-14T23:21:22.995Z"
   },
   {
    "duration": 101,
    "start_time": "2024-11-14T23:21:23.021Z"
   },
   {
    "duration": 11,
    "start_time": "2024-11-14T23:21:23.124Z"
   },
   {
    "duration": 8,
    "start_time": "2024-11-14T23:21:23.140Z"
   },
   {
    "duration": 8,
    "start_time": "2024-11-14T23:21:23.150Z"
   },
   {
    "duration": 10,
    "start_time": "2024-11-14T23:21:23.160Z"
   },
   {
    "duration": 139,
    "start_time": "2024-11-14T23:21:23.171Z"
   },
   {
    "duration": 12,
    "start_time": "2024-11-14T23:21:23.312Z"
   },
   {
    "duration": 344,
    "start_time": "2024-11-14T23:21:23.326Z"
   },
   {
    "duration": 92,
    "start_time": "2024-11-14T23:21:23.672Z"
   },
   {
    "duration": 110,
    "start_time": "2024-11-14T23:21:23.765Z"
   },
   {
    "duration": 8,
    "start_time": "2024-11-14T23:21:23.878Z"
   },
   {
    "duration": 572,
    "start_time": "2024-11-14T23:21:38.753Z"
   },
   {
    "duration": 47,
    "start_time": "2024-11-14T23:25:57.518Z"
   },
   {
    "duration": 6,
    "start_time": "2024-11-14T23:42:17.163Z"
   },
   {
    "duration": 8,
    "start_time": "2024-11-15T00:02:33.022Z"
   },
   {
    "duration": 19,
    "start_time": "2024-11-15T00:02:55.095Z"
   },
   {
    "duration": 8,
    "start_time": "2024-11-15T00:03:21.835Z"
   },
   {
    "duration": 10,
    "start_time": "2024-11-15T00:03:41.690Z"
   },
   {
    "duration": 364,
    "start_time": "2024-11-15T00:32:35.689Z"
   },
   {
    "duration": 123,
    "start_time": "2024-11-15T00:32:43.649Z"
   },
   {
    "duration": 30,
    "start_time": "2024-11-15T00:41:16.097Z"
   },
   {
    "duration": 3,
    "start_time": "2024-11-15T00:44:58.198Z"
   },
   {
    "duration": 157,
    "start_time": "2024-11-15T00:44:58.204Z"
   },
   {
    "duration": 8,
    "start_time": "2024-11-15T00:44:58.363Z"
   },
   {
    "duration": 8,
    "start_time": "2024-11-15T00:44:58.373Z"
   },
   {
    "duration": 23,
    "start_time": "2024-11-15T00:44:58.383Z"
   },
   {
    "duration": 6,
    "start_time": "2024-11-15T00:44:58.407Z"
   },
   {
    "duration": 4,
    "start_time": "2024-11-15T00:44:58.414Z"
   },
   {
    "duration": 7,
    "start_time": "2024-11-15T00:44:58.420Z"
   },
   {
    "duration": 9,
    "start_time": "2024-11-15T00:44:58.429Z"
   },
   {
    "duration": 8,
    "start_time": "2024-11-15T00:44:58.440Z"
   },
   {
    "duration": 5,
    "start_time": "2024-11-15T00:44:58.452Z"
   },
   {
    "duration": 49,
    "start_time": "2024-11-15T00:44:58.459Z"
   },
   {
    "duration": 8,
    "start_time": "2024-11-15T00:44:58.510Z"
   },
   {
    "duration": 7,
    "start_time": "2024-11-15T00:44:58.520Z"
   },
   {
    "duration": 15,
    "start_time": "2024-11-15T00:44:58.529Z"
   },
   {
    "duration": 10,
    "start_time": "2024-11-15T00:44:58.545Z"
   },
   {
    "duration": 13,
    "start_time": "2024-11-15T00:44:58.556Z"
   },
   {
    "duration": 33,
    "start_time": "2024-11-15T00:44:58.606Z"
   },
   {
    "duration": 21,
    "start_time": "2024-11-15T00:44:58.641Z"
   },
   {
    "duration": 14,
    "start_time": "2024-11-15T00:44:58.664Z"
   },
   {
    "duration": 33,
    "start_time": "2024-11-15T00:44:58.679Z"
   },
   {
    "duration": 9,
    "start_time": "2024-11-15T00:44:58.715Z"
   },
   {
    "duration": 14,
    "start_time": "2024-11-15T00:44:58.726Z"
   },
   {
    "duration": 12,
    "start_time": "2024-11-15T00:44:58.742Z"
   },
   {
    "duration": 13,
    "start_time": "2024-11-15T00:44:58.756Z"
   },
   {
    "duration": 36,
    "start_time": "2024-11-15T00:44:58.771Z"
   },
   {
    "duration": 11,
    "start_time": "2024-11-15T00:44:58.809Z"
   },
   {
    "duration": 31,
    "start_time": "2024-11-15T00:44:58.821Z"
   },
   {
    "duration": 14,
    "start_time": "2024-11-15T00:44:58.856Z"
   },
   {
    "duration": 33,
    "start_time": "2024-11-15T00:44:58.873Z"
   },
   {
    "duration": 19,
    "start_time": "2024-11-15T00:44:58.908Z"
   },
   {
    "duration": 20,
    "start_time": "2024-11-15T00:44:58.929Z"
   },
   {
    "duration": 14,
    "start_time": "2024-11-15T00:44:58.951Z"
   },
   {
    "duration": 42,
    "start_time": "2024-11-15T00:44:58.966Z"
   },
   {
    "duration": 18,
    "start_time": "2024-11-15T00:44:59.009Z"
   },
   {
    "duration": 21,
    "start_time": "2024-11-15T00:44:59.029Z"
   },
   {
    "duration": 17,
    "start_time": "2024-11-15T00:44:59.051Z"
   },
   {
    "duration": 236,
    "start_time": "2024-11-15T00:44:59.070Z"
   },
   {
    "duration": 123,
    "start_time": "2024-11-15T00:44:59.308Z"
   },
   {
    "duration": 17,
    "start_time": "2024-11-15T00:44:59.433Z"
   },
   {
    "duration": 93,
    "start_time": "2024-11-15T00:44:59.452Z"
   },
   {
    "duration": 12,
    "start_time": "2024-11-15T00:44:59.546Z"
   },
   {
    "duration": 7,
    "start_time": "2024-11-15T00:44:59.559Z"
   },
   {
    "duration": 7,
    "start_time": "2024-11-15T00:44:59.567Z"
   },
   {
    "duration": 30,
    "start_time": "2024-11-15T00:44:59.575Z"
   },
   {
    "duration": 82,
    "start_time": "2024-11-15T00:44:59.607Z"
   },
   {
    "duration": 12,
    "start_time": "2024-11-15T00:44:59.704Z"
   },
   {
    "duration": 312,
    "start_time": "2024-11-15T00:44:59.718Z"
   },
   {
    "duration": 84,
    "start_time": "2024-11-15T00:45:00.032Z"
   },
   {
    "duration": 104,
    "start_time": "2024-11-15T00:45:00.118Z"
   },
   {
    "duration": 5,
    "start_time": "2024-11-15T00:45:00.224Z"
   },
   {
    "duration": 23,
    "start_time": "2024-11-15T00:45:03.151Z"
   },
   {
    "duration": 6,
    "start_time": "2024-11-15T00:50:00.614Z"
   },
   {
    "duration": 6,
    "start_time": "2024-11-15T00:51:47.570Z"
   },
   {
    "duration": 6,
    "start_time": "2024-11-15T00:58:25.381Z"
   },
   {
    "duration": 6,
    "start_time": "2024-11-15T00:58:30.958Z"
   },
   {
    "duration": 7,
    "start_time": "2024-11-15T00:59:13.757Z"
   },
   {
    "duration": 224,
    "start_time": "2024-11-15T01:02:50.367Z"
   },
   {
    "duration": 10,
    "start_time": "2024-11-16T00:26:28.825Z"
   },
   {
    "duration": 2581,
    "start_time": "2024-11-16T00:26:35.598Z"
   },
   {
    "duration": 238,
    "start_time": "2024-11-16T00:26:38.181Z"
   },
   {
    "duration": 10,
    "start_time": "2024-11-16T00:26:38.421Z"
   },
   {
    "duration": 10,
    "start_time": "2024-11-16T00:26:38.434Z"
   },
   {
    "duration": 5,
    "start_time": "2024-11-16T00:26:38.446Z"
   },
   {
    "duration": 5,
    "start_time": "2024-11-16T00:26:38.453Z"
   },
   {
    "duration": 4,
    "start_time": "2024-11-16T00:26:38.460Z"
   },
   {
    "duration": 7,
    "start_time": "2024-11-16T00:26:38.466Z"
   },
   {
    "duration": 9,
    "start_time": "2024-11-16T00:26:38.474Z"
   },
   {
    "duration": 46,
    "start_time": "2024-11-16T00:26:38.486Z"
   },
   {
    "duration": 6,
    "start_time": "2024-11-16T00:26:38.534Z"
   },
   {
    "duration": 4,
    "start_time": "2024-11-16T00:26:38.542Z"
   },
   {
    "duration": 9,
    "start_time": "2024-11-16T00:26:38.548Z"
   },
   {
    "duration": 8,
    "start_time": "2024-11-16T00:26:38.558Z"
   },
   {
    "duration": 16,
    "start_time": "2024-11-16T00:26:38.568Z"
   },
   {
    "duration": 47,
    "start_time": "2024-11-16T00:26:38.586Z"
   },
   {
    "duration": 12,
    "start_time": "2024-11-16T00:26:38.635Z"
   },
   {
    "duration": 33,
    "start_time": "2024-11-16T00:26:38.649Z"
   },
   {
    "duration": 19,
    "start_time": "2024-11-16T00:26:38.684Z"
   },
   {
    "duration": 37,
    "start_time": "2024-11-16T00:26:38.705Z"
   },
   {
    "duration": 7,
    "start_time": "2024-11-16T00:26:38.744Z"
   },
   {
    "duration": 9,
    "start_time": "2024-11-16T00:26:38.753Z"
   },
   {
    "duration": 16,
    "start_time": "2024-11-16T00:26:38.764Z"
   },
   {
    "duration": 13,
    "start_time": "2024-11-16T00:26:38.782Z"
   },
   {
    "duration": 14,
    "start_time": "2024-11-16T00:26:38.831Z"
   },
   {
    "duration": 7,
    "start_time": "2024-11-16T00:26:38.847Z"
   },
   {
    "duration": 10,
    "start_time": "2024-11-16T00:26:38.855Z"
   },
   {
    "duration": 36,
    "start_time": "2024-11-16T00:26:38.870Z"
   },
   {
    "duration": 15,
    "start_time": "2024-11-16T00:26:38.940Z"
   },
   {
    "duration": 7,
    "start_time": "2024-11-16T00:26:38.957Z"
   },
   {
    "duration": 21,
    "start_time": "2024-11-16T00:26:38.966Z"
   },
   {
    "duration": 22,
    "start_time": "2024-11-16T00:26:38.989Z"
   },
   {
    "duration": 18,
    "start_time": "2024-11-16T00:26:39.031Z"
   },
   {
    "duration": 19,
    "start_time": "2024-11-16T00:26:39.051Z"
   },
   {
    "duration": 18,
    "start_time": "2024-11-16T00:26:39.072Z"
   },
   {
    "duration": 47,
    "start_time": "2024-11-16T00:26:39.092Z"
   },
   {
    "duration": 17,
    "start_time": "2024-11-16T00:26:39.141Z"
   },
   {
    "duration": 250,
    "start_time": "2024-11-16T00:26:39.160Z"
   },
   {
    "duration": 126,
    "start_time": "2024-11-16T00:26:39.411Z"
   },
   {
    "duration": 12,
    "start_time": "2024-11-16T00:26:39.539Z"
   },
   {
    "duration": 100,
    "start_time": "2024-11-16T00:26:39.552Z"
   },
   {
    "duration": 11,
    "start_time": "2024-11-16T00:26:39.654Z"
   },
   {
    "duration": 8,
    "start_time": "2024-11-16T00:26:39.667Z"
   },
   {
    "duration": 8,
    "start_time": "2024-11-16T00:26:39.677Z"
   },
   {
    "duration": 8,
    "start_time": "2024-11-16T00:26:39.687Z"
   },
   {
    "duration": 113,
    "start_time": "2024-11-16T00:26:39.696Z"
   },
   {
    "duration": 24,
    "start_time": "2024-11-16T00:26:39.811Z"
   },
   {
    "duration": 311,
    "start_time": "2024-11-16T00:26:39.837Z"
   },
   {
    "duration": 95,
    "start_time": "2024-11-16T00:26:40.150Z"
   },
   {
    "duration": 110,
    "start_time": "2024-11-16T00:26:40.246Z"
   },
   {
    "duration": 8,
    "start_time": "2024-11-16T00:26:40.358Z"
   },
   {
    "duration": 4,
    "start_time": "2024-11-16T00:26:42.917Z"
   },
   {
    "duration": 6,
    "start_time": "2024-11-16T00:27:22.372Z"
   },
   {
    "duration": 8,
    "start_time": "2024-11-16T00:29:43.207Z"
   },
   {
    "duration": 143,
    "start_time": "2024-11-16T00:32:47.341Z"
   },
   {
    "duration": 495,
    "start_time": "2024-11-16T00:34:12.908Z"
   },
   {
    "duration": 18,
    "start_time": "2024-11-16T00:35:48.009Z"
   },
   {
    "duration": 168,
    "start_time": "2024-11-16T13:25:03.865Z"
   },
   {
    "duration": 2664,
    "start_time": "2024-11-16T13:25:07.385Z"
   },
   {
    "duration": 239,
    "start_time": "2024-11-16T13:25:10.051Z"
   },
   {
    "duration": 9,
    "start_time": "2024-11-16T13:25:10.292Z"
   },
   {
    "duration": 9,
    "start_time": "2024-11-16T13:25:10.304Z"
   },
   {
    "duration": 5,
    "start_time": "2024-11-16T13:25:10.315Z"
   },
   {
    "duration": 4,
    "start_time": "2024-11-16T13:25:10.322Z"
   },
   {
    "duration": 18,
    "start_time": "2024-11-16T13:25:10.328Z"
   },
   {
    "duration": 9,
    "start_time": "2024-11-16T13:25:10.348Z"
   },
   {
    "duration": 9,
    "start_time": "2024-11-16T13:25:10.360Z"
   },
   {
    "duration": 10,
    "start_time": "2024-11-16T13:25:10.373Z"
   },
   {
    "duration": 6,
    "start_time": "2024-11-16T13:25:10.386Z"
   },
   {
    "duration": 5,
    "start_time": "2024-11-16T13:25:10.394Z"
   },
   {
    "duration": 47,
    "start_time": "2024-11-16T13:25:10.401Z"
   },
   {
    "duration": 10,
    "start_time": "2024-11-16T13:25:10.450Z"
   },
   {
    "duration": 20,
    "start_time": "2024-11-16T13:25:10.462Z"
   },
   {
    "duration": 19,
    "start_time": "2024-11-16T13:25:10.486Z"
   },
   {
    "duration": 15,
    "start_time": "2024-11-16T13:25:10.507Z"
   },
   {
    "duration": 44,
    "start_time": "2024-11-16T13:25:10.543Z"
   },
   {
    "duration": 19,
    "start_time": "2024-11-16T13:25:10.590Z"
   },
   {
    "duration": 12,
    "start_time": "2024-11-16T13:25:10.611Z"
   },
   {
    "duration": 27,
    "start_time": "2024-11-16T13:25:10.624Z"
   },
   {
    "duration": 17,
    "start_time": "2024-11-16T13:25:10.652Z"
   },
   {
    "duration": 19,
    "start_time": "2024-11-16T13:25:10.672Z"
   },
   {
    "duration": 12,
    "start_time": "2024-11-16T13:25:10.693Z"
   },
   {
    "duration": 14,
    "start_time": "2024-11-16T13:25:10.708Z"
   },
   {
    "duration": 24,
    "start_time": "2024-11-16T13:25:10.724Z"
   },
   {
    "duration": 20,
    "start_time": "2024-11-16T13:25:10.750Z"
   },
   {
    "duration": 40,
    "start_time": "2024-11-16T13:25:10.775Z"
   },
   {
    "duration": 32,
    "start_time": "2024-11-16T13:25:10.816Z"
   },
   {
    "duration": 13,
    "start_time": "2024-11-16T13:25:10.850Z"
   },
   {
    "duration": 27,
    "start_time": "2024-11-16T13:25:10.865Z"
   },
   {
    "duration": 22,
    "start_time": "2024-11-16T13:25:10.894Z"
   },
   {
    "duration": 36,
    "start_time": "2024-11-16T13:25:10.917Z"
   },
   {
    "duration": 26,
    "start_time": "2024-11-16T13:25:10.957Z"
   },
   {
    "duration": 19,
    "start_time": "2024-11-16T13:25:10.985Z"
   },
   {
    "duration": 53,
    "start_time": "2024-11-16T13:25:11.006Z"
   },
   {
    "duration": 23,
    "start_time": "2024-11-16T13:25:11.067Z"
   },
   {
    "duration": 330,
    "start_time": "2024-11-16T13:25:11.092Z"
   },
   {
    "duration": 150,
    "start_time": "2024-11-16T13:25:11.424Z"
   },
   {
    "duration": 14,
    "start_time": "2024-11-16T13:25:11.577Z"
   },
   {
    "duration": 108,
    "start_time": "2024-11-16T13:25:11.592Z"
   },
   {
    "duration": 11,
    "start_time": "2024-11-16T13:25:11.703Z"
   },
   {
    "duration": 9,
    "start_time": "2024-11-16T13:25:18.736Z"
   },
   {
    "duration": 10,
    "start_time": "2024-11-16T13:26:26.257Z"
   },
   {
    "duration": 76,
    "start_time": "2024-11-16T13:27:50.261Z"
   },
   {
    "duration": 93,
    "start_time": "2024-11-16T13:45:37.010Z"
   },
   {
    "duration": 113,
    "start_time": "2024-11-16T13:48:05.906Z"
   },
   {
    "duration": 106,
    "start_time": "2024-11-16T13:49:13.658Z"
   },
   {
    "duration": 112,
    "start_time": "2024-11-16T13:52:12.308Z"
   },
   {
    "duration": 397,
    "start_time": "2024-11-16T13:52:43.968Z"
   },
   {
    "duration": 157,
    "start_time": "2024-11-18T00:12:25.012Z"
   },
   {
    "duration": 2534,
    "start_time": "2024-11-18T00:12:35.930Z"
   },
   {
    "duration": 210,
    "start_time": "2024-11-18T00:12:38.466Z"
   },
   {
    "duration": 9,
    "start_time": "2024-11-18T00:12:38.678Z"
   },
   {
    "duration": 9,
    "start_time": "2024-11-18T00:12:38.690Z"
   },
   {
    "duration": 5,
    "start_time": "2024-11-18T00:12:38.701Z"
   },
   {
    "duration": 4,
    "start_time": "2024-11-18T00:12:38.708Z"
   },
   {
    "duration": 4,
    "start_time": "2024-11-18T00:12:38.714Z"
   },
   {
    "duration": 6,
    "start_time": "2024-11-18T00:12:38.720Z"
   },
   {
    "duration": 41,
    "start_time": "2024-11-18T00:12:38.728Z"
   },
   {
    "duration": 9,
    "start_time": "2024-11-18T00:12:38.772Z"
   },
   {
    "duration": 6,
    "start_time": "2024-11-18T00:12:38.782Z"
   },
   {
    "duration": 5,
    "start_time": "2024-11-18T00:12:38.789Z"
   },
   {
    "duration": 8,
    "start_time": "2024-11-18T00:12:38.795Z"
   },
   {
    "duration": 8,
    "start_time": "2024-11-18T00:12:38.805Z"
   },
   {
    "duration": 14,
    "start_time": "2024-11-18T00:12:38.815Z"
   },
   {
    "duration": 48,
    "start_time": "2024-11-18T00:12:38.831Z"
   },
   {
    "duration": 12,
    "start_time": "2024-11-18T00:12:38.880Z"
   },
   {
    "duration": 31,
    "start_time": "2024-11-18T00:12:38.893Z"
   },
   {
    "duration": 44,
    "start_time": "2024-11-18T00:12:38.926Z"
   },
   {
    "duration": 12,
    "start_time": "2024-11-18T00:12:38.973Z"
   },
   {
    "duration": 7,
    "start_time": "2024-11-18T00:12:38.987Z"
   },
   {
    "duration": 8,
    "start_time": "2024-11-18T00:12:38.995Z"
   },
   {
    "duration": 15,
    "start_time": "2024-11-18T00:12:39.005Z"
   },
   {
    "duration": 11,
    "start_time": "2024-11-18T00:12:39.022Z"
   },
   {
    "duration": 45,
    "start_time": "2024-11-18T00:12:39.035Z"
   },
   {
    "duration": 6,
    "start_time": "2024-11-18T00:12:39.081Z"
   },
   {
    "duration": 10,
    "start_time": "2024-11-18T00:12:39.089Z"
   },
   {
    "duration": 32,
    "start_time": "2024-11-18T00:12:39.103Z"
   },
   {
    "duration": 38,
    "start_time": "2024-11-18T00:12:39.137Z"
   },
   {
    "duration": 8,
    "start_time": "2024-11-18T00:12:39.177Z"
   },
   {
    "duration": 20,
    "start_time": "2024-11-18T00:12:39.187Z"
   },
   {
    "duration": 20,
    "start_time": "2024-11-18T00:12:39.209Z"
   },
   {
    "duration": 39,
    "start_time": "2024-11-18T00:12:39.231Z"
   },
   {
    "duration": 18,
    "start_time": "2024-11-18T00:12:39.272Z"
   },
   {
    "duration": 19,
    "start_time": "2024-11-18T00:12:44.266Z"
   },
   {
    "duration": 22,
    "start_time": "2024-11-18T00:17:04.920Z"
   },
   {
    "duration": 75,
    "start_time": "2024-11-18T00:21:37.710Z"
   },
   {
    "duration": 194,
    "start_time": "2024-11-18T00:22:51.362Z"
   },
   {
    "duration": 2624,
    "start_time": "2024-11-18T12:16:33.315Z"
   },
   {
    "duration": 211,
    "start_time": "2024-11-18T12:16:35.941Z"
   },
   {
    "duration": 9,
    "start_time": "2024-11-18T12:16:36.154Z"
   },
   {
    "duration": 9,
    "start_time": "2024-11-18T12:16:36.166Z"
   },
   {
    "duration": 5,
    "start_time": "2024-11-18T12:16:36.177Z"
   },
   {
    "duration": 5,
    "start_time": "2024-11-18T12:16:36.184Z"
   },
   {
    "duration": 25,
    "start_time": "2024-11-18T12:16:36.190Z"
   },
   {
    "duration": 7,
    "start_time": "2024-11-18T12:16:36.217Z"
   },
   {
    "duration": 8,
    "start_time": "2024-11-18T12:16:36.226Z"
   },
   {
    "duration": 8,
    "start_time": "2024-11-18T12:16:36.238Z"
   },
   {
    "duration": 5,
    "start_time": "2024-11-18T12:16:36.248Z"
   },
   {
    "duration": 6,
    "start_time": "2024-11-18T12:16:36.254Z"
   },
   {
    "duration": 8,
    "start_time": "2024-11-18T12:16:36.261Z"
   },
   {
    "duration": 48,
    "start_time": "2024-11-18T12:16:36.270Z"
   },
   {
    "duration": 14,
    "start_time": "2024-11-18T12:16:36.320Z"
   },
   {
    "duration": 9,
    "start_time": "2024-11-18T12:16:36.336Z"
   },
   {
    "duration": 12,
    "start_time": "2024-11-18T12:16:36.347Z"
   },
   {
    "duration": 62,
    "start_time": "2024-11-18T12:16:36.361Z"
   },
   {
    "duration": 19,
    "start_time": "2024-11-18T12:16:36.425Z"
   },
   {
    "duration": 12,
    "start_time": "2024-11-18T12:16:36.445Z"
   },
   {
    "duration": 8,
    "start_time": "2024-11-18T12:16:36.458Z"
   },
   {
    "duration": 9,
    "start_time": "2024-11-18T12:16:36.467Z"
   },
   {
    "duration": 45,
    "start_time": "2024-11-18T12:16:36.478Z"
   },
   {
    "duration": 13,
    "start_time": "2024-11-18T12:16:36.524Z"
   },
   {
    "duration": 13,
    "start_time": "2024-11-18T12:16:36.539Z"
   },
   {
    "duration": 6,
    "start_time": "2024-11-18T12:16:36.554Z"
   },
   {
    "duration": 10,
    "start_time": "2024-11-18T12:16:36.562Z"
   },
   {
    "duration": 71,
    "start_time": "2024-11-18T12:16:36.576Z"
   },
   {
    "duration": 15,
    "start_time": "2024-11-18T12:16:36.648Z"
   },
   {
    "duration": 7,
    "start_time": "2024-11-18T12:16:36.665Z"
   },
   {
    "duration": 46,
    "start_time": "2024-11-18T12:16:36.674Z"
   },
   {
    "duration": 21,
    "start_time": "2024-11-18T12:16:36.722Z"
   },
   {
    "duration": 15,
    "start_time": "2024-11-18T12:16:36.744Z"
   },
   {
    "duration": 18,
    "start_time": "2024-11-18T12:16:36.760Z"
   },
   {
    "duration": 43,
    "start_time": "2024-11-18T12:16:36.781Z"
   },
   {
    "duration": 21,
    "start_time": "2024-11-18T12:16:36.826Z"
   },
   {
    "duration": 16,
    "start_time": "2024-11-18T12:16:36.849Z"
   },
   {
    "duration": 257,
    "start_time": "2024-11-18T12:16:36.866Z"
   },
   {
    "duration": 117,
    "start_time": "2024-11-18T12:16:37.125Z"
   },
   {
    "duration": 12,
    "start_time": "2024-11-18T12:16:37.244Z"
   },
   {
    "duration": 356,
    "start_time": "2024-11-18T12:16:37.258Z"
   },
   {
    "duration": 197,
    "start_time": "2024-11-18T12:16:37.616Z"
   },
   {
    "duration": 10,
    "start_time": "2024-11-18T12:16:37.814Z"
   },
   {
    "duration": 4,
    "start_time": "2024-11-18T12:16:37.826Z"
   },
   {
    "duration": 0,
    "start_time": "2024-11-18T12:16:37.832Z"
   },
   {
    "duration": 0,
    "start_time": "2024-11-18T12:16:37.833Z"
   },
   {
    "duration": 0,
    "start_time": "2024-11-18T12:16:37.835Z"
   },
   {
    "duration": 0,
    "start_time": "2024-11-18T12:16:37.836Z"
   },
   {
    "duration": 0,
    "start_time": "2024-11-18T12:16:37.837Z"
   },
   {
    "duration": 0,
    "start_time": "2024-11-18T12:16:37.839Z"
   },
   {
    "duration": 0,
    "start_time": "2024-11-18T12:16:37.840Z"
   },
   {
    "duration": 0,
    "start_time": "2024-11-18T12:16:37.841Z"
   },
   {
    "duration": 0,
    "start_time": "2024-11-18T12:16:37.842Z"
   },
   {
    "duration": 149,
    "start_time": "2024-11-18T12:18:09.197Z"
   },
   {
    "duration": 8,
    "start_time": "2024-11-18T12:18:10.754Z"
   },
   {
    "duration": 9,
    "start_time": "2024-11-18T12:18:10.890Z"
   },
   {
    "duration": 98,
    "start_time": "2024-11-18T12:18:10.986Z"
   },
   {
    "duration": 12,
    "start_time": "2024-11-18T12:18:13.602Z"
   },
   {
    "duration": 217,
    "start_time": "2024-11-18T12:18:13.773Z"
   },
   {
    "duration": 88,
    "start_time": "2024-11-18T12:18:13.993Z"
   },
   {
    "duration": 94,
    "start_time": "2024-11-18T12:18:14.113Z"
   },
   {
    "duration": 8,
    "start_time": "2024-11-18T12:18:14.737Z"
   },
   {
    "duration": 17,
    "start_time": "2024-11-18T12:18:15.011Z"
   }
  ],
  "colab": {
   "provenance": []
  },
  "kernelspec": {
   "display_name": "Python 3",
   "language": "python",
   "name": "python3"
  },
  "language_info": {
   "codemirror_mode": {
    "name": "ipython",
    "version": 3
   },
   "file_extension": ".py",
   "mimetype": "text/x-python",
   "name": "python",
   "nbconvert_exporter": "python",
   "pygments_lexer": "ipython3",
   "version": "3.13.5"
  },
  "toc": {
   "base_numbering": 1,
   "nav_menu": {},
   "number_sections": true,
   "sideBar": true,
   "skip_h1_title": false,
   "title_cell": "Table of Contents",
   "title_sidebar": "Contents",
   "toc_cell": false,
   "toc_position": {},
   "toc_section_display": true,
   "toc_window_display": true
  }
 },
 "nbformat": 4,
 "nbformat_minor": 1
}
