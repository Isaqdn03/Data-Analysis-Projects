{
 "cells": [
  {
   "cell_type": "markdown",
   "metadata": {
    "vscode": {
     "languageId": "plaintext"
    }
   },
   "source": [
    "# A/B Test Project Decomposition\n",
    "## Project Overview\n",
    "Detailed step-by-step analysis of the recommendation system A/B test for an international online store.\n",
    "\n",
    "---"
   ]
  },
  {
   "cell_type": "markdown",
   "metadata": {},
   "source": [
    "## 1. Objectives and Context Definition"
   ]
  },
  {
   "cell_type": "markdown",
   "metadata": {},
   "source": [
    "### 1.1 Document Project Context\n",
    "**Action**: Review and document test specifications\n",
    "- Test: `recommender_system_test` (Dec 7-21, 2020 acquisition, ends Jan 1, 2021)\n",
    "- Groups: A (control) vs B (new recommendation system)\n",
    "- Target: 15% EU users, 6,000 participants expected\n",
    "- Success criteria: 10% improvement in `product_page` → `product_cart` → `purchase` funnel\n",
    "\n",
    "### 1.2 Formulate Hypotheses\n",
    "**Action**: Define statistical framework\n",
    "- H0: No difference in conversion rates between groups\n",
    "- H1: Group B shows ≥10% improvement in each funnel stage\n",
    "- Statistical parameters: α = 0.05, two-proportion z-tests\n",
    "\n",
    "---"
   ]
  },
  {
   "cell_type": "markdown",
   "metadata": {},
   "source": [
    "## 2. Data Loading and Inspection"
   ]
  },
  {
   "cell_type": "markdown",
   "metadata": {},
   "source": [
    "### 2.1 Load and Verify Datasets\n",
    "**Action**: Import libraries and load all datasets\n",
    "- Load 4 CSV files: marketing events, new users, events, participants\n",
    "- Use pandas, numpy, matplotlib, seaborn, scipy.stats\n",
    "- Verify successful loading with `.info()`, `.shape`, `.head()`\n",
    "\n",
    "### 2.2 Data Structure Analysis\n",
    "**Action**: Examine dataset relationships and quality\n",
    "- Map user_id relationships between tables\n",
    "- Check data types and identify conversion needs\n",
    "- Assess initial data quality (nulls, duplicates, outliers)\n",
    "\n",
    "---"
   ]
  },
  {
   "cell_type": "markdown",
   "metadata": {},
   "source": [
    "## 3. Data Cleaning and Preparation"
   ]
  },
  {
   "cell_type": "markdown",
   "metadata": {},
   "source": [
    "### 3.1 Quality Issues Resolution\n",
    "**Action**: Handle missing values, duplicates, and inconsistencies\n",
    "- Treat null values and remove duplicates appropriately\n",
    "- Convert date columns to datetime format\n",
    "- Standardize user_id formats across tables\n",
    "- Filter to test period and EU region only\n",
    "\n",
    "### 3.2 Data Integration\n",
    "**Action**: Prepare integrated dataset for analysis\n",
    "- Merge participants with user demographics\n",
    "- Join events with group assignments\n",
    "- Create user-level conversion indicators\n",
    "- Validate cross-table integrity\n",
    "\n",
    "---"
   ]
  },
  {
   "cell_type": "markdown",
   "metadata": {},
   "source": [
    "## 4. Exploratory Data Analysis"
   ]
  },
  {
   "cell_type": "markdown",
   "metadata": {},
   "source": [
    "### 4.1 Group Balance Verification\n",
    "**Action**: Verify randomization effectiveness\n",
    "- Compare group sizes and demographic distributions\n",
    "- Test balance using chi-square tests for categorical variables\n",
    "- Check registration timing consistency between groups\n",
    "\n",
    "### 4.2 Conversion Funnel Analysis\n",
    "**Action**: Calculate baseline conversion metrics\n",
    "- Count users at each stage: product_page, product_cart, purchase\n",
    "- Calculate conversion rates for each funnel step\n",
    "- Compare Group A vs Group B performance at each stage\n",
    "- Create funnel visualizations\n",
    "\n",
    "### 4.3 Temporal and Behavioral Patterns\n",
    "**Action**: Analyze user behavior and external factors\n",
    "- Examine daily event patterns and identify anomalies\n",
    "- Check marketing events impact during test period\n",
    "- Analyze user engagement levels and journey patterns\n",
    "\n",
    "---"
   ]
  },
  {
   "cell_type": "markdown",
   "metadata": {},
   "source": [
    "## 5. Statistical Testing Setup Validation"
   ]
  },
  {
   "cell_type": "markdown",
   "metadata": {},
   "source": [
    "### 5.1 Test Conditions Verification\n",
    "**Action**: Ensure valid A/B test conditions\n",
    "- Verify adequate sample sizes for statistical power\n",
    "- Check for external events that could confound results\n",
    "- Validate that both groups experienced same conditions\n",
    "- Document any limitations or biases\n",
    "\n",
    "---"
   ]
  },
  {
   "cell_type": "markdown",
   "metadata": {},
   "source": [
    "## 6. Statistical Hypothesis Testing"
   ]
  },
  {
   "cell_type": "markdown",
   "metadata": {},
   "source": [
    "### 6.1 Conversion Rate Testing\n",
    "**Action**: Perform z-tests for each funnel stage\n",
    "- Create user-level conversion table with group assignments\n",
    "- Execute two-proportion z-tests for each conversion metric\n",
    "- Calculate p-values, confidence intervals, and effect sizes\n",
    "- Test: product page, cart addition, and purchase conversions\n",
    "\n",
    "### 6.2 Business Impact Analysis\n",
    "**Action**: Translate statistical results to business terms\n",
    "- Calculate percentage improvements vs 10% target\n",
    "- Estimate revenue impact of observed improvements\n",
    "- Assess practical significance beyond statistical significance\n",
    "- Formulate implementation recommendation\n",
    "\n",
    "---"
   ]
  },
  {
   "cell_type": "markdown",
   "metadata": {},
   "source": [
    "## 7. Results Interpretation and Recommendations"
   ]
  },
  {
   "cell_type": "markdown",
   "metadata": {},
   "source": [
    "### 7.1 Comprehensive Results Synthesis\n",
    "**Action**: Consolidate findings and formulate strategy\n",
    "- Summarize statistical significance across all metrics\n",
    "- Compare results with original 10% improvement goal\n",
    "- Provide clear go/no-go recommendation with rationale\n",
    "- Define implementation approach and monitoring plan\n",
    "\n",
    "### 7.2 Limitations and Future Considerations\n",
    "**Action**: Document study constraints and next steps\n",
    "- Note data limitations and external factors\n",
    "- Suggest improvements for future tests\n",
    "- Define success metrics for implementation monitoring\n",
    "\n",
    "---"
   ]
  },
  {
   "cell_type": "markdown",
   "metadata": {},
   "source": [
    "## 8. Final Documentation"
   ]
  },
  {
   "cell_type": "markdown",
   "metadata": {},
   "source": [
    "### 8.1 Professional Deliverable Creation\n",
    "**Action**: Finalize analysis documentation\n",
    "- Review all calculations and ensure reproducibility\n",
    "- Create executive summary with key findings\n",
    "- Format visualizations and tables professionally\n",
    "- Prepare comprehensive deliverables package\n",
    "\n",
    "---"
   ]
  },
  {
   "cell_type": "markdown",
   "metadata": {},
   "source": [
    "<div style=\"background-color: yellow; padding: 10px; border-radius: 4px;\">\n",
    "  \n",
    "## - 1a Revisão do Bruno\n",
    "\n",
    "Isaque, aqui na decomposição você deve detalhar o passo a passo das atividades que vai desenvolver em um projeto de análise de dados e não somente trazer os tópicos em markdown.Sugiro usar o projeto de teste A/B, que será a próxima etapa aqui do projeto final, como referência. Segue um notion para te ajudar nas orientações aqui do projeto final:\n",
    "\n",
    "https://coding-bootcamps.notion.site/DA-Projeto-Final-13d6ed1efc938026b8fae7c4797dab17\n",
    "\n",
    "E reforçando as etapas do projeto final:\n",
    "\n",
    "São basicamente etapas:\n",
    "1)  Projeto decomposição (você está aqui) - seguir pela plataforma e fazer a primeira tarefa que a de decomposição, ela tá detalhada no notion. depois você envia e eu reviso e dando certo passa pro passo 2. A decomposição pode ser em cima de qualquer projeto de análise de dados, mas sugiro em cima dos dados do projeto de teste AB pra botar a mão na massa depois\n",
    "2) Projeto teste A/B - tá no notion também. tudo ok passa pro 3\n",
    "3) projeto de SQL - conectar ao banco do projeto, instruções disponíveis na plataforma. tarefas e descrição do banco detalhadas no notion.\n",
    "4)  projeto tableau (opcional, mas recomendo) - dashboard no tableau public\n",
    "5) conclusão - subir no Google drive todos os projetos juntos"
   ]
  }
 ],
 "metadata": {
  "language_info": {
   "name": "python"
  }
 },
 "nbformat": 4,
 "nbformat_minor": 2
}
