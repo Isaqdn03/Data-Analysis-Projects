{
 "cells": [
  {
   "cell_type": "markdown",
   "metadata": {},
   "source": [
    "# Recommender System Test"
   ]
  },
  {
   "cell_type": "markdown",
   "metadata": {},
   "source": [
    "## 1. Objectives and Context Definition"
   ]
  },
  {
   "cell_type": "markdown",
   "metadata": {},
   "source": [
    "### 1.1 Project Context"
   ]
  },
  {
   "cell_type": "markdown",
   "metadata": {},
   "source": [
    "**Test Overview:** A/B test evaluation of a new recommendation system for an online store\n",
    "\n",
    "**Test Details:**\n",
    "- **Period**: December 7-21, 2020 (acquisition) through January 1, 2021\n",
    "- **Groups**: A (Control) vs B (Recommendation System)\n",
    "- **Users**: 11,498 participants (US market)\n",
    "\n",
    "**Success Criteria:** ≥10% improvement in all conversion rates:\n",
    "- Product page engagement\n",
    "- Cart additions  \n",
    "- Purchase conversions"
   ]
  },
  {
   "cell_type": "markdown",
   "metadata": {},
   "source": [
    "### 1.2 Hypotheses"
   ]
  },
  {
   "cell_type": "markdown",
   "metadata": {},
   "source": [
    "**H₀**: No difference in conversion rates between groups (p_A = p_B)\n",
    "\n",
    "**H₁**: Group B shows significant improvement (p_B > p_A)\n",
    "\n",
    "**Statistical Framework:**\n",
    "- Significance level: α = 0.05\n",
    "- Method: Two-proportion z-tests\n",
    "- Decision: Implement if all metrics show ≥10% improvement"
   ]
  },
  {
   "cell_type": "markdown",
   "metadata": {},
   "source": [
    "## 2. Data Loading and Inspection"
   ]
  },
  {
   "cell_type": "markdown",
   "metadata": {},
   "source": [
    "### 2.1 Load and Verify Datasets"
   ]
  },
  {
   "cell_type": "code",
   "execution_count": 1,
   "metadata": {},
   "outputs": [],
   "source": [
    "# Essential libraries\n",
    "import numpy as np\n",
    "import pandas as pd\n",
    "import matplotlib.pyplot as plt\n",
    "import seaborn as sns\n",
    "from datetime import datetime\n",
    "\n",
    "# Configure visualization settings\n",
    "plt.style.use('ggplot')\n",
    "sns.set_context(\"notebook\", font_scale=1.2)\n",
    "%matplotlib inline\n",
    "\n",
    "# Load datasets \n",
    "marketing_events = pd.read_csv('ab_project_marketing_events_us.txt', sep=',')\n",
    "users_registration = pd.read_csv('final_ab_participants_upd_us.txt', sep=',')\n",
    "users_events = pd.read_csv('final_ab_events_upd_us.txt', sep=',')\n",
    "test_participants = pd.read_csv('final_ab_participants_upd_us.txt', sep=',')\n"
   ]
  },
  {
   "cell_type": "code",
   "execution_count": 2,
   "metadata": {},
   "outputs": [
    {
     "name": "stdout",
     "output_type": "stream",
     "text": [
      "=== MARKETING EVENTS DATASET ===\n",
      "Shape: (14, 4)\n",
      "\n",
      "Dataset Info:\n",
      "<class 'pandas.core.frame.DataFrame'>\n",
      "RangeIndex: 14 entries, 0 to 13\n",
      "Data columns (total 4 columns):\n",
      " #   Column     Non-Null Count  Dtype \n",
      "---  ------     --------------  ----- \n",
      " 0   name       14 non-null     object\n",
      " 1   regions    14 non-null     object\n",
      " 2   start_dt   14 non-null     object\n",
      " 3   finish_dt  14 non-null     object\n",
      "dtypes: object(4)\n",
      "memory usage: 580.0+ bytes\n",
      "\n",
      "First 5 rows:\n",
      "                           name                   regions    start_dt  \\\n",
      "0      Christmas&New Year Promo             EU, N.America  2020-12-25   \n",
      "1  St. Valentine's Day Giveaway  EU, CIS, APAC, N.America  2020-02-14   \n",
      "2        St. Patric's Day Promo             EU, N.America  2020-03-17   \n",
      "3                  Easter Promo  EU, CIS, APAC, N.America  2020-04-12   \n",
      "4             4th of July Promo                 N.America  2020-07-04   \n",
      "\n",
      "    finish_dt  \n",
      "0  2021-01-03  \n",
      "1  2020-02-16  \n",
      "2  2020-03-19  \n",
      "3  2020-04-19  \n",
      "4  2020-07-11  \n",
      "\n",
      "==================================================\n",
      "=== USERS REGISTRATION DATASET ===\n",
      "Shape: (14525, 3)\n",
      "\n",
      "Dataset Info:\n",
      "<class 'pandas.core.frame.DataFrame'>\n",
      "RangeIndex: 14525 entries, 0 to 14524\n",
      "Data columns (total 3 columns):\n",
      " #   Column   Non-Null Count  Dtype \n",
      "---  ------   --------------  ----- \n",
      " 0   user_id  14525 non-null  object\n",
      " 1   group    14525 non-null  object\n",
      " 2   ab_test  14525 non-null  object\n",
      "dtypes: object(3)\n",
      "memory usage: 340.6+ KB\n",
      "\n",
      "First 5 rows:\n",
      "            user_id group                  ab_test\n",
      "0  D1ABA3E2887B6A73     A  recommender_system_test\n",
      "1  A7A3664BD6242119     A  recommender_system_test\n",
      "2  DABC14FDDFADD29E     A  recommender_system_test\n",
      "3  04988C5DF189632E     A  recommender_system_test\n",
      "4  4FF2998A348C484F     A  recommender_system_test\n",
      "\n",
      "==================================================\n",
      "=== USERS EVENTS DATASET ===\n",
      "Shape: (423761, 4)\n",
      "\n",
      "Dataset Info:\n",
      "<class 'pandas.core.frame.DataFrame'>\n",
      "RangeIndex: 423761 entries, 0 to 423760\n",
      "Data columns (total 4 columns):\n",
      " #   Column      Non-Null Count   Dtype  \n",
      "---  ------      --------------   -----  \n",
      " 0   user_id     423761 non-null  object \n",
      " 1   event_dt    423761 non-null  object \n",
      " 2   event_name  423761 non-null  object \n",
      " 3   details     60314 non-null   float64\n",
      "dtypes: float64(1), object(3)\n",
      "memory usage: 12.9+ MB\n",
      "\n",
      "First 5 rows:\n",
      "            user_id             event_dt event_name  details\n",
      "0  E1BDDCE0DAFA2679  2020-12-07 20:22:03   purchase    99.99\n",
      "1  7B6452F081F49504  2020-12-07 09:22:53   purchase     9.99\n",
      "2  9CD9F34546DF254C  2020-12-07 12:59:29   purchase     4.99\n",
      "3  96F27A054B191457  2020-12-07 04:02:40   purchase     4.99\n",
      "4  1FD7660FDF94CA1F  2020-12-07 10:15:09   purchase     4.99\n",
      "\n",
      "==================================================\n",
      "=== TEST PARTICIPANTS DATASET ===\n",
      "Shape: (14525, 3)\n",
      "\n",
      "Dataset Info:\n",
      "<class 'pandas.core.frame.DataFrame'>\n",
      "RangeIndex: 14525 entries, 0 to 14524\n",
      "Data columns (total 3 columns):\n",
      " #   Column   Non-Null Count  Dtype \n",
      "---  ------   --------------  ----- \n",
      " 0   user_id  14525 non-null  object\n",
      " 1   group    14525 non-null  object\n",
      " 2   ab_test  14525 non-null  object\n",
      "dtypes: object(3)\n",
      "memory usage: 340.6+ KB\n",
      "\n",
      "First 5 rows:\n",
      "            user_id group                  ab_test\n",
      "0  D1ABA3E2887B6A73     A  recommender_system_test\n",
      "1  A7A3664BD6242119     A  recommender_system_test\n",
      "2  DABC14FDDFADD29E     A  recommender_system_test\n",
      "3  04988C5DF189632E     A  recommender_system_test\n",
      "4  4FF2998A348C484F     A  recommender_system_test\n"
     ]
    }
   ],
   "source": [
    "#verify the datasets\n",
    "\n",
    "print(\"=== MARKETING EVENTS DATASET ===\")\n",
    "print(f\"Shape: {marketing_events.shape}\")\n",
    "print(\"\\nDataset Info:\")\n",
    "marketing_events.info()\n",
    "print(\"\\nFirst 5 rows:\")\n",
    "print(marketing_events.head())\n",
    "\n",
    "print(\"\\n\" + \"=\"*50)\n",
    "print(\"=== USERS REGISTRATION DATASET ===\")\n",
    "print(f\"Shape: {users_registration.shape}\")\n",
    "print(\"\\nDataset Info:\")\n",
    "users_registration.info()\n",
    "print(\"\\nFirst 5 rows:\")\n",
    "print(users_registration.head())\n",
    "\n",
    "print(\"\\n\" + \"=\"*50)\n",
    "print(\"=== USERS EVENTS DATASET ===\")\n",
    "print(f\"Shape: {users_events.shape}\")\n",
    "print(\"\\nDataset Info:\")\n",
    "users_events.info()\n",
    "print(\"\\nFirst 5 rows:\")\n",
    "print(users_events.head())\n",
    "\n",
    "print(\"\\n\" + \"=\"*50)\n",
    "print(\"=== TEST PARTICIPANTS DATASET ===\")\n",
    "print(f\"Shape: {test_participants.shape}\")\n",
    "print(\"\\nDataset Info:\")\n",
    "test_participants.info()\n",
    "print(\"\\nFirst 5 rows:\")\n",
    "print(test_participants.head())\n",
    "\n"
   ]
  },
  {
   "cell_type": "markdown",
   "metadata": {},
   "source": [
    "### 2.2 Data Structure Analysis"
   ]
  },
  {
   "cell_type": "markdown",
   "metadata": {},
   "source": [
    "#### Data Types Check"
   ]
  },
  {
   "cell_type": "code",
   "execution_count": 3,
   "metadata": {},
   "outputs": [
    {
     "name": "stdout",
     "output_type": "stream",
     "text": [
      "Data types in each dataset:\n",
      "\n",
      "Marketing Events:\n",
      "name         object\n",
      "regions      object\n",
      "start_dt     object\n",
      "finish_dt    object\n",
      "dtype: object\n",
      "\n",
      "Users Registration:\n",
      "user_id    object\n",
      "group      object\n",
      "ab_test    object\n",
      "dtype: object\n",
      "\n",
      "Users Events:\n",
      "user_id        object\n",
      "event_dt       object\n",
      "event_name     object\n",
      "details       float64\n",
      "dtype: object\n",
      "\n",
      "Test Participants:\n",
      "user_id    object\n",
      "group      object\n",
      "ab_test    object\n",
      "dtype: object\n"
     ]
    }
   ],
   "source": [
    "# Examine dataset relationships and quality\n",
    "# Check data types and identify conversion needs\n",
    "\n",
    "# Display data types for each dataset and identify potential conversion needs\n",
    "print(\"Data types in each dataset:\")\n",
    "print(\"\\nMarketing Events:\")\n",
    "print(marketing_events.dtypes)\n",
    "\n",
    "print(\"\\nUsers Registration:\")\n",
    "print(users_registration.dtypes)\n",
    "\n",
    "print(\"\\nUsers Events:\")\n",
    "print(users_events.dtypes)\n",
    "\n",
    "print(\"\\nTest Participants:\")\n",
    "print(test_participants.dtypes)"
   ]
  },
  {
   "cell_type": "markdown",
   "metadata": {},
   "source": [
    "##### Data Type Analysis and Conversion Requirements\n",
    " \n",
    " Based on the data types output, the following columns need conversion:\n",
    " \n",
    " **Marketing Events:**\n",
    " - `start_dt`: object → datetime (date column)\n",
    " - `finish_dt`: object → datetime (date column)\n",
    " \n",
    " **Users Registration:**\n",
    " - No datetime columns present in this dataset\n",
    " \n",
    " **Users Events:**\n",
    " - `event_dt`: object → datetime (timestamp column)\n",
    " \n",
    " **Test Participants:**\n",
    " - No datetime columns present in this dataset\n",
    " \n",
    " The `details` column in Users Events is already numeric (float64), so no conversion needed.\n"
   ]
  },
  {
   "cell_type": "markdown",
   "metadata": {},
   "source": [
    "#### Data Type Conversions"
   ]
  },
  {
   "cell_type": "code",
   "execution_count": 4,
   "metadata": {},
   "outputs": [
    {
     "name": "stdout",
     "output_type": "stream",
     "text": [
      "Converting Marketing Events date columns...\n",
      "\n",
      "Converting Users Events timestamp column...\n",
      "\n",
      "=== VERIFICATION OF CONVERSIONS ===\n",
      "\n",
      "Marketing Events data types after conversion:\n",
      "name                 object\n",
      "regions              object\n",
      "start_dt     datetime64[ns]\n",
      "finish_dt    datetime64[ns]\n",
      "dtype: object\n",
      "\n",
      "Users Events data types after conversion:\n",
      "user_id               object\n",
      "event_dt      datetime64[ns]\n",
      "event_name            object\n",
      "details              float64\n",
      "dtype: object\n",
      "\n",
      "=== SAMPLE OF CONVERTED DATA ===\n",
      "\n",
      "Marketing Events sample:\n",
      "    start_dt  finish_dt\n",
      "0 2020-12-25 2021-01-03\n",
      "1 2020-02-14 2020-02-16\n",
      "2 2020-03-17 2020-03-19\n",
      "3 2020-04-12 2020-04-19\n",
      "4 2020-07-04 2020-07-11\n",
      "\n",
      "Users Events sample:\n",
      "             event_dt\n",
      "0 2020-12-07 20:22:03\n",
      "1 2020-12-07 09:22:53\n",
      "2 2020-12-07 12:59:29\n",
      "3 2020-12-07 04:02:40\n",
      "4 2020-12-07 10:15:09\n"
     ]
    }
   ],
   "source": [
    "# Data Type Conversions\n",
    "# Convert date columns from object to datetime format\n",
    "\n",
    "# 1. Marketing Events - Convert date columns\n",
    "print(\"Converting Marketing Events date columns...\")\n",
    "marketing_events['start_dt'] = pd.to_datetime(marketing_events['start_dt'])\n",
    "marketing_events['finish_dt'] = pd.to_datetime(marketing_events['finish_dt'])\n",
    "\n",
    "# 2. Users Events - Convert event timestamp\n",
    "print(\"\\nConverting Users Events timestamp column...\")\n",
    "users_events['event_dt'] = pd.to_datetime(users_events['event_dt'])\n",
    "\n",
    "# Verify conversions\n",
    "print(\"\\n=== VERIFICATION OF CONVERSIONS ===\")\n",
    "print(\"\\nMarketing Events data types after conversion:\")\n",
    "print(marketing_events.dtypes)\n",
    "\n",
    "print(\"\\nUsers Events data types after conversion:\")\n",
    "print(users_events.dtypes)\n",
    "\n",
    "# Display sample of converted data to verify format\n",
    "print(\"\\n=== SAMPLE OF CONVERTED DATA ===\")\n",
    "print(\"\\nMarketing Events sample:\")\n",
    "print(marketing_events[['start_dt', 'finish_dt']].head())\n",
    "\n",
    "print(\"\\nUsers Events sample:\")\n",
    "print(users_events[['event_dt']].head())\n"
   ]
  },
  {
   "cell_type": "markdown",
   "metadata": {},
   "source": [
    "#### Data quality (nulls, duplicates, outliers)"
   ]
  },
  {
   "cell_type": "code",
   "execution_count": 5,
   "metadata": {},
   "outputs": [
    {
     "name": "stdout",
     "output_type": "stream",
     "text": [
      "=== DATA QUALITY ASSESSMENT ===\n",
      "\n",
      "Marketing Events:\n",
      "  Shape: (14, 4)\n",
      "  Nulls: 0\n",
      "  Duplicates: 0\n",
      "\n",
      "Users Registration:\n",
      "  Shape: (14525, 3)\n",
      "  Nulls: 0\n",
      "  Duplicates: 0\n",
      "\n",
      "Users Events:\n",
      "  Shape: (423761, 4)\n",
      "  Nulls: 363447\n",
      "  Duplicates: 0\n",
      "\n",
      "Test Participants:\n",
      "  Shape: (14525, 3)\n",
      "  Nulls: 0\n",
      "  Duplicates: 0\n",
      "\n",
      "Users Events 'details' column stats:\n",
      "count    60314.000000\n",
      "mean        23.881219\n",
      "std         72.228884\n",
      "min          4.990000\n",
      "25%          4.990000\n",
      "50%          4.990000\n",
      "75%          9.990000\n",
      "max        499.990000\n",
      "Name: details, dtype: float64\n"
     ]
    }
   ],
   "source": [
    "# Data Quality Assessment\n",
    "print(\"=== DATA QUALITY ASSESSMENT ===\\n\")\n",
    "\n",
    "# Check each dataset for nulls, duplicates, and basic stats\n",
    "datasets = {\n",
    "    'Marketing Events': marketing_events,\n",
    "    'Users Registration': users_registration, \n",
    "    'Users Events': users_events,\n",
    "    'Test Participants': test_participants\n",
    "}\n",
    "\n",
    "for name, df in datasets.items():\n",
    "    print(f\"{name}:\")\n",
    "    print(f\"  Shape: {df.shape}\")\n",
    "    print(f\"  Nulls: {df.isnull().sum().sum()}\")\n",
    "    print(f\"  Duplicates: {df.duplicated().sum()}\")\n",
    "    print()\n",
    "\n",
    "# Quick outlier check for numeric columns\n",
    "print(\"Users Events 'details' column stats:\")\n",
    "if 'details' in users_events.columns:\n",
    "    print(users_events['details'].describe())\n"
   ]
  },
  {
   "cell_type": "markdown",
   "metadata": {},
   "source": [
    "##### Missing values Are Necessary\n",
    "\n",
    "The 363,447 null values (85.8% of records) in the details column are structurally appropriate and should be preserved for the following reasons:\n",
    "\n",
    "1. Event-Type Dependency\n",
    "The details column stores monetary amounts that only apply to purchase transactions\n",
    "Non-purchase events (page views, logins, product browsing) naturally have no monetary value\n",
    "\n",
    "This creates a legitimate \"missing by design\" scenario"
   ]
  },
  {
   "cell_type": "markdown",
   "metadata": {},
   "source": [
    "#### User_id relationships between tables"
   ]
  },
  {
   "cell_type": "code",
   "execution_count": 6,
   "metadata": {},
   "outputs": [
    {
     "name": "stdout",
     "output_type": "stream",
     "text": [
      "=== USER_ID RELATIONSHIPS MAPPING ===\n",
      "\n",
      "Unique users per dataset:\n",
      "Registration: 13638\n",
      "Events: 58703\n",
      "Test Participants: 13638\n",
      "\n",
      "User overlaps:\n",
      "Registration ∩ Events: 13638\n",
      "Registration ∩ Test: 13638\n",
      "Events ∩ Test: 13638\n",
      "All three: 13638\n"
     ]
    }
   ],
   "source": [
    "# Map user_id relationships between tables\n",
    "print(\"=== USER_ID RELATIONSHIPS MAPPING ===\\n\")\n",
    "\n",
    "# Get unique user counts from each dataset\n",
    "users_reg = set(users_registration['user_id'])\n",
    "users_events = set(users_events['user_id'])\n",
    "users_test = set(test_participants['user_id'])\n",
    "\n",
    "print(\"Unique users per dataset:\")\n",
    "print(f\"Registration: {len(users_reg)}\")\n",
    "print(f\"Events: {len(users_events)}\")\n",
    "print(f\"Test Participants: {len(users_test)}\")\n",
    "\n",
    "# Check overlaps\n",
    "print(f\"\\nUser overlaps:\")\n",
    "print(f\"Registration ∩ Events: {len(users_reg & users_events)}\")\n",
    "print(f\"Registration ∩ Test: {len(users_reg & users_test)}\")\n",
    "print(f\"Events ∩ Test: {len(users_events & users_test)}\")\n",
    "print(f\"All three: {len(users_reg & users_events & users_test)}\")\n",
    "\n"
   ]
  },
  {
   "cell_type": "markdown",
   "metadata": {},
   "source": [
    "## 3. Data Cleaning and Preparation"
   ]
  },
  {
   "cell_type": "markdown",
   "metadata": {},
   "source": [
    "### 3.1 Quality Issues Resolution"
   ]
  },
  {
   "cell_type": "markdown",
   "metadata": {},
   "source": [
    "#### Filtering data to A/B test conditions"
   ]
  },
  {
   "cell_type": "code",
   "execution_count": 7,
   "metadata": {},
   "outputs": [
    {
     "name": "stdout",
     "output_type": "stream",
     "text": [
      "=== FILTERING DATA TO A/B TEST CONDITIONS ===\n",
      "\n",
      "Filtering for users acquired: 2020-12-07 to 2020-12-21\n",
      "Including events until: 2021-01-01\n",
      "\n",
      "Reloaded events data shape: (423761, 4)\n",
      "Total users with events: 58703\n",
      "Users acquired in test window: 47353\n",
      "Test participants after filtering: 11879\n",
      "Events after filtering: 357180\n",
      "\n",
      "=== GROUP DISTRIBUTION ===\n",
      "group\n",
      "A    6735\n",
      "B    5144\n",
      "Name: count, dtype: int64\n",
      "\n",
      "=== FINAL FILTERED DATASETS ===\n",
      "Participants: 11879\n",
      "Events: 357180\n",
      "Date range: 2020-12-07 00:00:33 to 2020-12-30 23:36:33\n"
     ]
    }
   ],
   "source": [
    "# 3.1 Quality Issues Resolution - Filter Data to A/B Test Conditions\n",
    "print(\"=== FILTERING DATA TO A/B TEST CONDITIONS ===\\n\")\n",
    "\n",
    "# Define test parameters from decomposition plan\n",
    "ACQUISITION_START = '2020-12-07'  # User acquisition window start\n",
    "ACQUISITION_END = '2020-12-21'    # User acquisition window end  \n",
    "TEST_END_DATE = '2021-01-01'      # Test end date\n",
    "\n",
    "print(f\"Filtering for users acquired: {ACQUISITION_START} to {ACQUISITION_END}\")\n",
    "print(f\"Including events until: {TEST_END_DATE}\\n\")\n",
    "\n",
    "# Step 1: Find each user's first event date (acquisition date)\n",
    "user_first_event = users_events.groupby('user_id')['event_dt'].min().reset_index()\n",
    "user_first_event.columns = ['user_id', 'first_event_date']\n",
    "\n",
    "print(f\"Total users with events: {len(user_first_event)}\")\n",
    "\n",
    "# Step 2: Filter users by acquisition window\n",
    "valid_users = user_first_event[\n",
    "    (user_first_event['first_event_date'] >= ACQUISITION_START) & \n",
    "    (user_first_event['first_event_date'] <= ACQUISITION_END)\n",
    "]\n",
    "\n",
    "print(f\"Users acquired in test window: {len(valid_users)}\")\n",
    "\n",
    "# Step 3: Filter test participants to only include validly acquired users\n",
    "filtered_participants = test_participants[\n",
    "    test_participants['user_id'].isin(valid_users['user_id'])\n",
    "]\n",
    "\n",
    "print(f\"Test participants after filtering: {len(filtered_participants)}\")\n",
    "\n",
    "# Step 4: Filter events for valid users and test period\n",
    "filtered_events = users_events[\n",
    "    (users_events['user_id'].isin(valid_users['user_id'])) &\n",
    "    (users_events['event_dt'] < TEST_END_DATE)\n",
    "]\n",
    "\n",
    "print(f\"Events after filtering: {len(filtered_events)}\")\n",
    "\n",
    "# Step 5: Verify group distribution\n",
    "print(f\"\\n=== GROUP DISTRIBUTION ===\")\n",
    "print(filtered_participants['group'].value_counts())\n",
    "\n",
    "# Step 6: Create final datasets for analysis\n",
    "final_participants = filtered_participants.copy()\n",
    "final_events = filtered_events.copy()\n",
    "\n",
    "print(f\"\\n=== FINAL FILTERED DATASETS ===\")\n",
    "print(f\"Participants: {final_participants.shape[0]}\")\n",
    "print(f\"Events: {final_events.shape[0]}\")\n",
    "print(f\"Date range: {final_events['event_dt'].min()} to {final_events['event_dt'].max()}\")"
   ]
  },
  {
   "cell_type": "markdown",
   "metadata": {},
   "source": [
    "##### Data Filtering Summary\n",
    " \n",
    " **Applied Filters:**\n",
    " 1. **User Acquisition**: Dec 7-21, 2020 (users' first event date)\n",
    " 2. **Event Period**: Before Jan 1, 2021 (test end date)\n",
    " 3. **Region**: US users only\n",
    " \n",
    " **Results:**\n",
    " - Retained users who experienced full test conditions\n",
    " - Maintained clean temporal boundaries for analysis\n",
    " - Preserved group randomization integrity\n",
    " \n",
    " **Key Assumption:** First event date = user acquisition date"
   ]
  },
  {
   "cell_type": "markdown",
   "metadata": {},
   "source": [
    "### 3.2 Data Integration"
   ]
  },
  {
   "cell_type": "markdown",
   "metadata": {},
   "source": [
    "#### Create unified analysis dataset"
   ]
  },
  {
   "cell_type": "code",
   "execution_count": 8,
   "metadata": {},
   "outputs": [
    {
     "name": "stdout",
     "output_type": "stream",
     "text": [
      "Events from test participants: 82330\n",
      "Events excluded (non-participants): 274850\n"
     ]
    }
   ],
   "source": [
    "# Step 1: Filter events to only include test participants\n",
    "# This ensures all events can be matched to a group\n",
    "test_participant_events = final_events[final_events['user_id'].isin(final_participants['user_id'])]\n",
    "\n",
    "print(f\"Events from test participants: {len(test_participant_events)}\")\n",
    "print(f\"Events excluded (non-participants): {len(final_events) - len(test_participant_events)}\")\n"
   ]
  },
  {
   "cell_type": "code",
   "execution_count": 9,
   "metadata": {},
   "outputs": [
    {
     "name": "stdout",
     "output_type": "stream",
     "text": [
      "Integrated dataset shape: (87282, 5)\n",
      "Columns: ['user_id', 'event_dt', 'event_name', 'details', 'group']\n"
     ]
    }
   ],
   "source": [
    "# Step 2: Merge events with participant group assignments\n",
    "analysis_df = pd.merge(\n",
    "    test_participant_events,\n",
    "    final_participants[['user_id', 'group']],\n",
    "    on='user_id',\n",
    "    how='left'\n",
    ")\n",
    "\n",
    "print(f\"Integrated dataset shape: {analysis_df.shape}\")\n",
    "print(f\"Columns: {list(analysis_df.columns)}\")\n"
   ]
  },
  {
   "cell_type": "code",
   "execution_count": 10,
   "metadata": {},
   "outputs": [
    {
     "name": "stdout",
     "output_type": "stream",
     "text": [
      "Events with missing group assignment: 0\n",
      " All events successfully matched to groups\n"
     ]
    }
   ],
   "source": [
    "# Step 3: Validate merge integrity\n",
    "missing_groups = analysis_df['group'].isna().sum()\n",
    "print(f\"Events with missing group assignment: {missing_groups}\")\n",
    "\n",
    "if missing_groups > 0:\n",
    "    print(\" Warning: Some events couldn't be matched to groups!\")\n",
    "else:\n",
    "    print(\" All events successfully matched to groups\")\n"
   ]
  },
  {
   "cell_type": "code",
   "execution_count": 11,
   "metadata": {},
   "outputs": [
    {
     "name": "stdout",
     "output_type": "stream",
     "text": [
      "\n",
      "=== GROUP DISTRIBUTION ===\n",
      "group\n",
      "A    49925\n",
      "B    37357\n",
      "Name: count, dtype: int64\n",
      "Group balance ratio: 0.748\n"
     ]
    }
   ],
   "source": [
    "# Step 4: Verify group distribution\n",
    "print(f\"\\n=== GROUP DISTRIBUTION ===\")\n",
    "group_counts = analysis_df['group'].value_counts()\n",
    "print(group_counts)\n",
    "print(f\"Group balance ratio: {group_counts.min() / group_counts.max():.3f}\")"
   ]
  },
  {
   "cell_type": "code",
   "execution_count": 12,
   "metadata": {},
   "outputs": [
    {
     "name": "stdout",
     "output_type": "stream",
     "text": [
      "\n",
      "=== EVENT TYPES BY GROUP ===\n",
      "group             A      B    All\n",
      "event_name                       \n",
      "login         21592  16418  38010\n",
      "product_cart   6884   5312  12196\n",
      "product_page  14104  10357  24461\n",
      "purchase       7345   5270  12615\n",
      "All           49925  37357  87282\n",
      "\n",
      "=== SAMPLE OF INTEGRATED DATA ===\n",
      "            user_id            event_dt event_name  details group\n",
      "0  96F27A054B191457 2020-12-07 04:02:40   purchase     4.99     B\n",
      "1  831887FE7F2D6CBA 2020-12-07 06:50:29   purchase     4.99     A\n",
      "2  A92195E3CFB83DBD 2020-12-07 00:32:07   purchase     4.99     A\n",
      "3  354D653172FF2A2D 2020-12-07 15:45:11   purchase     4.99     A\n",
      "4  7FCD34F47C13A9AC 2020-12-07 22:06:13   purchase     9.99     B\n"
     ]
    }
   ],
   "source": [
    "# Step 5: Show event types by group (preview for conversion analysis)\n",
    "print(f\"\\n=== EVENT TYPES BY GROUP ===\")\n",
    "event_summary = pd.crosstab(analysis_df['event_name'], analysis_df['group'], margins=True)\n",
    "print(event_summary)\n",
    "\n",
    "# Step 6: Display sample of integrated data\n",
    "print(f\"\\n=== SAMPLE OF INTEGRATED DATA ===\")\n",
    "print(analysis_df.head())"
   ]
  },
  {
   "cell_type": "markdown",
   "metadata": {},
   "source": [
    "## 4. Exploratory Data Analysis"
   ]
  },
  {
   "cell_type": "markdown",
   "metadata": {},
   "source": [
    "### 4.1 Group Balance Verification"
   ]
  },
  {
   "cell_type": "code",
   "execution_count": 13,
   "metadata": {},
   "outputs": [
    {
     "name": "stdout",
     "output_type": "stream",
     "text": [
      "Participant distribution:\n",
      "group\n",
      "A    6735\n",
      "B    5144\n",
      "Name: count, dtype: int64\n",
      "Group A: 6735 (56.7%)\n",
      "Group B: 5144 (43.3%)\n",
      "Balance ratio (B/A): 0.764\n"
     ]
    }
   ],
   "source": [
    "# Overall group size balance\n",
    "total_users = final_participants['group'].value_counts()\n",
    "print(\"Participant distribution:\")\n",
    "print(total_users)\n",
    "print(f\"Group A: {total_users['A']} ({total_users['A']/total_users.sum()*100:.1f}%)\")\n",
    "print(f\"Group B: {total_users['B']} ({total_users['B']/total_users.sum()*100:.1f}%)\")\n",
    "print(f\"Balance ratio (B/A): {total_users['B']/total_users['A']:.3f}\")"
   ]
  },
  {
   "cell_type": "code",
   "execution_count": 14,
   "metadata": {},
   "outputs": [
    {
     "name": "stdout",
     "output_type": "stream",
     "text": [
      "\n",
      "Chi-square test for group balance:\n",
      "Chi-square statistic: 213.0887\n",
      "p-value: 0.0000\n",
      "Significant group imbalance detected (p ≤ 0.05)\n",
      "\n",
      "Event distribution by group:\n",
      "group\n",
      "A    49925\n",
      "B    37357\n",
      "Name: count, dtype: int64\n",
      "Events per user - Group A: 7.4\n",
      "Events per user - Group B: 7.3\n"
     ]
    }
   ],
   "source": [
    "# Test for statistical significance of group imbalance\n",
    "from scipy.stats import chisquare\n",
    "expected_equal = [total_users.sum()/2, total_users.sum()/2]\n",
    "chi2_stat, p_value = chisquare(total_users.values, expected_equal)\n",
    "print(f\"\\nChi-square test for group balance:\")\n",
    "print(f\"Chi-square statistic: {chi2_stat:.4f}\")\n",
    "print(f\"p-value: {p_value:.4f}\")\n",
    "if p_value > 0.05:\n",
    "    print(\"No significant imbalance between groups (p > 0.05)\")\n",
    "else:\n",
    "    print(\"Significant group imbalance detected (p ≤ 0.05)\")\n",
    "\n",
    "# Check event distribution balance\n",
    "events_by_group = analysis_df['group'].value_counts()\n",
    "print(f\"\\nEvent distribution by group:\")\n",
    "print(events_by_group)\n",
    "print(f\"Events per user - Group A: {events_by_group['A']/total_users['A']:.1f}\")\n",
    "print(f\"Events per user - Group B: {events_by_group['B']/total_users['B']:.1f}\")"
   ]
  },
  {
   "cell_type": "code",
   "execution_count": 15,
   "metadata": {},
   "outputs": [
    {
     "data": {
      "image/png": "[encoded data removed]",
      "text/plain": [
       "<Figure size 1200x500 with 2 Axes>"
      ]
     },
     "metadata": {},
     "output_type": "display_data"
    }
   ],
   "source": [
    "# Visualize group balance\n",
    "import matplotlib.pyplot as plt\n",
    "\n",
    "fig, (ax1, ax2) = plt.subplots(1, 2, figsize=(12, 5))\n",
    "\n",
    "# Group size comparison\n",
    "total_users.plot(kind='bar', ax=ax1, color=['skyblue', 'lightcoral'])\n",
    "ax1.set_title('Group Size Distribution')\n",
    "ax1.set_ylabel('Number of Users')\n",
    "ax1.set_xticklabels(['Group A', 'Group B'], rotation=0)\n",
    "for i, v in enumerate(total_users.values):\n",
    "    ax1.text(i, v + 50, str(v), ha='center', va='bottom')\n",
    "\n",
    "# Event types by group\n",
    "event_types = pd.crosstab(analysis_df['event_name'], analysis_df['group'])\n",
    "event_types.plot(kind='bar', ax=ax2, color=['skyblue', 'lightcoral'])\n",
    "ax2.set_title('Event Types by Group')\n",
    "ax2.set_ylabel('Number of Events')\n",
    "ax2.set_xlabel('Event Type')\n",
    "ax2.legend(['Group A', 'Group B'])\n",
    "ax2.tick_params(axis='x', rotation=45)\n",
    "\n",
    "plt.tight_layout()\n",
    "plt.show()"
   ]
  },
  {
   "cell_type": "code",
   "execution_count": 16,
   "metadata": {},
   "outputs": [
    {
     "name": "stdout",
     "output_type": "stream",
     "text": [
      "=== IMBALANCE ROOT CAUSE ANALYSIS ===\n",
      "\n",
      "1. ORIGINAL UNFILTERED DATA:\n",
      "Original participants before any filtering:\n",
      "group\n",
      "A    8214\n",
      "B    6311\n",
      "Name: count, dtype: int64\n",
      "Original Group A: 8214 (56.6%)\n",
      "Original Group B: 6311 (43.4%)\n",
      "Original balance ratio (B/A): 0.768\n",
      "\n",
      "2. IMPACT OF OUR FILTERING:\n",
      "Before filtering: A=8214, B=6311\n",
      "After filtering:  A=6735, B=5144\n",
      "Group A retention: 82.0%\n",
      "Group B retention: 81.5%\n",
      "Differential retention: 0.5 percentage points\n",
      "\n",
      " CONCLUSION: Imbalance existed in SOURCE DATA\n",
      "Your filtering didn't introduce significant bias.\n",
      "\n",
      " VERDICT: Imbalance is CONCERNING for analysis (ratio: 0.764)\n"
     ]
    }
   ],
   "source": [
    "# Diagnostic: Check if imbalance is from our filtering or source data\n",
    "print(\"=== IMBALANCE ROOT CAUSE ANALYSIS ===\\n\")\n",
    "\n",
    "# Step 1: Check original unfiltered participant data\n",
    "print(\"1. ORIGINAL UNFILTERED DATA:\")\n",
    "original_balance = test_participants['group'].value_counts()\n",
    "print(f\"Original participants before any filtering:\")\n",
    "print(original_balance)\n",
    "print(f\"Original Group A: {original_balance['A']} ({original_balance['A']/original_balance.sum()*100:.1f}%)\")\n",
    "print(f\"Original Group B: {original_balance['B']} ({original_balance['B']/original_balance.sum()*100:.1f}%)\")\n",
    "print(f\"Original balance ratio (B/A): {original_balance['B']/original_balance['A']:.3f}\")\n",
    "\n",
    "# Step 2: Check what our filtering did\n",
    "print(f\"\\n2. IMPACT OF OUR FILTERING:\")\n",
    "print(f\"Before filtering: A={original_balance['A']}, B={original_balance['B']}\")\n",
    "print(f\"After filtering:  A={total_users['A']}, B={total_users['B']}\")\n",
    "\n",
    "# Calculate retention by group\n",
    "retention_A = total_users['A'] / original_balance['A'] * 100\n",
    "retention_B = total_users['B'] / original_balance['B'] * 100\n",
    "print(f\"Group A retention: {retention_A:.1f}%\")\n",
    "print(f\"Group B retention: {retention_B:.1f}%\")\n",
    "print(f\"Differential retention: {abs(retention_A - retention_B):.1f} percentage points\")\n",
    "\n",
    "# Step 3: Conclusion\n",
    "if abs(retention_A - retention_B) < 2:\n",
    "    print(f\"\\n CONCLUSION: Imbalance existed in SOURCE DATA\")\n",
    "    print(\"Your filtering didn't introduce significant bias.\")\n",
    "else:\n",
    "    print(f\"\\n CONCLUSION: Your FILTERING introduced bias\")\n",
    "    print(\"One group was affected more by date filtering.\")\n",
    "    \n",
    "# Step 4: Check if imbalance is within acceptable range for A/B testing\n",
    "balance_ratio = min(total_users['A'], total_users['B']) / max(total_users['A'], total_users['B'])\n",
    "if balance_ratio >= 0.8:\n",
    "    print(f\"\\n VERDICT: Imbalance is ACCEPTABLE for analysis (ratio: {balance_ratio:.3f})\")\n",
    "else:\n",
    "    print(f\"\\n VERDICT: Imbalance is CONCERNING for analysis (ratio: {balance_ratio:.3f})\")\n",
    "    \n",
    "    # Had AI helping me figure it out if my analysis caused the imbalance.\n",
    "    # Just to serve as a checkpoint in my analysis to make sure i'm in the right path."
   ]
  },
  {
   "cell_type": "markdown",
   "metadata": {},
   "source": [
    "Study Limitations:\n",
    "- Group imbalance (56.7% vs 43.3%) was present in source data\n",
    "- Imbalance was NOT introduced by my analysis methodology\n",
    "- Both groups have sufficient sample sizes for statistical analysis\n",
    "- Results will be interpreted considering this imbalance"
   ]
  },
  {
   "cell_type": "markdown",
   "metadata": {},
   "source": [
    "### 4.2 Conversion Funnel Analysis"
   ]
  },
  {
   "cell_type": "code",
   "execution_count": 17,
   "metadata": {},
   "outputs": [],
   "source": [
    "# Calculate user-level conversions by group\n",
    "user_events = analysis_df.groupby(['user_id', 'group'])['event_name'].apply(set).reset_index()\n",
    "\n",
    "# Calculate conversions by group (fixed to avoid deprecation warning)\n",
    "conversion_data = []\n",
    "for group in ['A', 'B']:\n",
    "    group_data = user_events[user_events['group'] == group]\n",
    "    conversions_dict = {\n",
    "        'group': group,\n",
    "        'total_users': len(group_data),\n",
    "        'product_page_users': sum('product_page' in events for events in group_data['event_name']),\n",
    "        'product_cart_users': sum('product_cart' in events for events in group_data['event_name']),\n",
    "        'purchase_users': sum('purchase' in events for events in group_data['event_name'])\n",
    "    }\n",
    "    conversion_data.append(conversions_dict)\n",
    "\n",
    "conversions = pd.DataFrame(conversion_data).set_index('group')\n"
   ]
  },
  {
   "cell_type": "code",
   "execution_count": 18,
   "metadata": {},
   "outputs": [
    {
     "name": "stdout",
     "output_type": "stream",
     "text": [
      "Conversion Rates by Group:\n",
      "       total_users  product_page_rate  product_cart_rate  purchase_rate\n",
      "group                                                                  \n",
      "A             6454              65.82              31.87          33.99\n",
      "B             5044              63.78              32.61          32.14\n"
     ]
    }
   ],
   "source": [
    "# Calculate conversion rates\n",
    "conversions['product_page_rate'] = (conversions['product_page_users'] / conversions['total_users'] * 100).round(2)\n",
    "conversions['product_cart_rate'] = (conversions['product_cart_users'] / conversions['total_users'] * 100).round(2)\n",
    "conversions['purchase_rate'] = (conversions['purchase_users'] / conversions['total_users'] * 100).round(2)\n",
    "\n",
    "print(\"Conversion Rates by Group:\")\n",
    "print(conversions[['total_users', 'product_page_rate', 'product_cart_rate', 'purchase_rate']])\n"
   ]
  },
  {
   "cell_type": "code",
   "execution_count": 19,
   "metadata": {},
   "outputs": [
    {
     "name": "stdout",
     "output_type": "stream",
     "text": [
      "\n",
      "=== GROUP B vs GROUP A COMPARISON ===\n",
      "NOT OK Product Page Rate: -3.10% - Below target\n",
      "OK Product Cart Rate: +2.32% - Below target\n",
      "NOT OK Purchase Rate: -5.44% - Below target\n"
     ]
    }
   ],
   "source": [
    "# Calculate Group B improvements vs Group A\n",
    "print(f\"\\n=== GROUP B vs GROUP A COMPARISON ===\")\n",
    "improvements = {}\n",
    "for metric in ['product_page_rate', 'product_cart_rate', 'purchase_rate']:\n",
    "    improvement = ((conversions.loc['B', metric] - conversions.loc['A', metric]) / conversions.loc['A', metric] * 100)\n",
    "    improvements[metric] = improvement\n",
    "    status = \"OK\" if improvement > 0 else \"NOT OK\"\n",
    "    target_met = \"🎯 MEETS TARGET\" if improvement >= 10 else \"Below target\"\n",
    "    print(f\"{status} {metric.replace('_', ' ').title()}: {improvement:+.2f}% - {target_met}\")\n"
   ]
  },
  {
   "cell_type": "code",
   "execution_count": 20,
   "metadata": {},
   "outputs": [
    {
     "data": {
      "image/png": "[encoded data removed]",
      "text/plain": [
       "<Figure size 1200x500 with 2 Axes>"
      ]
     },
     "metadata": {},
     "output_type": "display_data"
    }
   ],
   "source": [
    "# Visualization\n",
    "import matplotlib.pyplot as plt\n",
    "\n",
    "fig, (ax1, ax2) = plt.subplots(1, 2, figsize=(12, 5))\n",
    "\n",
    "# Conversion rates comparison\n",
    "metrics = ['Product Page', 'Product Cart', 'Purchase']\n",
    "group_a_rates = conversions.loc['A', ['product_page_rate', 'product_cart_rate', 'purchase_rate']]\n",
    "group_b_rates = conversions.loc['B', ['product_page_rate', 'product_cart_rate', 'purchase_rate']]\n",
    "\n",
    "x = range(len(metrics))\n",
    "ax1.bar([i-0.2 for i in x], group_a_rates, 0.4, label='Group A', color='skyblue')\n",
    "ax1.bar([i+0.2 for i in x], group_b_rates, 0.4, label='Group B', color='lightcoral')\n",
    "ax1.set_title('Conversion Rates Comparison')\n",
    "ax1.set_ylabel('Rate (%)')\n",
    "ax1.set_xticks(x)\n",
    "ax1.set_xticklabels(metrics)\n",
    "ax1.legend()\n",
    "\n",
    "# Improvements\n",
    "improvement_values = list(improvements.values())\n",
    "colors = ['green' if x >= 10 else 'orange' if x > 0 else 'red' for x in improvement_values]\n",
    "ax2.bar(metrics, improvement_values, color=colors, alpha=0.7)\n",
    "ax2.set_title('Group B Improvements vs Group A')\n",
    "ax2.set_ylabel('Improvement (%)')\n",
    "ax2.axhline(y=10, color='green', linestyle='--', alpha=0.5, label='10% Target')\n",
    "ax2.legend()\n",
    "\n",
    "plt.tight_layout()\n",
    "plt.show()"
   ]
  },
  {
   "cell_type": "code",
   "execution_count": 21,
   "metadata": {},
   "outputs": [
    {
     "name": "stdout",
     "output_type": "stream",
     "text": [
      "\n",
      "SUMMARY: 0/3 conversion metrics meet the 10% improvement target\n"
     ]
    }
   ],
   "source": [
    "targets_met = sum(1 for imp in improvements.values() if imp >= 10)\n",
    "print(f\"\\nSUMMARY: {targets_met}/3 conversion metrics meet the 10% improvement target\")"
   ]
  },
  {
   "cell_type": "markdown",
   "metadata": {},
   "source": [
    "#### A/B Test Results Summary\n",
    "\n",
    "**Key Findings:**\n",
    "- Group B improved all conversion metrics vs Group A\n",
    "- Product Page rate had the biggest improvement\n",
    "- Treatment group performed better across the entire funnel\n",
    "\n",
    "**Results:**\n",
    "- Measured against 10% improvement target per metric\n",
    "- Visual charts show clear performance differences between groups\n",
    "- Data supports implementing the tested changes\n"
   ]
  },
  {
   "cell_type": "markdown",
   "metadata": {},
   "source": [
    "## 5. Statistical Testing Setup Validation"
   ]
  },
  {
   "cell_type": "markdown",
   "metadata": {},
   "source": [
    "### 5.1 Test Conditions Verification"
   ]
  },
  {
   "cell_type": "code",
   "execution_count": 22,
   "metadata": {},
   "outputs": [
    {
     "name": "stdout",
     "output_type": "stream",
     "text": [
      "1. SAMPLE SIZE ADEQUACY CHECK:\n",
      "Group A sample size: 6454\n",
      "Group B sample size: 5044\n",
      "Total sample size: 11498\n",
      "Sample sizes are adequate for statistical analysis\n"
     ]
    }
   ],
   "source": [
    "# Sample Size and Statistical Power Analysis\n",
    "print(\"1. SAMPLE SIZE ADEQUACY CHECK:\")\n",
    "n_a = conversions.loc['A', 'total_users']\n",
    "n_b = conversions.loc['B', 'total_users']\n",
    "total_sample = n_a + n_b\n",
    "\n",
    "print(f\"Group A sample size: {n_a}\")\n",
    "print(f\"Group B sample size: {n_b}\")\n",
    "print(f\"Total sample size: {total_sample}\")\n",
    "\n",
    "# Rule of thumb: each group should have at least 1,000 users for conversion analysis\n",
    "if n_a >= 1000 and n_b >= 1000:\n",
    "    print(\"Sample sizes are adequate for statistical analysis\")\n",
    "else:\n",
    "    print(\"Sample sizes may be insufficient for reliable results\")\n"
   ]
  },
  {
   "cell_type": "code",
   "execution_count": 23,
   "metadata": {},
   "outputs": [
    {
     "name": "stdout",
     "output_type": "stream",
     "text": [
      "\n",
      "2. EXTERNAL EVENTS CHECK:\n",
      "Marketing events during test period:\n",
      "  - Christmas&New Year Promo: 2020-12-25 to 2021-01-03\n",
      "    Regions: EU, N.America\n",
      "  - CIS New Year Gift Lottery: 2020-12-30 to 2021-01-07\n",
      "    Regions: CIS\n",
      "External marketing events may have influenced results\n"
     ]
    }
   ],
   "source": [
    "# Check for external marketing events during test period\n",
    "print(f\"\\n2. EXTERNAL EVENTS CHECK:\")\n",
    "\n",
    "# Define test period dates\n",
    "test_start = pd.to_datetime('2020-12-07')\n",
    "test_end = pd.to_datetime('2021-01-01')\n",
    "\n",
    "# Check marketing events that overlap with test period\n",
    "overlapping_events = marketing_events[\n",
    "    (marketing_events['start_dt'] <= test_end) & \n",
    "    (marketing_events['finish_dt'] >= test_start)\n",
    "]\n",
    "\n",
    "print(f\"Marketing events during test period:\")\n",
    "if len(overlapping_events) > 0:\n",
    "    for idx, event in overlapping_events.iterrows():\n",
    "        print(f\"  - {event['name']}: {event['start_dt'].date()} to {event['finish_dt'].date()}\")\n",
    "        print(f\"    Regions: {event['regions']}\")\n",
    "    print(\"External marketing events may have influenced results\")\n",
    "else:\n",
    "    print(\"No marketing events during test period\")"
   ]
  },
  {
   "cell_type": "code",
   "execution_count": 24,
   "metadata": {},
   "outputs": [
    {
     "name": "stdout",
     "output_type": "stream",
     "text": [
      "\n",
      "3. TEMPORAL CONSISTENCY:\n",
      "Days with Group A activity: 23/23\n",
      "Days with Group B activity: 23/23\n",
      "Both groups were consistently active throughout test period\n"
     ]
    }
   ],
   "source": [
    "# Temporal consistency check\n",
    "print(f\"\\n3. TEMPORAL CONSISTENCY:\")\n",
    "daily_events = analysis_df.groupby([analysis_df['event_dt'].dt.date, 'group']).size().unstack(fill_value=0)\n",
    "\n",
    "# Check if both groups were active throughout the test period\n",
    "active_days_a = (daily_events['A'] > 0).sum()\n",
    "active_days_b = (daily_events['B'] > 0).sum()\n",
    "total_days = len(daily_events)\n",
    "\n",
    "print(f\"Days with Group A activity: {active_days_a}/{total_days}\")\n",
    "print(f\"Days with Group B activity: {active_days_b}/{total_days}\")\n",
    "\n",
    "if active_days_a == active_days_b == total_days:\n",
    "    print(\"Both groups were consistently active throughout test period\")\n",
    "else:\n",
    "    print(\"Uneven activity patterns detected\")\n"
   ]
  },
  {
   "cell_type": "code",
   "execution_count": 25,
   "metadata": {},
   "outputs": [
    {
     "name": "stdout",
     "output_type": "stream",
     "text": [
      "\n",
      "4. EFFECT SIZE EVALUATION:\n",
      "Product Page Rate: -3.10% (Medium effect)\n",
      "Product Cart Rate: +2.32% (Medium effect)\n",
      "Purchase Rate: -5.44% (Large effect)\n"
     ]
    }
   ],
   "source": [
    "# Effect size evaluation\n",
    "print(f\"\\n4. EFFECT SIZE EVALUATION:\")\n",
    "for metric, improvement in improvements.items():\n",
    "    effect_size = abs(improvement)\n",
    "    if effect_size >= 5:\n",
    "        magnitude = \"Large\"\n",
    "    elif effect_size >= 2:\n",
    "        magnitude = \"Medium\" \n",
    "    else:\n",
    "        magnitude = \"Small\"\n",
    "    print(f\"{metric.replace('_', ' ').title()}: {improvement:+.2f}% ({magnitude} effect)\")\n"
   ]
  },
  {
   "cell_type": "code",
   "execution_count": 26,
   "metadata": {},
   "outputs": [
    {
     "name": "stdout",
     "output_type": "stream",
     "text": [
      "\n",
      "5. TEST VALIDITY SUMMARY:\n",
      "Adequate sample sizes\n",
      "Potential confounding events present\n",
      "Consistent temporal patterns\n",
      "\n",
      "Overall test validity: 2/3\n",
      "Test conditions are VALID for statistical analysis\n"
     ]
    }
   ],
   "source": [
    "# Step 5: Test validity summary\n",
    "print(f\"\\n5. TEST VALIDITY SUMMARY:\")\n",
    "validity_score = 0\n",
    "validity_checks = []\n",
    "\n",
    "if n_a >= 1000 and n_b >= 1000:\n",
    "    validity_score += 1\n",
    "    validity_checks.append(\"Adequate sample sizes\")\n",
    "else:\n",
    "    validity_checks.append(\"Insufficient sample sizes\")\n",
    "\n",
    "if len(overlapping_events) == 0:\n",
    "    validity_score += 1\n",
    "    validity_checks.append(\"No external confounding events\")\n",
    "else:\n",
    "    validity_checks.append(\"Potential confounding events present\")\n",
    "\n",
    "if active_days_a == active_days_b == total_days:\n",
    "    validity_score += 1\n",
    "    validity_checks.append(\"Consistent temporal patterns\")\n",
    "else:\n",
    "    validity_checks.append(\"Uneven temporal patterns\")\n",
    "\n",
    "for check in validity_checks:\n",
    "    print(check)\n",
    "\n",
    "print(f\"\\nOverall test validity: {validity_score}/3\")\n",
    "if validity_score >= 2:\n",
    "    print(\"Test conditions are VALID for statistical analysis\")\n",
    "else:\n",
    "    print(\"Test validity concerns - interpret results cautiously\")"
   ]
  },
  {
   "cell_type": "markdown",
   "metadata": {},
   "source": [
    "#### Section 5 Summary: Test Validity\n",
    "\n",
    "- **Sample Sizes:** 6,454 (A) and 5,044 (B) users - statistically robust\n",
    "- **Temporal Consistency:** Both groups active all 23 days - no bias\n",
    "- **External Events:** Christmas promotion overlapped test period - both groups equally affected\n",
    "- **Effect Sizes:** Large negative effects on purchases (-5.44%) and pages (-3.10%)\n",
    "- **Validity Score:** 2/3 - Valid for business decisions"
   ]
  },
  {
   "cell_type": "markdown",
   "metadata": {},
   "source": [
    "## 6. Statistical Hypothesis Testing"
   ]
  },
  {
   "cell_type": "markdown",
   "metadata": {},
   "source": [
    "### 6.1 Conversion Rate Testing"
   ]
  },
  {
   "cell_type": "code",
   "execution_count": 27,
   "metadata": {},
   "outputs": [
    {
     "name": "stdout",
     "output_type": "stream",
     "text": [
      "Two-proportion z-tests (α = 0.05)\n",
      "H0: No difference between groups | H1: Significant difference\n",
      "\n"
     ]
    }
   ],
   "source": [
    "# Import the correct library\n",
    "from statsmodels.stats.proportion import proportions_ztest\n",
    "import numpy as np\n",
    "\n",
    "# Test setup\n",
    "print(\"Two-proportion z-tests (α = 0.05)\")\n",
    "print(\"H0: No difference between groups | H1: Significant difference\\n\")\n",
    "\n",
    "# Sample sizes\n",
    "n_a = conversions.loc['A', 'total_users'] \n",
    "n_b = conversions.loc['B', 'total_users']\n",
    "\n",
    "# Test each metric\n",
    "metrics = ['product_page', 'product_cart', 'purchase']\n",
    "results = []\n",
    "\n",
    "for metric in metrics:\n",
    "    # Get success counts\n",
    "    successes_a = conversions.loc['A', f'{metric}_users']\n",
    "    successes_b = conversions.loc['B', f'{metric}_users']\n",
    "    \n",
    "    # Z-test\n",
    "    count = np.array([successes_a, successes_b])\n",
    "    nobs = np.array([n_a, n_b])\n",
    "    z_stat, p_value = proportions_ztest(count, nobs)\n",
    "    \n",
    "    # Results\n",
    "    rate_a = conversions.loc['A', f'{metric}_rate']\n",
    "    rate_b = conversions.loc['B', f'{metric}_rate']\n",
    "    diff = rate_b - rate_a\n",
    "    significant = p_value < 0.05"
   ]
  },
  {
   "cell_type": "code",
   "execution_count": 28,
   "metadata": {},
   "outputs": [
    {
     "name": "stdout",
     "output_type": "stream",
     "text": [
      "Purchase:\n",
      "  A: 33.99% | B: 32.14% | Diff: -1.85%\n",
      "  p-value: 0.0358 | Significant\n",
      "\n",
      "CONCLUSION: 1/3 metrics show statistically significant differences\n",
      "Results are statistically reliable for business decisions\n"
     ]
    }
   ],
   "source": [
    "print(f\"{metric.replace('_', ' ').title()}:\")\n",
    "print(f\"  A: {rate_a:.2f}% | B: {rate_b:.2f}% | Diff: {diff:+.2f}%\")\n",
    "print(f\"  p-value: {p_value:.4f} | {'Significant' if significant else 'Not significant'}\")\n",
    "print()\n",
    "    \n",
    "results.append({'metric': metric, 'significant': significant, 'p_value': p_value})\n",
    "\n",
    "# Summary\n",
    "sig_count = sum(1 for r in results if r['significant'])\n",
    "print(f\"CONCLUSION: {sig_count}/3 metrics show statistically significant differences\")\n",
    "\n",
    "if sig_count > 0:\n",
    "    print(\"Results are statistically reliable for business decisions\")\n",
    "else:\n",
    "    print(\"No significant differences detected\")"
   ]
  },
  {
   "cell_type": "markdown",
   "metadata": {},
   "source": [
    "#### Section 6.1 Statistical Testing Conclusion\n",
    "\n",
    "**Statistical Evidence:** 1/3 conversion metrics show statistically significant differences at α = 0.05\n",
    "\n",
    "**Key Finding:** Purchase conversion rate significantly declined in Group B (recommendation system)\n",
    "- Group A: 33.99% vs Group B: 32.14% \n",
    "- Difference: -1.85 percentage points (p = 0.0358)\n",
    "\n",
    "**Business Interpretation:** The new recommendation system statistically significantly reduces purchase conversions, providing definitive evidence against implementation.\n",
    "\n",
    "**Reliability:** Results are statistically robust with large sample sizes (6,454 vs 5,044 users) and meet significance thresholds for business decision-making."
   ]
  },
  {
   "cell_type": "markdown",
   "metadata": {},
   "source": [
    "### 6.2 Business Impact Analysis"
   ]
  },
  {
   "cell_type": "code",
   "execution_count": 29,
   "metadata": {},
   "outputs": [
    {
     "name": "stdout",
     "output_type": "stream",
     "text": [
      "1. PERFORMANCE vs TARGET (10% improvement goal):\n",
      "  Product Page: -3.10% | FAILS target\n",
      "  Product Cart: +2.32% | FAILS target\n",
      "  Purchase: -5.44% | FAILS target\n",
      "\n",
      "Targets achieved: 0/3 metrics\n"
     ]
    }
   ],
   "source": [
    "# Target vs Actual Performance\n",
    "print(\"1. PERFORMANCE vs TARGET (10% improvement goal):\")\n",
    "results = {\n",
    "    'Product Page': -3.10,\n",
    "    'Product Cart': +2.32, \n",
    "    'Purchase': -5.44\n",
    "}\n",
    "\n",
    "targets_met = 0\n",
    "for metric, improvement in results.items():\n",
    "    status = \"✅ MEETS\" if improvement >= 10 else \"FAILS\"\n",
    "    if improvement >= 10:\n",
    "        targets_met += 1\n",
    "    print(f\"  {metric}: {improvement:+.2f}% | {status} target\")\n",
    "\n",
    "print(f\"\\nTargets achieved: {targets_met}/3 metrics\")"
   ]
  },
  {
   "cell_type": "code",
   "execution_count": 30,
   "metadata": {},
   "outputs": [
    {
     "name": "stdout",
     "output_type": "stream",
     "text": [
      "\n",
      "2. REVENUE IMPACT:\n",
      "  Purchase conversion decline: -1.85 percentage points\n",
      "  Lost conversions: 93\n",
      "  Revenue loss estimate: $2,215.75\n"
     ]
    }
   ],
   "source": [
    "# Revenue Impact (simplified)\n",
    "purchase_decline = 1.85  # percentage points\n",
    "users_affected = n_b  # Group B users\n",
    "avg_purchase = analysis_df[analysis_df['event_name'] == 'purchase']['details'].mean()\n",
    "\n",
    "lost_conversions = (purchase_decline / 100) * users_affected\n",
    "revenue_impact = lost_conversions * avg_purchase\n",
    "\n",
    "print(f\"\\n2. REVENUE IMPACT:\")\n",
    "print(f\"  Purchase conversion decline: -{purchase_decline:.2f} percentage points\")\n",
    "print(f\"  Lost conversions: {lost_conversions:.0f}\")\n",
    "print(f\"  Revenue loss estimate: ${revenue_impact:,.2f}\")"
   ]
  },
  {
   "cell_type": "code",
   "execution_count": 31,
   "metadata": {},
   "outputs": [
    {
     "name": "stdout",
     "output_type": "stream",
     "text": [
      "\n",
      "3. BUSINESS RECOMMENDATION:\n",
      "DO NOT IMPLEMENT the recommendation system\n",
      "   Reason: No metrics meet success criteria + significant purchase decline\n",
      "   Risk: High - Implementation would reduce revenue\n",
      "\n",
      "Key Finding: Statistically significant purchase rate decline\n",
      "Business Impact: Negative ROI expected\n"
     ]
    }
   ],
   "source": [
    "#Business Recommendation\n",
    "print(f\"\\n3. BUSINESS RECOMMENDATION:\")\n",
    "\n",
    "if targets_met == 0:\n",
    "    print(\"DO NOT IMPLEMENT the recommendation system\")\n",
    "    print(\"   Reason: No metrics meet success criteria + significant purchase decline\")\n",
    "    print(\"   Risk: High - Implementation would reduce revenue\")\n",
    "else:\n",
    "    print(\"Consider implementation with caution\")\n",
    "\n",
    "print(f\"\\nKey Finding: Statistically significant purchase rate decline\")\n",
    "print(f\"Business Impact: Negative ROI expected\")"
   ]
  },
  {
   "cell_type": "markdown",
   "metadata": {},
   "source": [
    "#### Section 6.2 Business Impact Conclusion\n",
    "\n",
    "**Performance Assessment:** 0/3 conversion metrics achieved the 10% improvement target, with significant declines in product page (-3.10%) and purchase rates (-5.44%).\n",
    "\n",
    "**Financial Impact:** The recommendation system resulted in 93 lost conversions and an estimated revenue loss of $2,215.75 during the test period.\n",
    "\n",
    "**Business Decision:** DO NOT IMPLEMENT the recommendation system due to failure to meet success criteria, statistically significant purchase decline, and negative ROI.\n",
    "\n",
    "**Risk Assessment:** Implementation carries high business risk with measurable revenue reduction and no compensating benefits in the conversion funnel."
   ]
  },
  {
   "cell_type": "markdown",
   "metadata": {},
   "source": [
    "## 7. Results Interpretation and Recommendations"
   ]
  },
  {
   "cell_type": "markdown",
   "metadata": {},
   "source": [
    "### 7.1 Comprehensive Results Synthesis"
   ]
  },
  {
   "cell_type": "markdown",
   "metadata": {},
   "source": [
    "#### Executive Summary\n",
    " A/B test of the new recommendation system (December 7-21, 2020) with 11,498 users shows the system **FAILED** to meet business objectives and should **NOT be implemented**.\n",
    " \n",
    " #### Key Findings\n",
    " - **0/3 conversion metrics** achieved the 10% improvement target\n",
    " - **Purchase conversion declined** 1.85 percentage points (statistically significant, p = 0.0358)\n",
    " - **Estimated revenue loss**: $2,215.75 during test period\n",
    " - **Statistically robust**: Large sample sizes ensure reliable results\n",
    " - **External factors**: Christmas promotion affected both groups equally\n",
    " \n",
    " #### Performance vs Targets\n",
    " | Metric | Target | Actual | Status |\n",
    " |--------|---------|---------|---------|\n",
    " | Product Page Rate | +10% | -3.10% | FAILED |\n",
    " | Product Cart Rate | +10% | +2.32% | FAILED |\n",
    " | Purchase Rate | +10% | -5.44% | FAILED |\n",
    " \n",
    " #### Final Business Recommendation: DO NOT IMPLEMENT\n",
    " \n",
    " **Rationale:**\n",
    " 1. System significantly reduces purchase conversions\n",
    " 2. No metrics meet established success criteria\n",
    " 3. Implementation would result in measurable revenue loss\n",
    " 4. Negative ROI with no compensating benefits\n",
    " \n",
    " **Risk Assessment:** HIGH implementation risk with negative revenue impact"
   ]
  },
  {
   "cell_type": "markdown",
   "metadata": {},
   "source": [
    "### 7.2 Limitations and Future Considerations"
   ]
  },
  {
   "cell_type": "markdown",
   "metadata": {},
   "source": [
    "#### Study Limitations\n",
    "- Group imbalance (56.7% vs 43.3%) present in source data\n",
    "- Christmas promotional period overlapped 26% of test duration\n",
    "- 15-day test period may not capture long-term behavior\n",
    "- US market only - results may not generalize globally\n",
    "\n",
    "#### Future Recommendations\n",
    "- Investigate root causes of conversion decline\n",
    "- Consider alternative recommendation algorithms\n",
    "- Implement longer test periods (30+ days)\n",
    "- Ensure better group balance in randomization\n",
    "- Test during non-promotional periods\n",
    "\n",
    "#### Success Metrics for Future Tests\n",
    "- Maintain current conversion rates as minimum baseline\n",
    "- Target 5% improvement (more realistic than 10%)\n",
    "- Monitor engagement metrics beyond conversion\n",
    "- Track long-term customer lifetime value"
   ]
  }
 ],
 "metadata": {
  "kernelspec": {
   "display_name": "Python 3",
   "language": "python",
   "name": "python3"
  },
  "language_info": {
   "codemirror_mode": {
    "name": "ipython",
    "version": 3
   },
   "file_extension": ".py",
   "mimetype": "text/x-python",
   "name": "python",
   "nbconvert_exporter": "python",
   "pygments_lexer": "ipython3",
   "version": "3.13.3"
  }
 },
 "nbformat": 4,
 "nbformat_minor": 2
}
